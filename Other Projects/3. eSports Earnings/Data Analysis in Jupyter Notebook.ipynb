{
 "cells": [
  {
   "cell_type": "markdown",
   "id": "f5405992-e62a-4090-a98c-9acc7a69ef13",
   "metadata": {},
   "source": [
    "#  <b>╭</b> <u>eSports Earnings - Data Analysis</u> <b>╮</b>"
   ]
  },
  {
   "cell_type": "markdown",
   "id": "6aa203af-3c30-4e38-94cb-4865788791c4",
   "metadata": {},
   "source": [
    "## ¤ Import necessary Libraries"
   ]
  },
  {
   "cell_type": "code",
   "execution_count": 1,
   "id": "2ea5a368-5618-43f8-b01b-f7db57455c39",
   "metadata": {},
   "outputs": [],
   "source": [
    "import numpy as np\n",
    "import pandas as pd\n",
    "import matplotlib.pyplot as plt\n",
    "\n",
    "%matplotlib inline"
   ]
  },
  {
   "cell_type": "markdown",
   "id": "7f763d66-cabe-4d49-9f65-501090f75e0d",
   "metadata": {},
   "source": [
    "#### ⭒ Format options"
   ]
  },
  {
   "cell_type": "code",
   "execution_count": 2,
   "id": "5ee18f53-112a-4e5c-bdb0-062b93de4da2",
   "metadata": {},
   "outputs": [],
   "source": [
    "pd.options.display.float_format = '{:,.2f}'.format"
   ]
  },
  {
   "cell_type": "code",
   "execution_count": 3,
   "id": "1a15bdec-7e87-4e86-9562-5af65519f82e",
   "metadata": {},
   "outputs": [],
   "source": [
    "plt.style.use('seaborn')"
   ]
  },
  {
   "cell_type": "code",
   "execution_count": 4,
   "id": "b8700885-1052-46fe-a73f-d0084636ae83",
   "metadata": {},
   "outputs": [],
   "source": [
    "#plt.style.available"
   ]
  },
  {
   "cell_type": "code",
   "execution_count": 5,
   "id": "31acff60-5884-4d34-962d-40eb47a5ec3a",
   "metadata": {},
   "outputs": [],
   "source": [
    "# bold/underline text format\n",
    "format_underline = '\\033[4m'\n",
    "format_bold = '\\033[1m'\n",
    "format_end = '\\033[0m'"
   ]
  },
  {
   "cell_type": "markdown",
   "id": "39939ade-7bf9-46da-884d-9474ec3b454e",
   "metadata": {},
   "source": [
    "# "
   ]
  },
  {
   "cell_type": "markdown",
   "id": "f233bd2f-925c-409a-88c9-b9db6b2a7bb6",
   "metadata": {},
   "source": [
    "## ¤ Load the Data"
   ]
  },
  {
   "cell_type": "code",
   "execution_count": 6,
   "id": "ad1a356b-9401-4ea8-8194-91d499a7cd03",
   "metadata": {},
   "outputs": [],
   "source": [
    "# Dataset: https://www.kaggle.com/jackdaoud/esports-earnings-for-players-teams-by-game"
   ]
  },
  {
   "cell_type": "code",
   "execution_count": 7,
   "id": "3e5a9149-e4af-49c6-861d-5b2122b9c2f7",
   "metadata": {},
   "outputs": [],
   "source": [
    "path = '../Datasets/eSports/'"
   ]
  },
  {
   "cell_type": "code",
   "execution_count": 8,
   "id": "f96dc467-cc34-4038-8d9c-f19dc3f3cddf",
   "metadata": {},
   "outputs": [],
   "source": [
    "countries = pd.read_csv(path + 'country-and-continent-codes-list.csv')\n",
    "players = pd.read_csv(path + 'highest_earning_players.csv')\n",
    "teams = pd.read_csv(path + 'highest_earning_teams.csv')"
   ]
  },
  {
   "cell_type": "markdown",
   "id": "0f956973-3bea-4446-b174-0a1f7aa181aa",
   "metadata": {},
   "source": [
    "# "
   ]
  },
  {
   "cell_type": "markdown",
   "id": "941c6024-5e44-4a76-8fa9-2edcafbbf13a",
   "metadata": {},
   "source": [
    "## ¤ Data Exploratory"
   ]
  },
  {
   "cell_type": "markdown",
   "id": "b0a481e1-0459-44b2-b78e-128e4f9b1ea3",
   "metadata": {},
   "source": [
    "#### ⭒ Exploring Countries DataFrame"
   ]
  },
  {
   "cell_type": "code",
   "execution_count": 9,
   "id": "fbdfd880-99e7-4d7e-bd84-fedbd5c224b6",
   "metadata": {},
   "outputs": [
    {
     "data": {
      "text/html": [
       "<div>\n",
       "<style scoped>\n",
       "    .dataframe tbody tr th:only-of-type {\n",
       "        vertical-align: middle;\n",
       "    }\n",
       "\n",
       "    .dataframe tbody tr th {\n",
       "        vertical-align: top;\n",
       "    }\n",
       "\n",
       "    .dataframe thead th {\n",
       "        text-align: right;\n",
       "    }\n",
       "</style>\n",
       "<table border=\"1\" class=\"dataframe\">\n",
       "  <thead>\n",
       "    <tr style=\"text-align: right;\">\n",
       "      <th></th>\n",
       "      <th>Continent_Name</th>\n",
       "      <th>Continent_Code</th>\n",
       "      <th>Country_Name</th>\n",
       "      <th>Two_Letter_Country_Code</th>\n",
       "      <th>Three_Letter_Country_Code</th>\n",
       "      <th>Country_Number</th>\n",
       "    </tr>\n",
       "  </thead>\n",
       "  <tbody>\n",
       "    <tr>\n",
       "      <th>0</th>\n",
       "      <td>Asia</td>\n",
       "      <td>AS</td>\n",
       "      <td>Afghanistan, Islamic Republic of</td>\n",
       "      <td>AF</td>\n",
       "      <td>AFG</td>\n",
       "      <td>4.00</td>\n",
       "    </tr>\n",
       "    <tr>\n",
       "      <th>1</th>\n",
       "      <td>Europe</td>\n",
       "      <td>EU</td>\n",
       "      <td>Albania, Republic of</td>\n",
       "      <td>AL</td>\n",
       "      <td>ALB</td>\n",
       "      <td>8.00</td>\n",
       "    </tr>\n",
       "    <tr>\n",
       "      <th>2</th>\n",
       "      <td>Antarctica</td>\n",
       "      <td>AN</td>\n",
       "      <td>Antarctica (the territory South of 60 deg S)</td>\n",
       "      <td>AQ</td>\n",
       "      <td>ATA</td>\n",
       "      <td>10.00</td>\n",
       "    </tr>\n",
       "    <tr>\n",
       "      <th>3</th>\n",
       "      <td>Africa</td>\n",
       "      <td>AF</td>\n",
       "      <td>Algeria, People's Democratic Republic of</td>\n",
       "      <td>DZ</td>\n",
       "      <td>DZA</td>\n",
       "      <td>12.00</td>\n",
       "    </tr>\n",
       "    <tr>\n",
       "      <th>4</th>\n",
       "      <td>Oceania</td>\n",
       "      <td>OC</td>\n",
       "      <td>American Samoa</td>\n",
       "      <td>AS</td>\n",
       "      <td>ASM</td>\n",
       "      <td>16.00</td>\n",
       "    </tr>\n",
       "  </tbody>\n",
       "</table>\n",
       "</div>"
      ],
      "text/plain": [
       "  Continent_Name Continent_Code                                  Country_Name  \\\n",
       "0           Asia             AS              Afghanistan, Islamic Republic of   \n",
       "1         Europe             EU                          Albania, Republic of   \n",
       "2     Antarctica             AN  Antarctica (the territory South of 60 deg S)   \n",
       "3         Africa             AF      Algeria, People's Democratic Republic of   \n",
       "4        Oceania             OC                                American Samoa   \n",
       "\n",
       "  Two_Letter_Country_Code Three_Letter_Country_Code  Country_Number  \n",
       "0                      AF                       AFG            4.00  \n",
       "1                      AL                       ALB            8.00  \n",
       "2                      AQ                       ATA           10.00  \n",
       "3                      DZ                       DZA           12.00  \n",
       "4                      AS                       ASM           16.00  "
      ]
     },
     "execution_count": 9,
     "metadata": {},
     "output_type": "execute_result"
    }
   ],
   "source": [
    "countries.head()"
   ]
  },
  {
   "cell_type": "code",
   "execution_count": 10,
   "id": "eca48af5-8fdc-4b44-a8fb-023f07f79ab5",
   "metadata": {},
   "outputs": [
    {
     "name": "stdout",
     "output_type": "stream",
     "text": [
      "<class 'pandas.core.frame.DataFrame'>\n",
      "RangeIndex: 262 entries, 0 to 261\n",
      "Data columns (total 6 columns):\n",
      " #   Column                     Non-Null Count  Dtype  \n",
      "---  ------                     --------------  -----  \n",
      " 0   Continent_Name             262 non-null    object \n",
      " 1   Continent_Code             219 non-null    object \n",
      " 2   Country_Name               262 non-null    object \n",
      " 3   Two_Letter_Country_Code    261 non-null    object \n",
      " 4   Three_Letter_Country_Code  258 non-null    object \n",
      " 5   Country_Number             258 non-null    float64\n",
      "dtypes: float64(1), object(5)\n",
      "memory usage: 12.4+ KB\n"
     ]
    }
   ],
   "source": [
    "countries.info()"
   ]
  },
  {
   "cell_type": "markdown",
   "id": "99b6f935-87ea-4590-8b29-798d168c4ac7",
   "metadata": {},
   "source": [
    "# "
   ]
  },
  {
   "cell_type": "code",
   "execution_count": 11,
   "id": "52126b8e-e8a7-4cf4-872e-af009ea22df0",
   "metadata": {},
   "outputs": [
    {
     "data": {
      "text/plain": [
       "Continent_Name                0\n",
       "Continent_Code               43\n",
       "Country_Name                  0\n",
       "Two_Letter_Country_Code       1\n",
       "Three_Letter_Country_Code     4\n",
       "Country_Number                4\n",
       "dtype: int64"
      ]
     },
     "execution_count": 11,
     "metadata": {},
     "output_type": "execute_result"
    }
   ],
   "source": [
    "countries.isnull().sum()"
   ]
  },
  {
   "cell_type": "code",
   "execution_count": 12,
   "id": "dfa13b42-a062-4d69-aa3c-e5437d01ecf5",
   "metadata": {},
   "outputs": [
    {
     "name": "stdout",
     "output_type": "stream",
     "text": [
      "Missing Values (in percentage, in country data)\n",
      "\n",
      "[  0.0% ]  Continent_Name\n",
      "[ 82.7% ]  Continent_Code\n",
      "[  0.0% ]  Country_Name\n",
      "[  1.9% ]  Two_Letter_Country_Code\n",
      "[  7.7% ]  Three_Letter_Country_Code\n",
      "[  7.7% ]  Country_Number\n"
     ]
    }
   ],
   "source": [
    "print('Missing Values (in percentage, in country data)', end='\\n\\n')\n",
    "for col in countries.columns:\n",
    "    miss_val = countries[col].isnull().sum() / countries.isnull().sum().sum()\n",
    "    if len(str(miss_val * 100).split('.')[0]) == 1:\n",
    "        print(f'[  {round(miss_val * 100, 1)}% ] ', col)\n",
    "    else:\n",
    "        print(f'[ {round(miss_val * 100, 1)}% ] ', col)"
   ]
  },
  {
   "cell_type": "code",
   "execution_count": 13,
   "id": "68825c20-6225-42fb-ab4a-53d6008ac46e",
   "metadata": {},
   "outputs": [
    {
     "name": "stdout",
     "output_type": "stream",
     "text": [
      "\n",
      "➥  We have \u001b[1m3.42%\u001b[0m of missing values in \u001b[1mCountries\u001b[0m dataframe.\n",
      "\n"
     ]
    }
   ],
   "source": [
    "country_non_null_values = ~countries.isnull()\n",
    "country_non_null_values = country_non_null_values.sum().sum()\n",
    "\n",
    "country_total_null_values = round(countries.isnull().sum().sum() / country_non_null_values * 100, 2)\n",
    "\n",
    "print('\\n➥  We have {1}{0}%{2} of missing values in {1}Countries{2} dataframe.'.format(country_total_null_values, format_bold, format_end), end='\\n\\n')"
   ]
  },
  {
   "cell_type": "markdown",
   "id": "13427511-4240-43be-a377-2ff2af70441b",
   "metadata": {},
   "source": [
    "# "
   ]
  },
  {
   "cell_type": "code",
   "execution_count": 14,
   "id": "beabed73-c361-42c5-ac05-02defdb6e7ca",
   "metadata": {},
   "outputs": [
    {
     "data": {
      "text/plain": [
       "0"
      ]
     },
     "execution_count": 14,
     "metadata": {},
     "output_type": "execute_result"
    }
   ],
   "source": [
    "countries.duplicated().sum()"
   ]
  },
  {
   "cell_type": "code",
   "execution_count": 15,
   "id": "5ed464a5-4cf1-4990-b3f3-405ee962f863",
   "metadata": {},
   "outputs": [
    {
     "name": "stdout",
     "output_type": "stream",
     "text": [
      "\n",
      "➥  We have \u001b[1m0\u001b[0m duplicated row(s) in \u001b[1mCountries\u001b[0m dataframe.\n",
      "\n"
     ]
    }
   ],
   "source": [
    "duplicates_in_country = countries.duplicated().sum()\n",
    "\n",
    "print('\\n➥  We have {1}{0}{2} duplicated row(s) in {1}Countries{2} dataframe.'.format(duplicates_in_country, format_bold, format_end), end='\\n\\n')"
   ]
  },
  {
   "cell_type": "markdown",
   "id": "6dcc23a3-ab13-479e-9c64-74c5adbd5df6",
   "metadata": {},
   "source": [
    "# "
   ]
  },
  {
   "cell_type": "code",
   "execution_count": 16,
   "id": "e07ac671-8e3f-403e-a2b2-d0fca5ad5ae5",
   "metadata": {},
   "outputs": [
    {
     "data": {
      "text/html": [
       "<div>\n",
       "<style scoped>\n",
       "    .dataframe tbody tr th:only-of-type {\n",
       "        vertical-align: middle;\n",
       "    }\n",
       "\n",
       "    .dataframe tbody tr th {\n",
       "        vertical-align: top;\n",
       "    }\n",
       "\n",
       "    .dataframe thead th {\n",
       "        text-align: right;\n",
       "    }\n",
       "</style>\n",
       "<table border=\"1\" class=\"dataframe\">\n",
       "  <thead>\n",
       "    <tr style=\"text-align: right;\">\n",
       "      <th></th>\n",
       "      <th>Continent_Name</th>\n",
       "      <th>Continent_Code</th>\n",
       "      <th>Country_Name</th>\n",
       "      <th>Two_Letter_Country_Code</th>\n",
       "      <th>Three_Letter_Country_Code</th>\n",
       "      <th>Country_Number</th>\n",
       "    </tr>\n",
       "  </thead>\n",
       "  <tbody>\n",
       "    <tr>\n",
       "      <th>36</th>\n",
       "      <td>Asia</td>\n",
       "      <td>AS</td>\n",
       "      <td>Cambodia, Kingdom of</td>\n",
       "      <td>KH</td>\n",
       "      <td>KHM</td>\n",
       "      <td>116.00</td>\n",
       "    </tr>\n",
       "    <tr>\n",
       "      <th>1</th>\n",
       "      <td>Europe</td>\n",
       "      <td>EU</td>\n",
       "      <td>Albania, Republic of</td>\n",
       "      <td>AL</td>\n",
       "      <td>ALB</td>\n",
       "      <td>8.00</td>\n",
       "    </tr>\n",
       "    <tr>\n",
       "      <th>101</th>\n",
       "      <td>Europe</td>\n",
       "      <td>EU</td>\n",
       "      <td>Holy See (Vatican City State)</td>\n",
       "      <td>VA</td>\n",
       "      <td>VAT</td>\n",
       "      <td>336.00</td>\n",
       "    </tr>\n",
       "    <tr>\n",
       "      <th>247</th>\n",
       "      <td>Africa</td>\n",
       "      <td>AF</td>\n",
       "      <td>Tanzania, United Republic of</td>\n",
       "      <td>TZ</td>\n",
       "      <td>TZA</td>\n",
       "      <td>834.00</td>\n",
       "    </tr>\n",
       "    <tr>\n",
       "      <th>137</th>\n",
       "      <td>Asia</td>\n",
       "      <td>AS</td>\n",
       "      <td>Maldives, Republic of</td>\n",
       "      <td>MV</td>\n",
       "      <td>MDV</td>\n",
       "      <td>462.00</td>\n",
       "    </tr>\n",
       "  </tbody>\n",
       "</table>\n",
       "</div>"
      ],
      "text/plain": [
       "    Continent_Name Continent_Code                   Country_Name  \\\n",
       "36            Asia             AS           Cambodia, Kingdom of   \n",
       "1           Europe             EU           Albania, Republic of   \n",
       "101         Europe             EU  Holy See (Vatican City State)   \n",
       "247         Africa             AF   Tanzania, United Republic of   \n",
       "137           Asia             AS          Maldives, Republic of   \n",
       "\n",
       "    Two_Letter_Country_Code Three_Letter_Country_Code  Country_Number  \n",
       "36                       KH                       KHM          116.00  \n",
       "1                        AL                       ALB            8.00  \n",
       "101                      VA                       VAT          336.00  \n",
       "247                      TZ                       TZA          834.00  \n",
       "137                      MV                       MDV          462.00  "
      ]
     },
     "execution_count": 16,
     "metadata": {},
     "output_type": "execute_result"
    }
   ],
   "source": [
    "countries.sample(5)"
   ]
  },
  {
   "cell_type": "code",
   "execution_count": 17,
   "id": "4e888e0b-dd81-4d44-9b32-af68aa23d16c",
   "metadata": {},
   "outputs": [
    {
     "data": {
      "text/html": [
       "<div>\n",
       "<style scoped>\n",
       "    .dataframe tbody tr th:only-of-type {\n",
       "        vertical-align: middle;\n",
       "    }\n",
       "\n",
       "    .dataframe tbody tr th {\n",
       "        vertical-align: top;\n",
       "    }\n",
       "\n",
       "    .dataframe thead th {\n",
       "        text-align: right;\n",
       "    }\n",
       "</style>\n",
       "<table border=\"1\" class=\"dataframe\">\n",
       "  <thead>\n",
       "    <tr style=\"text-align: right;\">\n",
       "      <th></th>\n",
       "      <th>Continent_Name</th>\n",
       "      <th>Continent_Code</th>\n",
       "      <th>Country_Name</th>\n",
       "      <th>Two_Letter_Country_Code</th>\n",
       "      <th>Three_Letter_Country_Code</th>\n",
       "      <th>Country_Number</th>\n",
       "    </tr>\n",
       "  </thead>\n",
       "  <tbody>\n",
       "    <tr>\n",
       "      <th>152</th>\n",
       "      <td>Africa</td>\n",
       "      <td>AF</td>\n",
       "      <td>Namibia, Republic of</td>\n",
       "      <td>NaN</td>\n",
       "      <td>NAM</td>\n",
       "      <td>516.00</td>\n",
       "    </tr>\n",
       "    <tr>\n",
       "      <th>258</th>\n",
       "      <td>Oceania</td>\n",
       "      <td>OC</td>\n",
       "      <td>Disputed Territory</td>\n",
       "      <td>XX</td>\n",
       "      <td>NaN</td>\n",
       "      <td>NaN</td>\n",
       "    </tr>\n",
       "    <tr>\n",
       "      <th>259</th>\n",
       "      <td>Asia</td>\n",
       "      <td>AS</td>\n",
       "      <td>Iraq-Saudi Arabia Neutral Zone</td>\n",
       "      <td>XE</td>\n",
       "      <td>NaN</td>\n",
       "      <td>NaN</td>\n",
       "    </tr>\n",
       "    <tr>\n",
       "      <th>260</th>\n",
       "      <td>Asia</td>\n",
       "      <td>AS</td>\n",
       "      <td>United Nations Neutral Zone</td>\n",
       "      <td>XD</td>\n",
       "      <td>NaN</td>\n",
       "      <td>NaN</td>\n",
       "    </tr>\n",
       "    <tr>\n",
       "      <th>261</th>\n",
       "      <td>Asia</td>\n",
       "      <td>AS</td>\n",
       "      <td>Spratly Islands</td>\n",
       "      <td>XS</td>\n",
       "      <td>NaN</td>\n",
       "      <td>NaN</td>\n",
       "    </tr>\n",
       "  </tbody>\n",
       "</table>\n",
       "</div>"
      ],
      "text/plain": [
       "    Continent_Name Continent_Code                    Country_Name  \\\n",
       "152         Africa             AF            Namibia, Republic of   \n",
       "258        Oceania             OC              Disputed Territory   \n",
       "259           Asia             AS  Iraq-Saudi Arabia Neutral Zone   \n",
       "260           Asia             AS     United Nations Neutral Zone   \n",
       "261           Asia             AS                 Spratly Islands   \n",
       "\n",
       "    Two_Letter_Country_Code Three_Letter_Country_Code  Country_Number  \n",
       "152                     NaN                       NAM          516.00  \n",
       "258                      XX                       NaN             NaN  \n",
       "259                      XE                       NaN             NaN  \n",
       "260                      XD                       NaN             NaN  \n",
       "261                      XS                       NaN             NaN  "
      ]
     },
     "execution_count": 17,
     "metadata": {},
     "output_type": "execute_result"
    }
   ],
   "source": [
    "index_cols = range(len(countries.columns))\n",
    "index_cols = list(index_cols)\n",
    "index_cols.remove(1)\n",
    "\n",
    "# to see what nan values are here, except for the continent_code column\n",
    "countries[countries.iloc[:, index_cols].isnull().any(axis=1)]"
   ]
  },
  {
   "cell_type": "markdown",
   "id": "ee0509ff-b805-4924-836c-09d939e331af",
   "metadata": {
    "tags": []
   },
   "source": [
    "# "
   ]
  },
  {
   "cell_type": "markdown",
   "id": "1499c892-5d66-41f1-a6a3-08b569c52a92",
   "metadata": {},
   "source": [
    "#### ⭒ Exploring Players DataFrame"
   ]
  },
  {
   "cell_type": "code",
   "execution_count": 18,
   "id": "9a1b3f0c-cf51-46ec-84bd-3a8a55bcb6f7",
   "metadata": {},
   "outputs": [
    {
     "data": {
      "text/html": [
       "<div>\n",
       "<style scoped>\n",
       "    .dataframe tbody tr th:only-of-type {\n",
       "        vertical-align: middle;\n",
       "    }\n",
       "\n",
       "    .dataframe tbody tr th {\n",
       "        vertical-align: top;\n",
       "    }\n",
       "\n",
       "    .dataframe thead th {\n",
       "        text-align: right;\n",
       "    }\n",
       "</style>\n",
       "<table border=\"1\" class=\"dataframe\">\n",
       "  <thead>\n",
       "    <tr style=\"text-align: right;\">\n",
       "      <th></th>\n",
       "      <th>PlayerId</th>\n",
       "      <th>NameFirst</th>\n",
       "      <th>NameLast</th>\n",
       "      <th>CurrentHandle</th>\n",
       "      <th>CountryCode</th>\n",
       "      <th>TotalUSDPrize</th>\n",
       "      <th>Game</th>\n",
       "      <th>Genre</th>\n",
       "    </tr>\n",
       "  </thead>\n",
       "  <tbody>\n",
       "    <tr>\n",
       "      <th>0</th>\n",
       "      <td>3883</td>\n",
       "      <td>Peter</td>\n",
       "      <td>Rasmussen</td>\n",
       "      <td>dupreeh</td>\n",
       "      <td>dk</td>\n",
       "      <td>1,822,989.41</td>\n",
       "      <td>Counter-Strike: Global Offensive</td>\n",
       "      <td>First-Person Shooter</td>\n",
       "    </tr>\n",
       "    <tr>\n",
       "      <th>1</th>\n",
       "      <td>3679</td>\n",
       "      <td>Andreas</td>\n",
       "      <td>Højsleth</td>\n",
       "      <td>Xyp9x</td>\n",
       "      <td>dk</td>\n",
       "      <td>1,799,288.57</td>\n",
       "      <td>Counter-Strike: Global Offensive</td>\n",
       "      <td>First-Person Shooter</td>\n",
       "    </tr>\n",
       "    <tr>\n",
       "      <th>2</th>\n",
       "      <td>3885</td>\n",
       "      <td>Nicolai</td>\n",
       "      <td>Reedtz</td>\n",
       "      <td>dev1ce</td>\n",
       "      <td>dk</td>\n",
       "      <td>1,787,489.88</td>\n",
       "      <td>Counter-Strike: Global Offensive</td>\n",
       "      <td>First-Person Shooter</td>\n",
       "    </tr>\n",
       "    <tr>\n",
       "      <th>3</th>\n",
       "      <td>3672</td>\n",
       "      <td>Lukas</td>\n",
       "      <td>Rossander</td>\n",
       "      <td>gla1ve</td>\n",
       "      <td>dk</td>\n",
       "      <td>1,652,350.75</td>\n",
       "      <td>Counter-Strike: Global Offensive</td>\n",
       "      <td>First-Person Shooter</td>\n",
       "    </tr>\n",
       "    <tr>\n",
       "      <th>4</th>\n",
       "      <td>17800</td>\n",
       "      <td>Emil</td>\n",
       "      <td>Reif</td>\n",
       "      <td>Magisk</td>\n",
       "      <td>dk</td>\n",
       "      <td>1,416,448.64</td>\n",
       "      <td>Counter-Strike: Global Offensive</td>\n",
       "      <td>First-Person Shooter</td>\n",
       "    </tr>\n",
       "  </tbody>\n",
       "</table>\n",
       "</div>"
      ],
      "text/plain": [
       "   PlayerId NameFirst   NameLast CurrentHandle CountryCode  TotalUSDPrize  \\\n",
       "0      3883     Peter  Rasmussen       dupreeh          dk   1,822,989.41   \n",
       "1      3679   Andreas   Højsleth         Xyp9x          dk   1,799,288.57   \n",
       "2      3885   Nicolai     Reedtz        dev1ce          dk   1,787,489.88   \n",
       "3      3672     Lukas  Rossander        gla1ve          dk   1,652,350.75   \n",
       "4     17800      Emil       Reif        Magisk          dk   1,416,448.64   \n",
       "\n",
       "                               Game                 Genre  \n",
       "0  Counter-Strike: Global Offensive  First-Person Shooter  \n",
       "1  Counter-Strike: Global Offensive  First-Person Shooter  \n",
       "2  Counter-Strike: Global Offensive  First-Person Shooter  \n",
       "3  Counter-Strike: Global Offensive  First-Person Shooter  \n",
       "4  Counter-Strike: Global Offensive  First-Person Shooter  "
      ]
     },
     "execution_count": 18,
     "metadata": {},
     "output_type": "execute_result"
    }
   ],
   "source": [
    "players.head()"
   ]
  },
  {
   "cell_type": "code",
   "execution_count": 19,
   "id": "4cd9c9da-f0ea-4eb5-ac24-912211382ecf",
   "metadata": {},
   "outputs": [
    {
     "name": "stdout",
     "output_type": "stream",
     "text": [
      "<class 'pandas.core.frame.DataFrame'>\n",
      "RangeIndex: 1000 entries, 0 to 999\n",
      "Data columns (total 8 columns):\n",
      " #   Column         Non-Null Count  Dtype  \n",
      "---  ------         --------------  -----  \n",
      " 0   PlayerId       1000 non-null   int64  \n",
      " 1   NameFirst      1000 non-null   object \n",
      " 2   NameLast       1000 non-null   object \n",
      " 3   CurrentHandle  1000 non-null   object \n",
      " 4   CountryCode    1000 non-null   object \n",
      " 5   TotalUSDPrize  1000 non-null   float64\n",
      " 6   Game           1000 non-null   object \n",
      " 7   Genre          1000 non-null   object \n",
      "dtypes: float64(1), int64(1), object(6)\n",
      "memory usage: 62.6+ KB\n"
     ]
    }
   ],
   "source": [
    "players.info()"
   ]
  },
  {
   "cell_type": "markdown",
   "id": "0be33650-4c9d-4101-86b9-3b2d69842b45",
   "metadata": {},
   "source": [
    "# "
   ]
  },
  {
   "cell_type": "code",
   "execution_count": 20,
   "id": "cec5eb38-1b84-4037-bdb9-ca26a0347573",
   "metadata": {},
   "outputs": [
    {
     "data": {
      "text/plain": [
       "PlayerId         0\n",
       "NameFirst        0\n",
       "NameLast         0\n",
       "CurrentHandle    0\n",
       "CountryCode      0\n",
       "TotalUSDPrize    0\n",
       "Game             0\n",
       "Genre            0\n",
       "dtype: int64"
      ]
     },
     "execution_count": 20,
     "metadata": {},
     "output_type": "execute_result"
    }
   ],
   "source": [
    "players.isnull().sum()"
   ]
  },
  {
   "cell_type": "code",
   "execution_count": 21,
   "id": "c528c3a9-a4fb-4d18-98dc-7a65d18a96a1",
   "metadata": {},
   "outputs": [
    {
     "data": {
      "text/plain": [
       "0"
      ]
     },
     "execution_count": 21,
     "metadata": {},
     "output_type": "execute_result"
    }
   ],
   "source": [
    "players.duplicated().sum()"
   ]
  },
  {
   "cell_type": "code",
   "execution_count": 22,
   "id": "298ebdda-cbd7-45bc-aebc-aa71bd670649",
   "metadata": {},
   "outputs": [
    {
     "name": "stdout",
     "output_type": "stream",
     "text": [
      "\n",
      "➥  We have \u001b[1m0%\u001b[0m of missing values and \u001b[1m0\u001b[0m duplicated row(s) in \u001b[1mPlayers\u001b[0m dataframe.\n",
      "\n"
     ]
    }
   ],
   "source": [
    "players_non_null_values = players.notnull().sum().sum()\n",
    "players_total_null_values = round(players.isnull().sum().sum() / players_non_null_values * 100, 2)\n",
    "\n",
    "duplicates_in_players = players.duplicated().sum()\n",
    "\n",
    "\n",
    "# just a nice format if we don't have missing values, such as 0% instead of 0.0%\n",
    "def proper_format(checking_float):\n",
    "    if checking_float == 0.0:\n",
    "        return int(checking_float)\n",
    "    else:\n",
    "        return checking_float\n",
    "        \n",
    "\n",
    "print('\\n➥  We have {2}{0}%{3} of missing values and {2}{1}{3} duplicated row(s) in {2}Players{3} dataframe.'.format(proper_format(players_total_null_values),\n",
    "                                                                                                                      duplicates_in_players,\n",
    "                                                                                                                      format_bold,\n",
    "                                                                                                                      format_end), end='\\n\\n')"
   ]
  },
  {
   "cell_type": "markdown",
   "id": "13287498-cd94-4a32-ae7d-593da9337a4f",
   "metadata": {
    "tags": []
   },
   "source": [
    "# "
   ]
  },
  {
   "cell_type": "markdown",
   "id": "afa45b56-bdc0-403c-858e-49a5f2336a17",
   "metadata": {},
   "source": [
    "#### ⭒ Exploring Teams DataFrame"
   ]
  },
  {
   "cell_type": "code",
   "execution_count": 23,
   "id": "80dd7019-190f-4fb2-b90c-beeb81f94539",
   "metadata": {},
   "outputs": [
    {
     "data": {
      "text/html": [
       "<div>\n",
       "<style scoped>\n",
       "    .dataframe tbody tr th:only-of-type {\n",
       "        vertical-align: middle;\n",
       "    }\n",
       "\n",
       "    .dataframe tbody tr th {\n",
       "        vertical-align: top;\n",
       "    }\n",
       "\n",
       "    .dataframe thead th {\n",
       "        text-align: right;\n",
       "    }\n",
       "</style>\n",
       "<table border=\"1\" class=\"dataframe\">\n",
       "  <thead>\n",
       "    <tr style=\"text-align: right;\">\n",
       "      <th></th>\n",
       "      <th>TeamId</th>\n",
       "      <th>TeamName</th>\n",
       "      <th>TotalUSDPrize</th>\n",
       "      <th>TotalTournaments</th>\n",
       "      <th>Game</th>\n",
       "      <th>Genre</th>\n",
       "    </tr>\n",
       "  </thead>\n",
       "  <tbody>\n",
       "    <tr>\n",
       "      <th>0</th>\n",
       "      <td>760</td>\n",
       "      <td>San Francisco Shock</td>\n",
       "      <td>3,105,000.00</td>\n",
       "      <td>7</td>\n",
       "      <td>Overwatch</td>\n",
       "      <td>First-Person Shooter</td>\n",
       "    </tr>\n",
       "    <tr>\n",
       "      <th>1</th>\n",
       "      <td>776</td>\n",
       "      <td>London Spitfire</td>\n",
       "      <td>1,591,136.50</td>\n",
       "      <td>13</td>\n",
       "      <td>Overwatch</td>\n",
       "      <td>First-Person Shooter</td>\n",
       "    </tr>\n",
       "    <tr>\n",
       "      <th>2</th>\n",
       "      <td>768</td>\n",
       "      <td>New York Excelsior</td>\n",
       "      <td>1,572,618.50</td>\n",
       "      <td>18</td>\n",
       "      <td>Overwatch</td>\n",
       "      <td>First-Person Shooter</td>\n",
       "    </tr>\n",
       "    <tr>\n",
       "      <th>3</th>\n",
       "      <td>773</td>\n",
       "      <td>Philadelphia Fusion</td>\n",
       "      <td>1,186,278.50</td>\n",
       "      <td>15</td>\n",
       "      <td>Overwatch</td>\n",
       "      <td>First-Person Shooter</td>\n",
       "    </tr>\n",
       "    <tr>\n",
       "      <th>4</th>\n",
       "      <td>766</td>\n",
       "      <td>Seoul Dynasty</td>\n",
       "      <td>1,130,000.00</td>\n",
       "      <td>6</td>\n",
       "      <td>Overwatch</td>\n",
       "      <td>First-Person Shooter</td>\n",
       "    </tr>\n",
       "  </tbody>\n",
       "</table>\n",
       "</div>"
      ],
      "text/plain": [
       "   TeamId             TeamName  TotalUSDPrize  TotalTournaments       Game  \\\n",
       "0     760  San Francisco Shock   3,105,000.00                 7  Overwatch   \n",
       "1     776      London Spitfire   1,591,136.50                13  Overwatch   \n",
       "2     768   New York Excelsior   1,572,618.50                18  Overwatch   \n",
       "3     773  Philadelphia Fusion   1,186,278.50                15  Overwatch   \n",
       "4     766        Seoul Dynasty   1,130,000.00                 6  Overwatch   \n",
       "\n",
       "                  Genre  \n",
       "0  First-Person Shooter  \n",
       "1  First-Person Shooter  \n",
       "2  First-Person Shooter  \n",
       "3  First-Person Shooter  \n",
       "4  First-Person Shooter  "
      ]
     },
     "execution_count": 23,
     "metadata": {},
     "output_type": "execute_result"
    }
   ],
   "source": [
    "teams.head()"
   ]
  },
  {
   "cell_type": "code",
   "execution_count": 24,
   "id": "573c0fcd-0814-4b28-9a36-2c25944dc29f",
   "metadata": {},
   "outputs": [
    {
     "name": "stdout",
     "output_type": "stream",
     "text": [
      "<class 'pandas.core.frame.DataFrame'>\n",
      "RangeIndex: 928 entries, 0 to 927\n",
      "Data columns (total 6 columns):\n",
      " #   Column            Non-Null Count  Dtype  \n",
      "---  ------            --------------  -----  \n",
      " 0   TeamId            928 non-null    int64  \n",
      " 1   TeamName          928 non-null    object \n",
      " 2   TotalUSDPrize     928 non-null    float64\n",
      " 3   TotalTournaments  928 non-null    int64  \n",
      " 4   Game              928 non-null    object \n",
      " 5   Genre             928 non-null    object \n",
      "dtypes: float64(1), int64(2), object(3)\n",
      "memory usage: 43.6+ KB\n"
     ]
    }
   ],
   "source": [
    "teams.info()"
   ]
  },
  {
   "cell_type": "code",
   "execution_count": 25,
   "id": "dae274e5-0b59-4d6e-a0af-a649e88c26d4",
   "metadata": {},
   "outputs": [
    {
     "name": "stdout",
     "output_type": "stream",
     "text": [
      "<class 'pandas.core.frame.DataFrame'>\n",
      "RangeIndex: 1000 entries, 0 to 999\n",
      "Data columns (total 8 columns):\n",
      " #   Column         Non-Null Count  Dtype  \n",
      "---  ------         --------------  -----  \n",
      " 0   PlayerId       1000 non-null   int64  \n",
      " 1   NameFirst      1000 non-null   object \n",
      " 2   NameLast       1000 non-null   object \n",
      " 3   CurrentHandle  1000 non-null   object \n",
      " 4   CountryCode    1000 non-null   object \n",
      " 5   TotalUSDPrize  1000 non-null   float64\n",
      " 6   Game           1000 non-null   object \n",
      " 7   Genre          1000 non-null   object \n",
      "dtypes: float64(1), int64(1), object(6)\n",
      "memory usage: 62.6+ KB\n"
     ]
    }
   ],
   "source": [
    "players.info()"
   ]
  },
  {
   "cell_type": "markdown",
   "id": "8b767879-c090-4841-a054-27bef21ec7c6",
   "metadata": {},
   "source": [
    "# "
   ]
  },
  {
   "cell_type": "code",
   "execution_count": 26,
   "id": "a2bb2ac0-94d1-407a-9d3a-613aaa1e3d27",
   "metadata": {},
   "outputs": [
    {
     "data": {
      "text/plain": [
       "TeamId              0\n",
       "TeamName            0\n",
       "TotalUSDPrize       0\n",
       "TotalTournaments    0\n",
       "Game                0\n",
       "Genre               0\n",
       "dtype: int64"
      ]
     },
     "execution_count": 26,
     "metadata": {},
     "output_type": "execute_result"
    }
   ],
   "source": [
    "teams.isnull().sum()"
   ]
  },
  {
   "cell_type": "code",
   "execution_count": 27,
   "id": "69a562dd-f590-4b9e-a59e-87471b33a406",
   "metadata": {},
   "outputs": [
    {
     "data": {
      "text/plain": [
       "0"
      ]
     },
     "execution_count": 27,
     "metadata": {},
     "output_type": "execute_result"
    }
   ],
   "source": [
    "teams.duplicated().sum()"
   ]
  },
  {
   "cell_type": "code",
   "execution_count": 28,
   "id": "0bdfd336-3408-42cd-8d14-271d518932ff",
   "metadata": {},
   "outputs": [
    {
     "name": "stdout",
     "output_type": "stream",
     "text": [
      "\n",
      "➥  We have \u001b[1m0%\u001b[0m of missing values and \u001b[1m0\u001b[0m duplicated row(s) in \u001b[1mTeams\u001b[0m dataframe.\n",
      "\n"
     ]
    }
   ],
   "source": [
    "teams_non_null_values = teams.notnull().sum().sum()\n",
    "teams_total_null_values = round(teams.isnull().sum().sum() / teams_non_null_values * 100, 2)\n",
    "\n",
    "duplicates_in_teams = teams.duplicated().sum()\n",
    "      \n",
    "\n",
    "print('\\n➥  We have {2}{0}%{3} of missing values and {2}{1}{3} duplicated row(s) in {2}Teams{3} dataframe.'.format(proper_format(teams_total_null_values),\n",
    "                                                                                                                    duplicates_in_teams,\n",
    "                                                                                                                    format_bold,\n",
    "                                                                                                                    format_end), end='\\n\\n')"
   ]
  },
  {
   "cell_type": "markdown",
   "id": "ef5b3e94-236a-42e7-9323-22cd32db79fc",
   "metadata": {},
   "source": [
    "# "
   ]
  },
  {
   "cell_type": "markdown",
   "id": "dec3f718-86fe-4754-9342-e0cae7a2186c",
   "metadata": {},
   "source": [
    "## ¤ Data Transformation"
   ]
  },
  {
   "cell_type": "code",
   "execution_count": 29,
   "id": "be4b029b-c435-47b8-869f-095162822c2c",
   "metadata": {},
   "outputs": [
    {
     "data": {
      "text/html": [
       "<div>\n",
       "<style scoped>\n",
       "    .dataframe tbody tr th:only-of-type {\n",
       "        vertical-align: middle;\n",
       "    }\n",
       "\n",
       "    .dataframe tbody tr th {\n",
       "        vertical-align: top;\n",
       "    }\n",
       "\n",
       "    .dataframe thead th {\n",
       "        text-align: right;\n",
       "    }\n",
       "</style>\n",
       "<table border=\"1\" class=\"dataframe\">\n",
       "  <thead>\n",
       "    <tr style=\"text-align: right;\">\n",
       "      <th></th>\n",
       "      <th>PlayerId</th>\n",
       "      <th>NameFirst</th>\n",
       "      <th>NameLast</th>\n",
       "      <th>CurrentHandle</th>\n",
       "      <th>CountryCode</th>\n",
       "      <th>TotalUSDPrize</th>\n",
       "      <th>Game</th>\n",
       "      <th>Genre</th>\n",
       "    </tr>\n",
       "  </thead>\n",
       "  <tbody>\n",
       "    <tr>\n",
       "      <th>0</th>\n",
       "      <td>3883</td>\n",
       "      <td>Peter</td>\n",
       "      <td>Rasmussen</td>\n",
       "      <td>dupreeh</td>\n",
       "      <td>dk</td>\n",
       "      <td>1,822,989.41</td>\n",
       "      <td>Counter-Strike: Global Offensive</td>\n",
       "      <td>First-Person Shooter</td>\n",
       "    </tr>\n",
       "    <tr>\n",
       "      <th>1</th>\n",
       "      <td>3679</td>\n",
       "      <td>Andreas</td>\n",
       "      <td>Højsleth</td>\n",
       "      <td>Xyp9x</td>\n",
       "      <td>dk</td>\n",
       "      <td>1,799,288.57</td>\n",
       "      <td>Counter-Strike: Global Offensive</td>\n",
       "      <td>First-Person Shooter</td>\n",
       "    </tr>\n",
       "    <tr>\n",
       "      <th>2</th>\n",
       "      <td>3885</td>\n",
       "      <td>Nicolai</td>\n",
       "      <td>Reedtz</td>\n",
       "      <td>dev1ce</td>\n",
       "      <td>dk</td>\n",
       "      <td>1,787,489.88</td>\n",
       "      <td>Counter-Strike: Global Offensive</td>\n",
       "      <td>First-Person Shooter</td>\n",
       "    </tr>\n",
       "    <tr>\n",
       "      <th>3</th>\n",
       "      <td>3672</td>\n",
       "      <td>Lukas</td>\n",
       "      <td>Rossander</td>\n",
       "      <td>gla1ve</td>\n",
       "      <td>dk</td>\n",
       "      <td>1,652,350.75</td>\n",
       "      <td>Counter-Strike: Global Offensive</td>\n",
       "      <td>First-Person Shooter</td>\n",
       "    </tr>\n",
       "    <tr>\n",
       "      <th>4</th>\n",
       "      <td>17800</td>\n",
       "      <td>Emil</td>\n",
       "      <td>Reif</td>\n",
       "      <td>Magisk</td>\n",
       "      <td>dk</td>\n",
       "      <td>1,416,448.64</td>\n",
       "      <td>Counter-Strike: Global Offensive</td>\n",
       "      <td>First-Person Shooter</td>\n",
       "    </tr>\n",
       "  </tbody>\n",
       "</table>\n",
       "</div>"
      ],
      "text/plain": [
       "   PlayerId NameFirst   NameLast CurrentHandle CountryCode  TotalUSDPrize  \\\n",
       "0      3883     Peter  Rasmussen       dupreeh          dk   1,822,989.41   \n",
       "1      3679   Andreas   Højsleth         Xyp9x          dk   1,799,288.57   \n",
       "2      3885   Nicolai     Reedtz        dev1ce          dk   1,787,489.88   \n",
       "3      3672     Lukas  Rossander        gla1ve          dk   1,652,350.75   \n",
       "4     17800      Emil       Reif        Magisk          dk   1,416,448.64   \n",
       "\n",
       "                               Game                 Genre  \n",
       "0  Counter-Strike: Global Offensive  First-Person Shooter  \n",
       "1  Counter-Strike: Global Offensive  First-Person Shooter  \n",
       "2  Counter-Strike: Global Offensive  First-Person Shooter  \n",
       "3  Counter-Strike: Global Offensive  First-Person Shooter  \n",
       "4  Counter-Strike: Global Offensive  First-Person Shooter  "
      ]
     },
     "execution_count": 29,
     "metadata": {},
     "output_type": "execute_result"
    }
   ],
   "source": [
    "players.head()"
   ]
  },
  {
   "cell_type": "code",
   "execution_count": 30,
   "id": "6800c193-e52b-4f74-af0d-bd3e5221692a",
   "metadata": {},
   "outputs": [
    {
     "data": {
      "text/plain": [
       "0      DK\n",
       "1      DK\n",
       "2      DK\n",
       "3      DK\n",
       "4      DK\n",
       "       ..\n",
       "995    FI\n",
       "996    US\n",
       "997    IT\n",
       "998    US\n",
       "999    SE\n",
       "Name: CountryCode, Length: 1000, dtype: object"
      ]
     },
     "execution_count": 30,
     "metadata": {},
     "output_type": "execute_result"
    }
   ],
   "source": [
    "players['CountryCode'].str.upper()"
   ]
  },
  {
   "cell_type": "code",
   "execution_count": 31,
   "id": "01b1b1c1-c277-4f46-be83-b579c81c472d",
   "metadata": {},
   "outputs": [],
   "source": [
    "players['CountryCode'] = players['CountryCode'].str.upper()"
   ]
  },
  {
   "cell_type": "markdown",
   "id": "f11d8fe5-443b-4591-85e0-1380aa99fdc4",
   "metadata": {},
   "source": [
    "# "
   ]
  },
  {
   "cell_type": "code",
   "execution_count": 32,
   "id": "58730769-0d29-4a0b-a537-9cff1e50659c",
   "metadata": {},
   "outputs": [
    {
     "data": {
      "text/html": [
       "<div>\n",
       "<style scoped>\n",
       "    .dataframe tbody tr th:only-of-type {\n",
       "        vertical-align: middle;\n",
       "    }\n",
       "\n",
       "    .dataframe tbody tr th {\n",
       "        vertical-align: top;\n",
       "    }\n",
       "\n",
       "    .dataframe thead th {\n",
       "        text-align: right;\n",
       "    }\n",
       "</style>\n",
       "<table border=\"1\" class=\"dataframe\">\n",
       "  <thead>\n",
       "    <tr style=\"text-align: right;\">\n",
       "      <th></th>\n",
       "      <th>Continent_Name</th>\n",
       "      <th>Continent_Code</th>\n",
       "      <th>Country_Name</th>\n",
       "      <th>Two_Letter_Country_Code</th>\n",
       "      <th>Three_Letter_Country_Code</th>\n",
       "      <th>Country_Number</th>\n",
       "    </tr>\n",
       "  </thead>\n",
       "  <tbody>\n",
       "    <tr>\n",
       "      <th>0</th>\n",
       "      <td>Asia</td>\n",
       "      <td>AS</td>\n",
       "      <td>Afghanistan, Islamic Republic of</td>\n",
       "      <td>AF</td>\n",
       "      <td>AFG</td>\n",
       "      <td>4.00</td>\n",
       "    </tr>\n",
       "    <tr>\n",
       "      <th>1</th>\n",
       "      <td>Europe</td>\n",
       "      <td>EU</td>\n",
       "      <td>Albania, Republic of</td>\n",
       "      <td>AL</td>\n",
       "      <td>ALB</td>\n",
       "      <td>8.00</td>\n",
       "    </tr>\n",
       "    <tr>\n",
       "      <th>2</th>\n",
       "      <td>Antarctica</td>\n",
       "      <td>AN</td>\n",
       "      <td>Antarctica (the territory South of 60 deg S)</td>\n",
       "      <td>AQ</td>\n",
       "      <td>ATA</td>\n",
       "      <td>10.00</td>\n",
       "    </tr>\n",
       "    <tr>\n",
       "      <th>3</th>\n",
       "      <td>Africa</td>\n",
       "      <td>AF</td>\n",
       "      <td>Algeria, People's Democratic Republic of</td>\n",
       "      <td>DZ</td>\n",
       "      <td>DZA</td>\n",
       "      <td>12.00</td>\n",
       "    </tr>\n",
       "    <tr>\n",
       "      <th>4</th>\n",
       "      <td>Oceania</td>\n",
       "      <td>OC</td>\n",
       "      <td>American Samoa</td>\n",
       "      <td>AS</td>\n",
       "      <td>ASM</td>\n",
       "      <td>16.00</td>\n",
       "    </tr>\n",
       "  </tbody>\n",
       "</table>\n",
       "</div>"
      ],
      "text/plain": [
       "  Continent_Name Continent_Code                                  Country_Name  \\\n",
       "0           Asia             AS              Afghanistan, Islamic Republic of   \n",
       "1         Europe             EU                          Albania, Republic of   \n",
       "2     Antarctica             AN  Antarctica (the territory South of 60 deg S)   \n",
       "3         Africa             AF      Algeria, People's Democratic Republic of   \n",
       "4        Oceania             OC                                American Samoa   \n",
       "\n",
       "  Two_Letter_Country_Code Three_Letter_Country_Code  Country_Number  \n",
       "0                      AF                       AFG            4.00  \n",
       "1                      AL                       ALB            8.00  \n",
       "2                      AQ                       ATA           10.00  \n",
       "3                      DZ                       DZA           12.00  \n",
       "4                      AS                       ASM           16.00  "
      ]
     },
     "execution_count": 32,
     "metadata": {},
     "output_type": "execute_result"
    }
   ],
   "source": [
    "countries.head()"
   ]
  },
  {
   "cell_type": "code",
   "execution_count": 33,
   "id": "dc03094e-1192-4680-ac91-7c04e397e1c6",
   "metadata": {},
   "outputs": [
    {
     "data": {
      "text/plain": [
       "0      AF\n",
       "1      AL\n",
       "2      AQ\n",
       "3      DZ\n",
       "4      AS\n",
       "       ..\n",
       "257    ZM\n",
       "258    XX\n",
       "259    XE\n",
       "260    XD\n",
       "261    XS\n",
       "Name: Two_Letter_Country_Code, Length: 261, dtype: object"
      ]
     },
     "execution_count": 33,
     "metadata": {},
     "output_type": "execute_result"
    }
   ],
   "source": [
    "# if we don't use this filter, we'll get an error about NaN values\n",
    "filtered = countries['Two_Letter_Country_Code'].notnull()\n",
    "\n",
    "countries[filtered]['Two_Letter_Country_Code'].apply(lambda x: x.upper())"
   ]
  },
  {
   "cell_type": "code",
   "execution_count": 34,
   "id": "481de070-5264-4230-a013-396758ccd726",
   "metadata": {},
   "outputs": [],
   "source": [
    "countries['Two_Letter_Country_Code'] = countries[filtered]['Two_Letter_Country_Code'].apply(lambda x: x.upper())"
   ]
  },
  {
   "cell_type": "markdown",
   "id": "9498f0e5-29a4-4837-9672-721485d16459",
   "metadata": {},
   "source": [
    "# "
   ]
  },
  {
   "cell_type": "code",
   "execution_count": 35,
   "id": "6c6aca44-a824-42db-8aef-f2f6cce45060",
   "metadata": {},
   "outputs": [],
   "source": [
    "players_location = pd.merge(countries, players, left_on='Two_Letter_Country_Code', right_on='CountryCode')"
   ]
  },
  {
   "cell_type": "code",
   "execution_count": 36,
   "id": "785f1cea-2301-4c35-a76a-9a0665136540",
   "metadata": {},
   "outputs": [],
   "source": [
    "players_location = players_location.loc[:, ['PlayerId', 'NameFirst', 'NameLast', 'CurrentHandle', 'TotalUSDPrize', 'Game', 'Genre',\n",
    "                                            'Continent_Name', 'Country_Name', 'Country_Number']]"
   ]
  },
  {
   "cell_type": "code",
   "execution_count": 37,
   "id": "974015f4-2dd2-4887-afb5-e09c25bba7f9",
   "metadata": {},
   "outputs": [
    {
     "data": {
      "text/html": [
       "<div>\n",
       "<style scoped>\n",
       "    .dataframe tbody tr th:only-of-type {\n",
       "        vertical-align: middle;\n",
       "    }\n",
       "\n",
       "    .dataframe tbody tr th {\n",
       "        vertical-align: top;\n",
       "    }\n",
       "\n",
       "    .dataframe thead th {\n",
       "        text-align: right;\n",
       "    }\n",
       "</style>\n",
       "<table border=\"1\" class=\"dataframe\">\n",
       "  <thead>\n",
       "    <tr style=\"text-align: right;\">\n",
       "      <th></th>\n",
       "      <th>PlayerId</th>\n",
       "      <th>NameFirst</th>\n",
       "      <th>NameLast</th>\n",
       "      <th>CurrentHandle</th>\n",
       "      <th>TotalUSDPrize</th>\n",
       "      <th>Game</th>\n",
       "      <th>Genre</th>\n",
       "      <th>Continent_Name</th>\n",
       "      <th>Country_Name</th>\n",
       "      <th>Country_Number</th>\n",
       "    </tr>\n",
       "  </thead>\n",
       "  <tbody>\n",
       "    <tr>\n",
       "      <th>0</th>\n",
       "      <td>61896</td>\n",
       "      <td>Thiago</td>\n",
       "      <td>Lapp</td>\n",
       "      <td>kinG</td>\n",
       "      <td>1,021,000.00</td>\n",
       "      <td>Fortnite</td>\n",
       "      <td>Battle Royale</td>\n",
       "      <td>South America</td>\n",
       "      <td>Argentina, Argentine Republic</td>\n",
       "      <td>32.00</td>\n",
       "    </tr>\n",
       "    <tr>\n",
       "      <th>1</th>\n",
       "      <td>30167</td>\n",
       "      <td>Francisco</td>\n",
       "      <td>Leimontas</td>\n",
       "      <td>PNC</td>\n",
       "      <td>82,409.24</td>\n",
       "      <td>Hearthstone</td>\n",
       "      <td>Collectible Card Game</td>\n",
       "      <td>South America</td>\n",
       "      <td>Argentina, Argentine Republic</td>\n",
       "      <td>32.00</td>\n",
       "    </tr>\n",
       "    <tr>\n",
       "      <th>2</th>\n",
       "      <td>15703</td>\n",
       "      <td>Facu</td>\n",
       "      <td>Pruzzo</td>\n",
       "      <td>Nalguidan</td>\n",
       "      <td>70,750.00</td>\n",
       "      <td>Hearthstone</td>\n",
       "      <td>Collectible Card Game</td>\n",
       "      <td>South America</td>\n",
       "      <td>Argentina, Argentine Republic</td>\n",
       "      <td>32.00</td>\n",
       "    </tr>\n",
       "    <tr>\n",
       "      <th>3</th>\n",
       "      <td>30451</td>\n",
       "      <td>Anathan</td>\n",
       "      <td>Pham</td>\n",
       "      <td>ana</td>\n",
       "      <td>6,000,411.96</td>\n",
       "      <td>Dota 2</td>\n",
       "      <td>Multiplayer Online Battle Arena</td>\n",
       "      <td>Oceania</td>\n",
       "      <td>Australia, Commonwealth of</td>\n",
       "      <td>36.00</td>\n",
       "    </tr>\n",
       "    <tr>\n",
       "      <th>4</th>\n",
       "      <td>15530</td>\n",
       "      <td>Damien</td>\n",
       "      <td>Chok</td>\n",
       "      <td>kpii</td>\n",
       "      <td>1,809,225.30</td>\n",
       "      <td>Dota 2</td>\n",
       "      <td>Multiplayer Online Battle Arena</td>\n",
       "      <td>Oceania</td>\n",
       "      <td>Australia, Commonwealth of</td>\n",
       "      <td>36.00</td>\n",
       "    </tr>\n",
       "  </tbody>\n",
       "</table>\n",
       "</div>"
      ],
      "text/plain": [
       "   PlayerId  NameFirst   NameLast CurrentHandle  TotalUSDPrize         Game  \\\n",
       "0     61896     Thiago       Lapp          kinG   1,021,000.00     Fortnite   \n",
       "1     30167  Francisco  Leimontas           PNC      82,409.24  Hearthstone   \n",
       "2     15703       Facu     Pruzzo     Nalguidan      70,750.00  Hearthstone   \n",
       "3     30451    Anathan       Pham           ana   6,000,411.96       Dota 2   \n",
       "4     15530     Damien       Chok          kpii   1,809,225.30       Dota 2   \n",
       "\n",
       "                             Genre Continent_Name  \\\n",
       "0                    Battle Royale  South America   \n",
       "1            Collectible Card Game  South America   \n",
       "2            Collectible Card Game  South America   \n",
       "3  Multiplayer Online Battle Arena        Oceania   \n",
       "4  Multiplayer Online Battle Arena        Oceania   \n",
       "\n",
       "                    Country_Name  Country_Number  \n",
       "0  Argentina, Argentine Republic           32.00  \n",
       "1  Argentina, Argentine Republic           32.00  \n",
       "2  Argentina, Argentine Republic           32.00  \n",
       "3     Australia, Commonwealth of           36.00  \n",
       "4     Australia, Commonwealth of           36.00  "
      ]
     },
     "execution_count": 37,
     "metadata": {},
     "output_type": "execute_result"
    }
   ],
   "source": [
    "players_location.head()"
   ]
  },
  {
   "cell_type": "code",
   "execution_count": 38,
   "id": "fca7e524-a24f-40c1-a016-34d9a77f0c87",
   "metadata": {},
   "outputs": [
    {
     "name": "stdout",
     "output_type": "stream",
     "text": [
      "\n",
      " ➥ Now... we can use analysis based on the player's location.\n"
     ]
    }
   ],
   "source": [
    "print('\\n ➥ Now... we can use analysis based on the player\\'s location.')"
   ]
  },
  {
   "cell_type": "markdown",
   "id": "d349ed7b-e1b4-4faf-811f-5a2acd6f6040",
   "metadata": {},
   "source": [
    "# "
   ]
  },
  {
   "cell_type": "markdown",
   "id": "4b6b8701-2884-443f-8817-23c91f266191",
   "metadata": {},
   "source": [
    "## ¤ Data Visualization"
   ]
  },
  {
   "cell_type": "markdown",
   "id": "f391ce62-5ca5-4aed-afa9-966aa521ecb4",
   "metadata": {},
   "source": [
    "### ⭒ Top Genre of Games by Earnings"
   ]
  },
  {
   "cell_type": "code",
   "execution_count": 39,
   "id": "dad97f60-ddd3-4801-a90d-f9e60f03ed98",
   "metadata": {},
   "outputs": [],
   "source": [
    "top_games = players.groupby('Game')['TotalUSDPrize'].sum().sort_values(ascending=False)"
   ]
  },
  {
   "cell_type": "code",
   "execution_count": 40,
   "id": "049a4527-3054-4570-9187-420beba6f3dc",
   "metadata": {},
   "outputs": [
    {
     "data": {
      "text/plain": [
       "Game\n",
       "Dota 2                             179,178,818.95\n",
       "Counter-Strike: Global Offensive    56,541,920.90\n",
       "Fortnite                            43,409,370.91\n",
       "League of Legends                   35,043,475.87\n",
       "Starcraft II                        25,379,823.93\n",
       "Hearthstone                         13,335,640.79\n",
       "PUBG                                12,441,958.89\n",
       "Overwatch                           12,347,808.50\n",
       "Heroes of the Storm                 11,780,445.24\n",
       "Arena of Valor                       8,333,952.43\n",
       "Name: TotalUSDPrize, dtype: float64"
      ]
     },
     "execution_count": 40,
     "metadata": {},
     "output_type": "execute_result"
    }
   ],
   "source": [
    "top_games"
   ]
  },
  {
   "cell_type": "code",
   "execution_count": 41,
   "id": "7cc5af65-308d-42a1-817d-9d7e4457e037",
   "metadata": {},
   "outputs": [
    {
     "data": {
      "image/png": "[encoded data removed]",
      "text/plain": [
       "<Figure size 800x500 with 1 Axes>"
      ]
     },
     "metadata": {},
     "output_type": "display_data"
    }
   ],
   "source": [
    "fig, ax = plt.subplots(figsize=(8,5), dpi=100)\n",
    "\n",
    "plt.bar(top_games.index, top_games)\n",
    "\n",
    "\n",
    "y_position = 3 * (10 ** 6)\n",
    "for idx, val in enumerate(top_games):\n",
    "    ax.text(idx, val + y_position, str(round(val / 10 ** 6, 1)) + 'M', ha='center', color='#36518B', fontweight='bold', fontsize=9.5)\n",
    "\n",
    "\n",
    "plt.title('Top Games by Earnings', fontsize=14, color='#802323', fontweight='bold')\n",
    "plt.ylabel('Total Earnings (in milion)', fontsize=12.5, color='#802323')\n",
    "\n",
    "x = 10 ** 8    # 100,000,000\n",
    "plt.yticks([0.25*x, 0.5*x, 0.75*x, 1*x, 1.25*x, 1.5*x, 1.75*x, 2*x])\n",
    "plt.xticks(rotation=90)\n",
    "\n",
    "#plt.grid(axis='y')\n",
    "plt.show()\n",
    "#fig.savefig('Top Games by Earnings.png')"
   ]
  },
  {
   "cell_type": "code",
   "execution_count": 42,
   "id": "cddc2c13-1411-4233-821f-a442548ebffc",
   "metadata": {},
   "outputs": [
    {
     "name": "stdout",
     "output_type": "stream",
     "text": [
      "\n",
      " ➥ As we can see in this graph,  \u001b[1mDota 2\u001b[0m  has huge Earnings (\u001b[1m$179,178,818.95\u001b[0m) compared with other games!\n"
     ]
    }
   ],
   "source": [
    "top1_game = top_games.index[0]\n",
    "top1_earnings = top_games[0]\n",
    "\n",
    "print('\\n ➥ As we can see in this graph,  {0}{2}{1}  has huge Earnings ({0}${3:,}{1}) compared with other games!'.format(format_bold,\n",
    "                                                                                                                               format_end,\n",
    "                                                                                                                               top1_game,\n",
    "                                                                                                                               top1_earnings))"
   ]
  },
  {
   "cell_type": "markdown",
   "id": "dd3a2194-10af-4a27-8275-281d68133ba2",
   "metadata": {
    "tags": []
   },
   "source": [
    "# "
   ]
  },
  {
   "cell_type": "markdown",
   "id": "b0d80bf5-4394-4271-8a2b-c35ea6492f89",
   "metadata": {},
   "source": [
    "### ⭒ Top 10 Players (by Earnings)"
   ]
  },
  {
   "cell_type": "code",
   "execution_count": 43,
   "id": "7a3aead1-eb7a-471c-90ea-20076434d8eb",
   "metadata": {},
   "outputs": [
    {
     "data": {
      "text/html": [
       "<div>\n",
       "<style scoped>\n",
       "    .dataframe tbody tr th:only-of-type {\n",
       "        vertical-align: middle;\n",
       "    }\n",
       "\n",
       "    .dataframe tbody tr th {\n",
       "        vertical-align: top;\n",
       "    }\n",
       "\n",
       "    .dataframe thead th {\n",
       "        text-align: right;\n",
       "    }\n",
       "</style>\n",
       "<table border=\"1\" class=\"dataframe\">\n",
       "  <thead>\n",
       "    <tr style=\"text-align: right;\">\n",
       "      <th></th>\n",
       "      <th>PlayerId</th>\n",
       "      <th>NameFirst</th>\n",
       "      <th>NameLast</th>\n",
       "      <th>CurrentHandle</th>\n",
       "      <th>CountryCode</th>\n",
       "      <th>TotalUSDPrize</th>\n",
       "      <th>Game</th>\n",
       "      <th>Genre</th>\n",
       "    </tr>\n",
       "  </thead>\n",
       "  <tbody>\n",
       "    <tr>\n",
       "      <th>0</th>\n",
       "      <td>3883</td>\n",
       "      <td>Peter</td>\n",
       "      <td>Rasmussen</td>\n",
       "      <td>dupreeh</td>\n",
       "      <td>DK</td>\n",
       "      <td>1,822,989.41</td>\n",
       "      <td>Counter-Strike: Global Offensive</td>\n",
       "      <td>First-Person Shooter</td>\n",
       "    </tr>\n",
       "    <tr>\n",
       "      <th>1</th>\n",
       "      <td>3679</td>\n",
       "      <td>Andreas</td>\n",
       "      <td>Højsleth</td>\n",
       "      <td>Xyp9x</td>\n",
       "      <td>DK</td>\n",
       "      <td>1,799,288.57</td>\n",
       "      <td>Counter-Strike: Global Offensive</td>\n",
       "      <td>First-Person Shooter</td>\n",
       "    </tr>\n",
       "    <tr>\n",
       "      <th>2</th>\n",
       "      <td>3885</td>\n",
       "      <td>Nicolai</td>\n",
       "      <td>Reedtz</td>\n",
       "      <td>dev1ce</td>\n",
       "      <td>DK</td>\n",
       "      <td>1,787,489.88</td>\n",
       "      <td>Counter-Strike: Global Offensive</td>\n",
       "      <td>First-Person Shooter</td>\n",
       "    </tr>\n",
       "    <tr>\n",
       "      <th>3</th>\n",
       "      <td>3672</td>\n",
       "      <td>Lukas</td>\n",
       "      <td>Rossander</td>\n",
       "      <td>gla1ve</td>\n",
       "      <td>DK</td>\n",
       "      <td>1,652,350.75</td>\n",
       "      <td>Counter-Strike: Global Offensive</td>\n",
       "      <td>First-Person Shooter</td>\n",
       "    </tr>\n",
       "    <tr>\n",
       "      <th>4</th>\n",
       "      <td>17800</td>\n",
       "      <td>Emil</td>\n",
       "      <td>Reif</td>\n",
       "      <td>Magisk</td>\n",
       "      <td>DK</td>\n",
       "      <td>1,416,448.64</td>\n",
       "      <td>Counter-Strike: Global Offensive</td>\n",
       "      <td>First-Person Shooter</td>\n",
       "    </tr>\n",
       "  </tbody>\n",
       "</table>\n",
       "</div>"
      ],
      "text/plain": [
       "   PlayerId NameFirst   NameLast CurrentHandle CountryCode  TotalUSDPrize  \\\n",
       "0      3883     Peter  Rasmussen       dupreeh          DK   1,822,989.41   \n",
       "1      3679   Andreas   Højsleth         Xyp9x          DK   1,799,288.57   \n",
       "2      3885   Nicolai     Reedtz        dev1ce          DK   1,787,489.88   \n",
       "3      3672     Lukas  Rossander        gla1ve          DK   1,652,350.75   \n",
       "4     17800      Emil       Reif        Magisk          DK   1,416,448.64   \n",
       "\n",
       "                               Game                 Genre  \n",
       "0  Counter-Strike: Global Offensive  First-Person Shooter  \n",
       "1  Counter-Strike: Global Offensive  First-Person Shooter  \n",
       "2  Counter-Strike: Global Offensive  First-Person Shooter  \n",
       "3  Counter-Strike: Global Offensive  First-Person Shooter  \n",
       "4  Counter-Strike: Global Offensive  First-Person Shooter  "
      ]
     },
     "execution_count": 43,
     "metadata": {},
     "output_type": "execute_result"
    }
   ],
   "source": [
    "players.head()"
   ]
  },
  {
   "cell_type": "code",
   "execution_count": 44,
   "id": "9c7fe364-06da-443d-bfbd-82e08c790622",
   "metadata": {},
   "outputs": [],
   "source": [
    "top_10_players = players.sort_values('TotalUSDPrize', ascending=False).head(10)"
   ]
  },
  {
   "cell_type": "code",
   "execution_count": 45,
   "id": "241f90ef-21d6-456e-a162-9c854c0c8592",
   "metadata": {},
   "outputs": [],
   "source": [
    "top_10_players = top_10_players.sort_values('TotalUSDPrize')"
   ]
  },
  {
   "cell_type": "code",
   "execution_count": 46,
   "id": "0ff039e2-1ce0-4152-88d8-6cb13ac378db",
   "metadata": {},
   "outputs": [
    {
     "data": {
      "text/html": [
       "<div>\n",
       "<style scoped>\n",
       "    .dataframe tbody tr th:only-of-type {\n",
       "        vertical-align: middle;\n",
       "    }\n",
       "\n",
       "    .dataframe tbody tr th {\n",
       "        vertical-align: top;\n",
       "    }\n",
       "\n",
       "    .dataframe thead th {\n",
       "        text-align: right;\n",
       "    }\n",
       "</style>\n",
       "<table border=\"1\" class=\"dataframe\">\n",
       "  <thead>\n",
       "    <tr style=\"text-align: right;\">\n",
       "      <th></th>\n",
       "      <th>PlayerId</th>\n",
       "      <th>NameFirst</th>\n",
       "      <th>NameLast</th>\n",
       "      <th>CurrentHandle</th>\n",
       "      <th>CountryCode</th>\n",
       "      <th>TotalUSDPrize</th>\n",
       "      <th>Game</th>\n",
       "      <th>Genre</th>\n",
       "    </tr>\n",
       "  </thead>\n",
       "  <tbody>\n",
       "    <tr>\n",
       "      <th>109</th>\n",
       "      <td>12133</td>\n",
       "      <td>Lasse</td>\n",
       "      <td>Urpalainen</td>\n",
       "      <td>Matumbaman</td>\n",
       "      <td>FI</td>\n",
       "      <td>3,765,369.04</td>\n",
       "      <td>Dota 2</td>\n",
       "      <td>Multiplayer Online Battle Arena</td>\n",
       "    </tr>\n",
       "    <tr>\n",
       "      <th>108</th>\n",
       "      <td>25335</td>\n",
       "      <td>Maroun</td>\n",
       "      <td>Merhej</td>\n",
       "      <td>GH</td>\n",
       "      <td>LB</td>\n",
       "      <td>4,193,412.69</td>\n",
       "      <td>Dota 2</td>\n",
       "      <td>Multiplayer Online Battle Arena</td>\n",
       "    </tr>\n",
       "    <tr>\n",
       "      <th>107</th>\n",
       "      <td>12579</td>\n",
       "      <td>Ivan</td>\n",
       "      <td>Ivanov</td>\n",
       "      <td>MinD_ContRoL</td>\n",
       "      <td>BG</td>\n",
       "      <td>4,579,118.16</td>\n",
       "      <td>Dota 2</td>\n",
       "      <td>Multiplayer Online Battle Arena</td>\n",
       "    </tr>\n",
       "    <tr>\n",
       "      <th>106</th>\n",
       "      <td>14671</td>\n",
       "      <td>Amer</td>\n",
       "      <td>Al-Barkawi</td>\n",
       "      <td>Miracle-</td>\n",
       "      <td>JO</td>\n",
       "      <td>4,798,043.68</td>\n",
       "      <td>Dota 2</td>\n",
       "      <td>Multiplayer Online Battle Arena</td>\n",
       "    </tr>\n",
       "    <tr>\n",
       "      <th>105</th>\n",
       "      <td>3145</td>\n",
       "      <td>Kuro</td>\n",
       "      <td>Takhasomi</td>\n",
       "      <td>KuroKy</td>\n",
       "      <td>DE</td>\n",
       "      <td>5,193,382.81</td>\n",
       "      <td>Dota 2</td>\n",
       "      <td>Multiplayer Online Battle Arena</td>\n",
       "    </tr>\n",
       "    <tr>\n",
       "      <th>104</th>\n",
       "      <td>18897</td>\n",
       "      <td>Topias</td>\n",
       "      <td>Taavitsainen</td>\n",
       "      <td>Topson</td>\n",
       "      <td>FI</td>\n",
       "      <td>5,470,902.57</td>\n",
       "      <td>Dota 2</td>\n",
       "      <td>Multiplayer Online Battle Arena</td>\n",
       "    </tr>\n",
       "    <tr>\n",
       "      <th>103</th>\n",
       "      <td>2811</td>\n",
       "      <td>Sébastien</td>\n",
       "      <td>Debs</td>\n",
       "      <td>Ceb</td>\n",
       "      <td>FR</td>\n",
       "      <td>5,554,297.41</td>\n",
       "      <td>Dota 2</td>\n",
       "      <td>Multiplayer Online Battle Arena</td>\n",
       "    </tr>\n",
       "    <tr>\n",
       "      <th>102</th>\n",
       "      <td>30451</td>\n",
       "      <td>Anathan</td>\n",
       "      <td>Pham</td>\n",
       "      <td>ana</td>\n",
       "      <td>AU</td>\n",
       "      <td>6,000,411.96</td>\n",
       "      <td>Dota 2</td>\n",
       "      <td>Multiplayer Online Battle Arena</td>\n",
       "    </tr>\n",
       "    <tr>\n",
       "      <th>101</th>\n",
       "      <td>3822</td>\n",
       "      <td>Jesse</td>\n",
       "      <td>Vainikka</td>\n",
       "      <td>JerAx</td>\n",
       "      <td>FI</td>\n",
       "      <td>6,470,000.02</td>\n",
       "      <td>Dota 2</td>\n",
       "      <td>Multiplayer Online Battle Arena</td>\n",
       "    </tr>\n",
       "    <tr>\n",
       "      <th>100</th>\n",
       "      <td>3304</td>\n",
       "      <td>Johan</td>\n",
       "      <td>Sundstein</td>\n",
       "      <td>N0tail</td>\n",
       "      <td>DK</td>\n",
       "      <td>6,952,596.58</td>\n",
       "      <td>Dota 2</td>\n",
       "      <td>Multiplayer Online Battle Arena</td>\n",
       "    </tr>\n",
       "  </tbody>\n",
       "</table>\n",
       "</div>"
      ],
      "text/plain": [
       "     PlayerId  NameFirst      NameLast CurrentHandle CountryCode  \\\n",
       "109     12133      Lasse    Urpalainen    Matumbaman          FI   \n",
       "108     25335     Maroun        Merhej            GH          LB   \n",
       "107     12579       Ivan        Ivanov  MinD_ContRoL          BG   \n",
       "106     14671       Amer    Al-Barkawi      Miracle-          JO   \n",
       "105      3145       Kuro     Takhasomi        KuroKy          DE   \n",
       "104     18897     Topias  Taavitsainen        Topson          FI   \n",
       "103      2811  Sébastien          Debs           Ceb          FR   \n",
       "102     30451    Anathan          Pham           ana          AU   \n",
       "101      3822      Jesse      Vainikka         JerAx          FI   \n",
       "100      3304      Johan     Sundstein        N0tail          DK   \n",
       "\n",
       "     TotalUSDPrize    Game                            Genre  \n",
       "109   3,765,369.04  Dota 2  Multiplayer Online Battle Arena  \n",
       "108   4,193,412.69  Dota 2  Multiplayer Online Battle Arena  \n",
       "107   4,579,118.16  Dota 2  Multiplayer Online Battle Arena  \n",
       "106   4,798,043.68  Dota 2  Multiplayer Online Battle Arena  \n",
       "105   5,193,382.81  Dota 2  Multiplayer Online Battle Arena  \n",
       "104   5,470,902.57  Dota 2  Multiplayer Online Battle Arena  \n",
       "103   5,554,297.41  Dota 2  Multiplayer Online Battle Arena  \n",
       "102   6,000,411.96  Dota 2  Multiplayer Online Battle Arena  \n",
       "101   6,470,000.02  Dota 2  Multiplayer Online Battle Arena  \n",
       "100   6,952,596.58  Dota 2  Multiplayer Online Battle Arena  "
      ]
     },
     "execution_count": 46,
     "metadata": {},
     "output_type": "execute_result"
    }
   ],
   "source": [
    "top_10_players"
   ]
  },
  {
   "cell_type": "code",
   "execution_count": 47,
   "id": "d70760c1-7a79-4e83-9173-a4aabfcdda0d",
   "metadata": {},
   "outputs": [
    {
     "data": {
      "image/png": "[encoded data removed]",
      "text/plain": [
       "<Figure size 720x540 with 1 Axes>"
      ]
     },
     "metadata": {},
     "output_type": "display_data"
    }
   ],
   "source": [
    "fig, ax = plt.subplots(figsize=(8,6), dpi=90)\n",
    "\n",
    "plt.barh( '(' + top_10_players['Game'] + ') ' + top_10_players['CurrentHandle'], top_10_players['TotalUSDPrize'])\n",
    "\n",
    "\n",
    "for idx, val in enumerate(top_10_players['TotalUSDPrize']):\n",
    "    ax.text(val - 10 ** 5, idx - 0.1, str(round(val / 10 ** 6, 2)) + 'M', ha='right', fontsize=13, color='white',fontweight='bold')\n",
    "\n",
    "\n",
    "plt.title('Top 10 Player by Earnings', color='#843030', fontsize=15, fontweight='bold')\n",
    "plt.ylabel('(Game) Nick Name', color='#843030', fontsize=12, fontweight='bold')\n",
    "plt.xlabel('Earnings (in millions)',  color='#843030', fontsize=12, fontweight='bold')\n",
    "\n",
    "plt.show()"
   ]
  },
  {
   "cell_type": "markdown",
   "id": "d3316e63-84ef-4a4e-ba7f-330d58f5272e",
   "metadata": {},
   "source": [
    "# "
   ]
  },
  {
   "cell_type": "code",
   "execution_count": 48,
   "id": "f22af632-3fbe-4b83-aec4-bfdb7a61176f",
   "metadata": {},
   "outputs": [
    {
     "data": {
      "text/html": [
       "<div>\n",
       "<style scoped>\n",
       "    .dataframe tbody tr th:only-of-type {\n",
       "        vertical-align: middle;\n",
       "    }\n",
       "\n",
       "    .dataframe tbody tr th {\n",
       "        vertical-align: top;\n",
       "    }\n",
       "\n",
       "    .dataframe thead th {\n",
       "        text-align: right;\n",
       "    }\n",
       "</style>\n",
       "<table border=\"1\" class=\"dataframe\">\n",
       "  <thead>\n",
       "    <tr style=\"text-align: right;\">\n",
       "      <th></th>\n",
       "      <th>PlayerId</th>\n",
       "      <th>NameFirst</th>\n",
       "      <th>NameLast</th>\n",
       "      <th>CurrentHandle</th>\n",
       "      <th>TotalUSDPrize</th>\n",
       "      <th>Game</th>\n",
       "      <th>Genre</th>\n",
       "      <th>Continent_Name</th>\n",
       "      <th>Country_Name</th>\n",
       "      <th>Country_Number</th>\n",
       "    </tr>\n",
       "  </thead>\n",
       "  <tbody>\n",
       "    <tr>\n",
       "      <th>0</th>\n",
       "      <td>61896</td>\n",
       "      <td>Thiago</td>\n",
       "      <td>Lapp</td>\n",
       "      <td>kinG</td>\n",
       "      <td>1,021,000.00</td>\n",
       "      <td>Fortnite</td>\n",
       "      <td>Battle Royale</td>\n",
       "      <td>South America</td>\n",
       "      <td>Argentina, Argentine Republic</td>\n",
       "      <td>32.00</td>\n",
       "    </tr>\n",
       "    <tr>\n",
       "      <th>1</th>\n",
       "      <td>30167</td>\n",
       "      <td>Francisco</td>\n",
       "      <td>Leimontas</td>\n",
       "      <td>PNC</td>\n",
       "      <td>82,409.24</td>\n",
       "      <td>Hearthstone</td>\n",
       "      <td>Collectible Card Game</td>\n",
       "      <td>South America</td>\n",
       "      <td>Argentina, Argentine Republic</td>\n",
       "      <td>32.00</td>\n",
       "    </tr>\n",
       "    <tr>\n",
       "      <th>2</th>\n",
       "      <td>15703</td>\n",
       "      <td>Facu</td>\n",
       "      <td>Pruzzo</td>\n",
       "      <td>Nalguidan</td>\n",
       "      <td>70,750.00</td>\n",
       "      <td>Hearthstone</td>\n",
       "      <td>Collectible Card Game</td>\n",
       "      <td>South America</td>\n",
       "      <td>Argentina, Argentine Republic</td>\n",
       "      <td>32.00</td>\n",
       "    </tr>\n",
       "    <tr>\n",
       "      <th>3</th>\n",
       "      <td>30451</td>\n",
       "      <td>Anathan</td>\n",
       "      <td>Pham</td>\n",
       "      <td>ana</td>\n",
       "      <td>6,000,411.96</td>\n",
       "      <td>Dota 2</td>\n",
       "      <td>Multiplayer Online Battle Arena</td>\n",
       "      <td>Oceania</td>\n",
       "      <td>Australia, Commonwealth of</td>\n",
       "      <td>36.00</td>\n",
       "    </tr>\n",
       "    <tr>\n",
       "      <th>4</th>\n",
       "      <td>15530</td>\n",
       "      <td>Damien</td>\n",
       "      <td>Chok</td>\n",
       "      <td>kpii</td>\n",
       "      <td>1,809,225.30</td>\n",
       "      <td>Dota 2</td>\n",
       "      <td>Multiplayer Online Battle Arena</td>\n",
       "      <td>Oceania</td>\n",
       "      <td>Australia, Commonwealth of</td>\n",
       "      <td>36.00</td>\n",
       "    </tr>\n",
       "  </tbody>\n",
       "</table>\n",
       "</div>"
      ],
      "text/plain": [
       "   PlayerId  NameFirst   NameLast CurrentHandle  TotalUSDPrize         Game  \\\n",
       "0     61896     Thiago       Lapp          kinG   1,021,000.00     Fortnite   \n",
       "1     30167  Francisco  Leimontas           PNC      82,409.24  Hearthstone   \n",
       "2     15703       Facu     Pruzzo     Nalguidan      70,750.00  Hearthstone   \n",
       "3     30451    Anathan       Pham           ana   6,000,411.96       Dota 2   \n",
       "4     15530     Damien       Chok          kpii   1,809,225.30       Dota 2   \n",
       "\n",
       "                             Genre Continent_Name  \\\n",
       "0                    Battle Royale  South America   \n",
       "1            Collectible Card Game  South America   \n",
       "2            Collectible Card Game  South America   \n",
       "3  Multiplayer Online Battle Arena        Oceania   \n",
       "4  Multiplayer Online Battle Arena        Oceania   \n",
       "\n",
       "                    Country_Name  Country_Number  \n",
       "0  Argentina, Argentine Republic           32.00  \n",
       "1  Argentina, Argentine Republic           32.00  \n",
       "2  Argentina, Argentine Republic           32.00  \n",
       "3     Australia, Commonwealth of           36.00  \n",
       "4     Australia, Commonwealth of           36.00  "
      ]
     },
     "execution_count": 48,
     "metadata": {},
     "output_type": "execute_result"
    }
   ],
   "source": [
    "players_location.head()"
   ]
  },
  {
   "cell_type": "code",
   "execution_count": 49,
   "id": "c802cbe0-9c8b-4f57-806c-1eac657c043a",
   "metadata": {},
   "outputs": [],
   "source": [
    "earnings_by_continent = players_location.groupby('Continent_Name')['TotalUSDPrize'].sum()"
   ]
  },
  {
   "cell_type": "code",
   "execution_count": 50,
   "id": "682b1b1c-4a91-459e-b23e-782377954deb",
   "metadata": {},
   "outputs": [
    {
     "data": {
      "text/plain": [
       "Continent_Name\n",
       "Asia            182,713,541.04\n",
       "Europe          156,351,953.42\n",
       "North America    57,037,267.41\n",
       "Oceania           7,999,674.76\n",
       "South America     6,951,711.24\n",
       "Name: TotalUSDPrize, dtype: float64"
      ]
     },
     "execution_count": 50,
     "metadata": {},
     "output_type": "execute_result"
    }
   ],
   "source": [
    "earnings_by_continent"
   ]
  },
  {
   "cell_type": "code",
   "execution_count": 51,
   "id": "c87b928f-a0b0-4a70-be63-b23eebafc843",
   "metadata": {},
   "outputs": [
    {
     "data": {
      "image/png": "[encoded data removed]",
      "text/plain": [
       "<Figure size 500x400 with 1 Axes>"
      ]
     },
     "metadata": {},
     "output_type": "display_data"
    }
   ],
   "source": [
    "fig, ax = plt.subplots(figsize=(5,4), dpi=100)\n",
    "fig.subplots_adjust(0.3, 0, 1, 1)\n",
    "\n",
    "plt.pie(earnings_by_continent, labels=earnings_by_continent.index, autopct='%.2f%%')\n",
    "\n",
    "plt.title('Earnings by Continent', color='#843030', fontsize=14, fontweight='bold')\n",
    "\n",
    "\n",
    "plt.legend(loc='upper right',\n",
    "           labels=['{}: ${} millions'.format(name, round(val / 10 ** 6, 2)) for name, val in zip(earnings_by_continent.index, earnings_by_continent)],\n",
    "           bbox_to_anchor=(1.6,1),\n",
    "           bbox_transform=fig.transFigure)\n",
    "\n",
    "plt.show()"
   ]
  },
  {
   "cell_type": "code",
   "execution_count": 52,
   "id": "cd9a8783-75b1-4097-8a88-10a1e6fc6a6e",
   "metadata": {},
   "outputs": [
    {
     "name": "stdout",
     "output_type": "stream",
     "text": [
      "\n",
      " ➥ Here are two Continents with huge earnings:\n",
      "      ⤷ \u001b[1mAsia\u001b[0m with \u001b[1m$182,713,541.04\u001b[0m, that represent \u001b[1m44.45%\u001b[0m from entire earnings of all Continents!\n",
      "      ⤷ \u001b[1mEurope\u001b[0m with \u001b[1m$156,351,953.42\u001b[0m, that represent \u001b[1m38.04%\u001b[0m from entire earnings of all Continents!\n"
     ]
    }
   ],
   "source": [
    "first_continent = earnings_by_continent.index[0]\n",
    "first_continent_earnings = earnings_by_continent[0]\n",
    "second_continent = earnings_by_continent.index[1]\n",
    "second_continent_earnings = earnings_by_continent[1]\n",
    "percent_first_c_earn = round(first_continent_earnings / earnings_by_continent.sum() * 100, 2)\n",
    "percent_second_c_earn = round(second_continent_earnings / earnings_by_continent.sum() * 100, 2)\n",
    "\n",
    "\n",
    "print('\\n ➥ Here are two Continents with huge earnings:\\n \\\n",
    "     ⤷ {0}{2}{1} with {0}${3:,}{1}, that represent {0}{4}%{1} from entire earnings of all Continents!\\n \\\n",
    "     ⤷ {0}{5}{1} with {0}${6:,}{1}, that represent {0}{7}%{1} from entire earnings of all Continents!'.format(format_bold,\n",
    "                                                                                                              format_end,\n",
    "                                                                                                              first_continent,\n",
    "                                                                                                              first_continent_earnings,\n",
    "                                                                                                              percent_first_c_earn,\n",
    "                                                                                                              second_continent,\n",
    "                                                                                                              second_continent_earnings,\n",
    "                                                                                                              percent_second_c_earn))"
   ]
  },
  {
   "cell_type": "markdown",
   "id": "2095ef8f-3a88-419e-bf05-75c83afee159",
   "metadata": {},
   "source": [
    "# "
   ]
  },
  {
   "cell_type": "markdown",
   "id": "abee0aa0-05fe-4cf5-bfe0-740ceed0260c",
   "metadata": {},
   "source": [
    "### ⭒ What is the proportion of earnings per genre in terms of both teams and players?"
   ]
  },
  {
   "cell_type": "code",
   "execution_count": 53,
   "id": "6264f371-6080-4788-a691-472b6c13a0f7",
   "metadata": {},
   "outputs": [
    {
     "data": {
      "text/html": [
       "<div>\n",
       "<style scoped>\n",
       "    .dataframe tbody tr th:only-of-type {\n",
       "        vertical-align: middle;\n",
       "    }\n",
       "\n",
       "    .dataframe tbody tr th {\n",
       "        vertical-align: top;\n",
       "    }\n",
       "\n",
       "    .dataframe thead th {\n",
       "        text-align: right;\n",
       "    }\n",
       "</style>\n",
       "<table border=\"1\" class=\"dataframe\">\n",
       "  <thead>\n",
       "    <tr style=\"text-align: right;\">\n",
       "      <th></th>\n",
       "      <th>PlayerId</th>\n",
       "      <th>NameFirst</th>\n",
       "      <th>NameLast</th>\n",
       "      <th>CurrentHandle</th>\n",
       "      <th>TotalUSDPrize</th>\n",
       "      <th>Game</th>\n",
       "      <th>Genre</th>\n",
       "      <th>Continent_Name</th>\n",
       "      <th>Country_Name</th>\n",
       "      <th>Country_Number</th>\n",
       "    </tr>\n",
       "  </thead>\n",
       "  <tbody>\n",
       "    <tr>\n",
       "      <th>0</th>\n",
       "      <td>61896</td>\n",
       "      <td>Thiago</td>\n",
       "      <td>Lapp</td>\n",
       "      <td>kinG</td>\n",
       "      <td>1,021,000.00</td>\n",
       "      <td>Fortnite</td>\n",
       "      <td>Battle Royale</td>\n",
       "      <td>South America</td>\n",
       "      <td>Argentina, Argentine Republic</td>\n",
       "      <td>32.00</td>\n",
       "    </tr>\n",
       "    <tr>\n",
       "      <th>1</th>\n",
       "      <td>30167</td>\n",
       "      <td>Francisco</td>\n",
       "      <td>Leimontas</td>\n",
       "      <td>PNC</td>\n",
       "      <td>82,409.24</td>\n",
       "      <td>Hearthstone</td>\n",
       "      <td>Collectible Card Game</td>\n",
       "      <td>South America</td>\n",
       "      <td>Argentina, Argentine Republic</td>\n",
       "      <td>32.00</td>\n",
       "    </tr>\n",
       "    <tr>\n",
       "      <th>2</th>\n",
       "      <td>15703</td>\n",
       "      <td>Facu</td>\n",
       "      <td>Pruzzo</td>\n",
       "      <td>Nalguidan</td>\n",
       "      <td>70,750.00</td>\n",
       "      <td>Hearthstone</td>\n",
       "      <td>Collectible Card Game</td>\n",
       "      <td>South America</td>\n",
       "      <td>Argentina, Argentine Republic</td>\n",
       "      <td>32.00</td>\n",
       "    </tr>\n",
       "    <tr>\n",
       "      <th>3</th>\n",
       "      <td>30451</td>\n",
       "      <td>Anathan</td>\n",
       "      <td>Pham</td>\n",
       "      <td>ana</td>\n",
       "      <td>6,000,411.96</td>\n",
       "      <td>Dota 2</td>\n",
       "      <td>Multiplayer Online Battle Arena</td>\n",
       "      <td>Oceania</td>\n",
       "      <td>Australia, Commonwealth of</td>\n",
       "      <td>36.00</td>\n",
       "    </tr>\n",
       "    <tr>\n",
       "      <th>4</th>\n",
       "      <td>15530</td>\n",
       "      <td>Damien</td>\n",
       "      <td>Chok</td>\n",
       "      <td>kpii</td>\n",
       "      <td>1,809,225.30</td>\n",
       "      <td>Dota 2</td>\n",
       "      <td>Multiplayer Online Battle Arena</td>\n",
       "      <td>Oceania</td>\n",
       "      <td>Australia, Commonwealth of</td>\n",
       "      <td>36.00</td>\n",
       "    </tr>\n",
       "  </tbody>\n",
       "</table>\n",
       "</div>"
      ],
      "text/plain": [
       "   PlayerId  NameFirst   NameLast CurrentHandle  TotalUSDPrize         Game  \\\n",
       "0     61896     Thiago       Lapp          kinG   1,021,000.00     Fortnite   \n",
       "1     30167  Francisco  Leimontas           PNC      82,409.24  Hearthstone   \n",
       "2     15703       Facu     Pruzzo     Nalguidan      70,750.00  Hearthstone   \n",
       "3     30451    Anathan       Pham           ana   6,000,411.96       Dota 2   \n",
       "4     15530     Damien       Chok          kpii   1,809,225.30       Dota 2   \n",
       "\n",
       "                             Genre Continent_Name  \\\n",
       "0                    Battle Royale  South America   \n",
       "1            Collectible Card Game  South America   \n",
       "2            Collectible Card Game  South America   \n",
       "3  Multiplayer Online Battle Arena        Oceania   \n",
       "4  Multiplayer Online Battle Arena        Oceania   \n",
       "\n",
       "                    Country_Name  Country_Number  \n",
       "0  Argentina, Argentine Republic           32.00  \n",
       "1  Argentina, Argentine Republic           32.00  \n",
       "2  Argentina, Argentine Republic           32.00  \n",
       "3     Australia, Commonwealth of           36.00  \n",
       "4     Australia, Commonwealth of           36.00  "
      ]
     },
     "execution_count": 53,
     "metadata": {},
     "output_type": "execute_result"
    }
   ],
   "source": [
    "players_location.head()"
   ]
  },
  {
   "cell_type": "code",
   "execution_count": 54,
   "id": "1eed16ee-9c00-4bb0-876f-10e8e08f7d65",
   "metadata": {},
   "outputs": [
    {
     "data": {
      "text/html": [
       "<div>\n",
       "<style scoped>\n",
       "    .dataframe tbody tr th:only-of-type {\n",
       "        vertical-align: middle;\n",
       "    }\n",
       "\n",
       "    .dataframe tbody tr th {\n",
       "        vertical-align: top;\n",
       "    }\n",
       "\n",
       "    .dataframe thead th {\n",
       "        text-align: right;\n",
       "    }\n",
       "</style>\n",
       "<table border=\"1\" class=\"dataframe\">\n",
       "  <thead>\n",
       "    <tr style=\"text-align: right;\">\n",
       "      <th></th>\n",
       "      <th>TeamId</th>\n",
       "      <th>TeamName</th>\n",
       "      <th>TotalUSDPrize</th>\n",
       "      <th>TotalTournaments</th>\n",
       "      <th>Game</th>\n",
       "      <th>Genre</th>\n",
       "    </tr>\n",
       "  </thead>\n",
       "  <tbody>\n",
       "    <tr>\n",
       "      <th>0</th>\n",
       "      <td>760</td>\n",
       "      <td>San Francisco Shock</td>\n",
       "      <td>3,105,000.00</td>\n",
       "      <td>7</td>\n",
       "      <td>Overwatch</td>\n",
       "      <td>First-Person Shooter</td>\n",
       "    </tr>\n",
       "    <tr>\n",
       "      <th>1</th>\n",
       "      <td>776</td>\n",
       "      <td>London Spitfire</td>\n",
       "      <td>1,591,136.50</td>\n",
       "      <td>13</td>\n",
       "      <td>Overwatch</td>\n",
       "      <td>First-Person Shooter</td>\n",
       "    </tr>\n",
       "    <tr>\n",
       "      <th>2</th>\n",
       "      <td>768</td>\n",
       "      <td>New York Excelsior</td>\n",
       "      <td>1,572,618.50</td>\n",
       "      <td>18</td>\n",
       "      <td>Overwatch</td>\n",
       "      <td>First-Person Shooter</td>\n",
       "    </tr>\n",
       "    <tr>\n",
       "      <th>3</th>\n",
       "      <td>773</td>\n",
       "      <td>Philadelphia Fusion</td>\n",
       "      <td>1,186,278.50</td>\n",
       "      <td>15</td>\n",
       "      <td>Overwatch</td>\n",
       "      <td>First-Person Shooter</td>\n",
       "    </tr>\n",
       "    <tr>\n",
       "      <th>4</th>\n",
       "      <td>766</td>\n",
       "      <td>Seoul Dynasty</td>\n",
       "      <td>1,130,000.00</td>\n",
       "      <td>6</td>\n",
       "      <td>Overwatch</td>\n",
       "      <td>First-Person Shooter</td>\n",
       "    </tr>\n",
       "  </tbody>\n",
       "</table>\n",
       "</div>"
      ],
      "text/plain": [
       "   TeamId             TeamName  TotalUSDPrize  TotalTournaments       Game  \\\n",
       "0     760  San Francisco Shock   3,105,000.00                 7  Overwatch   \n",
       "1     776      London Spitfire   1,591,136.50                13  Overwatch   \n",
       "2     768   New York Excelsior   1,572,618.50                18  Overwatch   \n",
       "3     773  Philadelphia Fusion   1,186,278.50                15  Overwatch   \n",
       "4     766        Seoul Dynasty   1,130,000.00                 6  Overwatch   \n",
       "\n",
       "                  Genre  \n",
       "0  First-Person Shooter  \n",
       "1  First-Person Shooter  \n",
       "2  First-Person Shooter  \n",
       "3  First-Person Shooter  \n",
       "4  First-Person Shooter  "
      ]
     },
     "execution_count": 54,
     "metadata": {},
     "output_type": "execute_result"
    }
   ],
   "source": [
    "teams.head()"
   ]
  },
  {
   "cell_type": "code",
   "execution_count": 55,
   "id": "211064af-a59c-4af3-94b0-ac894c8355bf",
   "metadata": {},
   "outputs": [],
   "source": [
    "teams_groupedby_genre = teams.groupby('Genre')['TotalUSDPrize'].sum()"
   ]
  },
  {
   "cell_type": "code",
   "execution_count": 56,
   "id": "a5fc2b7e-b0b7-4d82-930b-c77bff6518b1",
   "metadata": {},
   "outputs": [
    {
     "data": {
      "text/plain": [
       "Genre\n",
       "Battle Royale                      51,376,333.09\n",
       "Collectible Card Game              10,864,526.98\n",
       "First-Person Shooter              105,319,201.82\n",
       "Multiplayer Online Battle Arena   305,627,996.77\n",
       "Strategy                           27,856,145.24\n",
       "Name: TotalUSDPrize, dtype: float64"
      ]
     },
     "execution_count": 56,
     "metadata": {},
     "output_type": "execute_result"
    }
   ],
   "source": [
    "teams_groupedby_genre"
   ]
  },
  {
   "cell_type": "code",
   "execution_count": 57,
   "id": "0c0a0b2d-0b1f-454a-ac4a-1098b6c88ccd",
   "metadata": {},
   "outputs": [],
   "source": [
    "players_groupedby_genre = players.groupby('Genre')['TotalUSDPrize'].sum()"
   ]
  },
  {
   "cell_type": "code",
   "execution_count": 58,
   "id": "25f43f3f-303c-48c8-a31b-f68e986a5fc7",
   "metadata": {},
   "outputs": [
    {
     "data": {
      "text/plain": [
       "Genre\n",
       "Battle Royale                      55,851,329.80\n",
       "Collectible Card Game              13,335,640.79\n",
       "First-Person Shooter               68,889,729.40\n",
       "Multiplayer Online Battle Arena   234,336,692.49\n",
       "Strategy                           25,379,823.93\n",
       "Name: TotalUSDPrize, dtype: float64"
      ]
     },
     "execution_count": 58,
     "metadata": {},
     "output_type": "execute_result"
    }
   ],
   "source": [
    "players_groupedby_genre"
   ]
  },
  {
   "cell_type": "code",
   "execution_count": 59,
   "id": "69cb8e8c-14af-4149-8694-f73c0b7746eb",
   "metadata": {},
   "outputs": [
    {
     "name": "stdout",
     "output_type": "stream",
     "text": [
      "Teams Earnings:\n",
      "[10.25%] Battle Royale\n",
      "[ 2.17%] Collectible Card Game\n",
      "[21.02%] First-Person Shooter\n",
      "[61.00%] Multiplayer Online Battle Arena\n",
      "[ 5.56%] Strategy\n"
     ]
    }
   ],
   "source": [
    "print('Teams Earnings:')\n",
    "teams_genre = pd.Series(dtype=float)\n",
    "for idx, value in enumerate(teams_groupedby_genre):\n",
    "    percent = round(value / teams_groupedby_genre.sum() * 100, 2)\n",
    "    \n",
    "    teams_genre.loc[teams_groupedby_genre.index[idx]] = percent\n",
    "    \n",
    "    if len(str(percent).split('.')[0]) == 2:\n",
    "        print('[{1:.2f}%] {0}'.format(teams_groupedby_genre.index[idx], percent))\n",
    "    else:\n",
    "        print('[ {1:.2f}%] {0}'.format(teams_groupedby_genre.index[idx], percent))"
   ]
  },
  {
   "cell_type": "code",
   "execution_count": 60,
   "id": "80a94065-f7e3-4ab3-b8bb-31ff0c33306f",
   "metadata": {},
   "outputs": [
    {
     "name": "stdout",
     "output_type": "stream",
     "text": [
      "Players Earnings:\n",
      "[14.04%] Battle Royale\n",
      "[ 3.35%] Collectible Card Game\n",
      "[17.32%] First-Person Shooter\n",
      "[58.91%] Multiplayer Online Battle Arena\n",
      "[ 6.38%] Strategy\n"
     ]
    }
   ],
   "source": [
    "print('Players Earnings:')\n",
    "players_genre = pd.Series(dtype=float)\n",
    "for idx, value in enumerate(players_groupedby_genre):\n",
    "    percent = round(value / players_groupedby_genre.sum() * 100, 2)\n",
    "    \n",
    "    players_genre.loc[players_groupedby_genre.index[idx]] = percent\n",
    "    \n",
    "    if len(str(percent).split('.')[0]) == 2:\n",
    "        print('[{1:.2f}%] {0}'.format(players_groupedby_genre.index[idx], percent))\n",
    "    else:\n",
    "        print('[ {1:.2f}%] {0}'.format(players_groupedby_genre.index[idx], percent))"
   ]
  },
  {
   "cell_type": "code",
   "execution_count": 61,
   "id": "955ef1f2-81f6-4f7c-a345-75b4b9e2a1dd",
   "metadata": {},
   "outputs": [
    {
     "data": {
      "image/png": "[encoded data removed]",
      "text/plain": [
       "<Figure size 1100x550 with 2 Axes>"
      ]
     },
     "metadata": {},
     "output_type": "display_data"
    }
   ],
   "source": [
    "fig, axs = plt.subplots(nrows=1, ncols=2, figsize=(10,5), dpi=110)\n",
    "fig.subplots_adjust(left=0.2,\n",
    "                    bottom=0,\n",
    "                    right=1,\n",
    "                    top=1,\n",
    "                    wspace=1)\n",
    "\n",
    "\n",
    "axs[0].pie(teams_genre, autopct='%.2f%%', labels=teams_genre.index, textprops={'size':9})\n",
    "axs[0].set_title('Teams earnings by Genre', color='#843030', fontsize=14, fontweight='bold')\n",
    "\n",
    "\n",
    "axs[1].pie(players_genre, autopct='%.2f%%', labels=teams_genre.index, textprops={'size':9})\n",
    "axs[1].set_title('Players earnings by Genre', color='#843030', fontsize=14, fontweight='bold')\n",
    "\n",
    "plt.show()"
   ]
  },
  {
   "cell_type": "code",
   "execution_count": 62,
   "id": "18480348-398f-46cf-b0e8-e2a62b5f03c9",
   "metadata": {},
   "outputs": [
    {
     "name": "stdout",
     "output_type": "stream",
     "text": [
      "\n",
      " ➥ Here... we have \u001b[1mMOBA\u001b[0m with a considerable percentage in the case of both \u001b[1mTeams\u001b[0m and \u001b[1mPlayers\u001b[0m!\n"
     ]
    }
   ],
   "source": [
    "print('\\n ➥ Here... we have {0}MOBA{1} with a considerable percentage in the case of both {0}Teams{1} and {0}Players{1}!'.format(format_bold,\n",
    "                                                                                                                                 format_end))"
   ]
  },
  {
   "cell_type": "markdown",
   "id": "2eaddc33-ef0e-41c4-93b8-b6e6fba4d41e",
   "metadata": {
    "tags": []
   },
   "source": [
    "# "
   ]
  },
  {
   "cell_type": "markdown",
   "id": "9eb675e2-c675-48a2-a769-8a10951ec968",
   "metadata": {},
   "source": [
    "### ⭒ Which game is most popular in terms of number of tournaments?"
   ]
  },
  {
   "cell_type": "code",
   "execution_count": 63,
   "id": "444a861b-bbba-44e9-a383-fcaa3492c143",
   "metadata": {},
   "outputs": [
    {
     "data": {
      "text/html": [
       "<div>\n",
       "<style scoped>\n",
       "    .dataframe tbody tr th:only-of-type {\n",
       "        vertical-align: middle;\n",
       "    }\n",
       "\n",
       "    .dataframe tbody tr th {\n",
       "        vertical-align: top;\n",
       "    }\n",
       "\n",
       "    .dataframe thead th {\n",
       "        text-align: right;\n",
       "    }\n",
       "</style>\n",
       "<table border=\"1\" class=\"dataframe\">\n",
       "  <thead>\n",
       "    <tr style=\"text-align: right;\">\n",
       "      <th></th>\n",
       "      <th>TeamId</th>\n",
       "      <th>TeamName</th>\n",
       "      <th>TotalUSDPrize</th>\n",
       "      <th>TotalTournaments</th>\n",
       "      <th>Game</th>\n",
       "      <th>Genre</th>\n",
       "    </tr>\n",
       "  </thead>\n",
       "  <tbody>\n",
       "    <tr>\n",
       "      <th>0</th>\n",
       "      <td>760</td>\n",
       "      <td>San Francisco Shock</td>\n",
       "      <td>3,105,000.00</td>\n",
       "      <td>7</td>\n",
       "      <td>Overwatch</td>\n",
       "      <td>First-Person Shooter</td>\n",
       "    </tr>\n",
       "    <tr>\n",
       "      <th>1</th>\n",
       "      <td>776</td>\n",
       "      <td>London Spitfire</td>\n",
       "      <td>1,591,136.50</td>\n",
       "      <td>13</td>\n",
       "      <td>Overwatch</td>\n",
       "      <td>First-Person Shooter</td>\n",
       "    </tr>\n",
       "    <tr>\n",
       "      <th>2</th>\n",
       "      <td>768</td>\n",
       "      <td>New York Excelsior</td>\n",
       "      <td>1,572,618.50</td>\n",
       "      <td>18</td>\n",
       "      <td>Overwatch</td>\n",
       "      <td>First-Person Shooter</td>\n",
       "    </tr>\n",
       "    <tr>\n",
       "      <th>3</th>\n",
       "      <td>773</td>\n",
       "      <td>Philadelphia Fusion</td>\n",
       "      <td>1,186,278.50</td>\n",
       "      <td>15</td>\n",
       "      <td>Overwatch</td>\n",
       "      <td>First-Person Shooter</td>\n",
       "    </tr>\n",
       "    <tr>\n",
       "      <th>4</th>\n",
       "      <td>766</td>\n",
       "      <td>Seoul Dynasty</td>\n",
       "      <td>1,130,000.00</td>\n",
       "      <td>6</td>\n",
       "      <td>Overwatch</td>\n",
       "      <td>First-Person Shooter</td>\n",
       "    </tr>\n",
       "  </tbody>\n",
       "</table>\n",
       "</div>"
      ],
      "text/plain": [
       "   TeamId             TeamName  TotalUSDPrize  TotalTournaments       Game  \\\n",
       "0     760  San Francisco Shock   3,105,000.00                 7  Overwatch   \n",
       "1     776      London Spitfire   1,591,136.50                13  Overwatch   \n",
       "2     768   New York Excelsior   1,572,618.50                18  Overwatch   \n",
       "3     773  Philadelphia Fusion   1,186,278.50                15  Overwatch   \n",
       "4     766        Seoul Dynasty   1,130,000.00                 6  Overwatch   \n",
       "\n",
       "                  Genre  \n",
       "0  First-Person Shooter  \n",
       "1  First-Person Shooter  \n",
       "2  First-Person Shooter  \n",
       "3  First-Person Shooter  \n",
       "4  First-Person Shooter  "
      ]
     },
     "execution_count": 63,
     "metadata": {},
     "output_type": "execute_result"
    }
   ],
   "source": [
    "teams.head()"
   ]
  },
  {
   "cell_type": "code",
   "execution_count": 64,
   "id": "11f2e4c2-287d-4205-98b5-7412f1ad06aa",
   "metadata": {},
   "outputs": [],
   "source": [
    "most_popular_game = teams.groupby('Game')['TotalTournaments'].sum().sort_values(ascending=False)"
   ]
  },
  {
   "cell_type": "code",
   "execution_count": 65,
   "id": "c1784d99-b4a7-41ff-9214-bb6109445c75",
   "metadata": {},
   "outputs": [
    {
     "data": {
      "text/plain": [
       "Game\n",
       "Starcraft II    12676\n",
       "Name: TotalTournaments, dtype: int64"
      ]
     },
     "execution_count": 65,
     "metadata": {},
     "output_type": "execute_result"
    }
   ],
   "source": [
    "most_popular_game.head(1)"
   ]
  },
  {
   "cell_type": "code",
   "execution_count": 66,
   "id": "d76c0b1f-3a37-44f7-853b-6c210e9a0fdb",
   "metadata": {},
   "outputs": [],
   "source": [
    "most_popular_game = most_popular_game.sort_values()"
   ]
  },
  {
   "cell_type": "code",
   "execution_count": 67,
   "id": "486769a3-783d-4905-bc06-894f1b2abe7d",
   "metadata": {},
   "outputs": [
    {
     "data": {
      "image/png": "[encoded data removed]",
      "text/plain": [
       "<Figure size 720x450 with 1 Axes>"
      ]
     },
     "metadata": {},
     "output_type": "display_data"
    }
   ],
   "source": [
    "fig, ax = plt.subplots(figsize=(8,5), dpi=90)\n",
    "\n",
    "\n",
    "plt.barh(most_popular_game.index, most_popular_game)\n",
    "\n",
    "plt.title('Games by number of Tournaments', color='#843030', fontsize=14, fontweight='bold')\n",
    "\n",
    "x_axis = np.arange(0, 14001, 2000)\n",
    "plt.xticks(x_axis)\n",
    "\n",
    "for idx, val in enumerate(most_popular_game):\n",
    "    ax.text(val+80, idx, str(val), va='center', color='#36518B', fontweight='bold', fontsize=11.2)\n",
    "\n",
    "\n",
    "\n",
    "plt.show()"
   ]
  },
  {
   "cell_type": "code",
   "execution_count": 68,
   "id": "bbe99168-30a8-4d85-9b6b-218d66d831d9",
   "metadata": {},
   "outputs": [
    {
     "name": "stdout",
     "output_type": "stream",
     "text": [
      "\n",
      " ➥ The best game by the number of tournaments is \u001b[1mStarcraft II\u001b[0m with \u001b[1m12,676\u001b[0m tournaments.\n"
     ]
    }
   ],
   "source": [
    "best_game = most_popular_game.idxmax()\n",
    "number_of_tournaments = most_popular_game[most_popular_game.idxmax()]\n",
    "\n",
    "print('\\n ➥ The best game by the number of tournaments is {0}{2}{1} with {0}{3:,}{1} tournaments.'.format(format_bold,\n",
    "                                                                                                                    format_end,\n",
    "                                                                                                                    best_game,\n",
    "                                                                                                                    number_of_tournaments))"
   ]
  },
  {
   "cell_type": "markdown",
   "id": "69562dd2-a662-45e6-b2e9-d5458259e8ee",
   "metadata": {},
   "source": [
    "# "
   ]
  },
  {
   "cell_type": "markdown",
   "id": "c119d172-bc5b-4c36-9598-98c2fd6b7532",
   "metadata": {},
   "source": [
    "### ⭒ Best 3 Teams Earnings by Game"
   ]
  },
  {
   "cell_type": "code",
   "execution_count": 69,
   "id": "83a78dc4-5877-4a0a-aa3e-bd443ce2421f",
   "metadata": {},
   "outputs": [
    {
     "data": {
      "text/html": [
       "<div>\n",
       "<style scoped>\n",
       "    .dataframe tbody tr th:only-of-type {\n",
       "        vertical-align: middle;\n",
       "    }\n",
       "\n",
       "    .dataframe tbody tr th {\n",
       "        vertical-align: top;\n",
       "    }\n",
       "\n",
       "    .dataframe thead th {\n",
       "        text-align: right;\n",
       "    }\n",
       "</style>\n",
       "<table border=\"1\" class=\"dataframe\">\n",
       "  <thead>\n",
       "    <tr style=\"text-align: right;\">\n",
       "      <th></th>\n",
       "      <th>TeamId</th>\n",
       "      <th>TeamName</th>\n",
       "      <th>TotalUSDPrize</th>\n",
       "      <th>TotalTournaments</th>\n",
       "      <th>Game</th>\n",
       "      <th>Genre</th>\n",
       "    </tr>\n",
       "  </thead>\n",
       "  <tbody>\n",
       "    <tr>\n",
       "      <th>0</th>\n",
       "      <td>760</td>\n",
       "      <td>San Francisco Shock</td>\n",
       "      <td>3,105,000.00</td>\n",
       "      <td>7</td>\n",
       "      <td>Overwatch</td>\n",
       "      <td>First-Person Shooter</td>\n",
       "    </tr>\n",
       "    <tr>\n",
       "      <th>1</th>\n",
       "      <td>776</td>\n",
       "      <td>London Spitfire</td>\n",
       "      <td>1,591,136.50</td>\n",
       "      <td>13</td>\n",
       "      <td>Overwatch</td>\n",
       "      <td>First-Person Shooter</td>\n",
       "    </tr>\n",
       "    <tr>\n",
       "      <th>2</th>\n",
       "      <td>768</td>\n",
       "      <td>New York Excelsior</td>\n",
       "      <td>1,572,618.50</td>\n",
       "      <td>18</td>\n",
       "      <td>Overwatch</td>\n",
       "      <td>First-Person Shooter</td>\n",
       "    </tr>\n",
       "    <tr>\n",
       "      <th>3</th>\n",
       "      <td>773</td>\n",
       "      <td>Philadelphia Fusion</td>\n",
       "      <td>1,186,278.50</td>\n",
       "      <td>15</td>\n",
       "      <td>Overwatch</td>\n",
       "      <td>First-Person Shooter</td>\n",
       "    </tr>\n",
       "    <tr>\n",
       "      <th>4</th>\n",
       "      <td>766</td>\n",
       "      <td>Seoul Dynasty</td>\n",
       "      <td>1,130,000.00</td>\n",
       "      <td>6</td>\n",
       "      <td>Overwatch</td>\n",
       "      <td>First-Person Shooter</td>\n",
       "    </tr>\n",
       "  </tbody>\n",
       "</table>\n",
       "</div>"
      ],
      "text/plain": [
       "   TeamId             TeamName  TotalUSDPrize  TotalTournaments       Game  \\\n",
       "0     760  San Francisco Shock   3,105,000.00                 7  Overwatch   \n",
       "1     776      London Spitfire   1,591,136.50                13  Overwatch   \n",
       "2     768   New York Excelsior   1,572,618.50                18  Overwatch   \n",
       "3     773  Philadelphia Fusion   1,186,278.50                15  Overwatch   \n",
       "4     766        Seoul Dynasty   1,130,000.00                 6  Overwatch   \n",
       "\n",
       "                  Genre  \n",
       "0  First-Person Shooter  \n",
       "1  First-Person Shooter  \n",
       "2  First-Person Shooter  \n",
       "3  First-Person Shooter  \n",
       "4  First-Person Shooter  "
      ]
     },
     "execution_count": 69,
     "metadata": {},
     "output_type": "execute_result"
    }
   ],
   "source": [
    "teams.head()"
   ]
  },
  {
   "cell_type": "code",
   "execution_count": 70,
   "id": "971afd93-34f4-4f40-b625-73c7ef6b68a9",
   "metadata": {},
   "outputs": [],
   "source": [
    "bestTeamsByGame = teams.loc[:, ['Game','TeamName','TotalUSDPrize']].sort_values(['Game','TotalUSDPrize'], ascending=[True,False]).groupby('Game').head(3)"
   ]
  },
  {
   "cell_type": "code",
   "execution_count": 71,
   "id": "4bbac441-d54d-49f1-8a65-5beb029c8aca",
   "metadata": {},
   "outputs": [
    {
     "data": {
      "text/html": [
       "<div>\n",
       "<style scoped>\n",
       "    .dataframe tbody tr th:only-of-type {\n",
       "        vertical-align: middle;\n",
       "    }\n",
       "\n",
       "    .dataframe tbody tr th {\n",
       "        vertical-align: top;\n",
       "    }\n",
       "\n",
       "    .dataframe thead th {\n",
       "        text-align: right;\n",
       "    }\n",
       "</style>\n",
       "<table border=\"1\" class=\"dataframe\">\n",
       "  <thead>\n",
       "    <tr style=\"text-align: right;\">\n",
       "      <th></th>\n",
       "      <th>Game</th>\n",
       "      <th>TeamName</th>\n",
       "      <th>TotalUSDPrize</th>\n",
       "    </tr>\n",
       "  </thead>\n",
       "  <tbody>\n",
       "    <tr>\n",
       "      <th>880</th>\n",
       "      <td>Arena of Valor</td>\n",
       "      <td>eStar Gaming</td>\n",
       "      <td>2,613,323.67</td>\n",
       "    </tr>\n",
       "    <tr>\n",
       "      <th>881</th>\n",
       "      <td>Arena of Valor</td>\n",
       "      <td>Hero JiuJ</td>\n",
       "      <td>1,104,361.96</td>\n",
       "    </tr>\n",
       "    <tr>\n",
       "      <th>882</th>\n",
       "      <td>Arena of Valor</td>\n",
       "      <td>Qiao Gu Reapers</td>\n",
       "      <td>951,865.26</td>\n",
       "    </tr>\n",
       "    <tr>\n",
       "      <th>400</th>\n",
       "      <td>Counter-Strike: Global Offensive</td>\n",
       "      <td>Astralis</td>\n",
       "      <td>8,503,918.81</td>\n",
       "    </tr>\n",
       "    <tr>\n",
       "      <th>401</th>\n",
       "      <td>Counter-Strike: Global Offensive</td>\n",
       "      <td>Team Liquid</td>\n",
       "      <td>4,675,925.35</td>\n",
       "    </tr>\n",
       "    <tr>\n",
       "      <th>402</th>\n",
       "      <td>Counter-Strike: Global Offensive</td>\n",
       "      <td>Fnatic</td>\n",
       "      <td>4,653,396.20</td>\n",
       "    </tr>\n",
       "  </tbody>\n",
       "</table>\n",
       "</div>"
      ],
      "text/plain": [
       "                                 Game         TeamName  TotalUSDPrize\n",
       "880                    Arena of Valor     eStar Gaming   2,613,323.67\n",
       "881                    Arena of Valor        Hero JiuJ   1,104,361.96\n",
       "882                    Arena of Valor  Qiao Gu Reapers     951,865.26\n",
       "400  Counter-Strike: Global Offensive         Astralis   8,503,918.81\n",
       "401  Counter-Strike: Global Offensive      Team Liquid   4,675,925.35\n",
       "402  Counter-Strike: Global Offensive           Fnatic   4,653,396.20"
      ]
     },
     "execution_count": 71,
     "metadata": {},
     "output_type": "execute_result"
    }
   ],
   "source": [
    "bestTeamsByGame.head(6)"
   ]
  },
  {
   "cell_type": "code",
   "execution_count": 72,
   "id": "4dd918c1-d1ed-4a3e-93b0-00a3933c1ef7",
   "metadata": {},
   "outputs": [],
   "source": [
    "bestTeamsByGame = bestTeamsByGame.sort_values(['Game','TotalUSDPrize'], ascending=[False, True])"
   ]
  },
  {
   "cell_type": "code",
   "execution_count": 73,
   "id": "d6d6f6c4-3719-4378-b119-4c0f7168f1e0",
   "metadata": {},
   "outputs": [
    {
     "data": {
      "text/html": [
       "<div>\n",
       "<style scoped>\n",
       "    .dataframe tbody tr th:only-of-type {\n",
       "        vertical-align: middle;\n",
       "    }\n",
       "\n",
       "    .dataframe tbody tr th {\n",
       "        vertical-align: top;\n",
       "    }\n",
       "\n",
       "    .dataframe thead th {\n",
       "        text-align: right;\n",
       "    }\n",
       "</style>\n",
       "<table border=\"1\" class=\"dataframe\">\n",
       "  <thead>\n",
       "    <tr style=\"text-align: right;\">\n",
       "      <th></th>\n",
       "      <th>Game</th>\n",
       "      <th>TeamName</th>\n",
       "      <th>TotalUSDPrize</th>\n",
       "    </tr>\n",
       "  </thead>\n",
       "  <tbody>\n",
       "    <tr>\n",
       "      <th>102</th>\n",
       "      <td>Starcraft II</td>\n",
       "      <td>SK Telecom T1</td>\n",
       "      <td>1,143,991.90</td>\n",
       "    </tr>\n",
       "    <tr>\n",
       "      <th>101</th>\n",
       "      <td>Starcraft II</td>\n",
       "      <td>Team Liquid</td>\n",
       "      <td>1,498,925.04</td>\n",
       "    </tr>\n",
       "    <tr>\n",
       "      <th>100</th>\n",
       "      <td>Starcraft II</td>\n",
       "      <td>Jin Air Green Wings</td>\n",
       "      <td>2,546,572.70</td>\n",
       "    </tr>\n",
       "    <tr>\n",
       "      <th>602</th>\n",
       "      <td>PUBG</td>\n",
       "      <td>Team Liquid</td>\n",
       "      <td>934,382.58</td>\n",
       "    </tr>\n",
       "    <tr>\n",
       "      <th>601</th>\n",
       "      <td>PUBG</td>\n",
       "      <td>FaZe Clan</td>\n",
       "      <td>1,349,801.00</td>\n",
       "    </tr>\n",
       "    <tr>\n",
       "      <th>600</th>\n",
       "      <td>PUBG</td>\n",
       "      <td>Gen.G</td>\n",
       "      <td>2,805,813.88</td>\n",
       "    </tr>\n",
       "    <tr>\n",
       "      <th>2</th>\n",
       "      <td>Overwatch</td>\n",
       "      <td>New York Excelsior</td>\n",
       "      <td>1,572,618.50</td>\n",
       "    </tr>\n",
       "    <tr>\n",
       "      <th>1</th>\n",
       "      <td>Overwatch</td>\n",
       "      <td>London Spitfire</td>\n",
       "      <td>1,591,136.50</td>\n",
       "    </tr>\n",
       "    <tr>\n",
       "      <th>0</th>\n",
       "      <td>Overwatch</td>\n",
       "      <td>San Francisco Shock</td>\n",
       "      <td>3,105,000.00</td>\n",
       "    </tr>\n",
       "    <tr>\n",
       "      <th>202</th>\n",
       "      <td>League of Legends</td>\n",
       "      <td>Invictus Gaming</td>\n",
       "      <td>4,176,617.93</td>\n",
       "    </tr>\n",
       "    <tr>\n",
       "      <th>201</th>\n",
       "      <td>League of Legends</td>\n",
       "      <td>Samsung</td>\n",
       "      <td>4,252,048.74</td>\n",
       "    </tr>\n",
       "    <tr>\n",
       "      <th>200</th>\n",
       "      <td>League of Legends</td>\n",
       "      <td>SK Telecom T1</td>\n",
       "      <td>7,139,771.24</td>\n",
       "    </tr>\n",
       "    <tr>\n",
       "      <th>702</th>\n",
       "      <td>Heroes of the Storm</td>\n",
       "      <td>Cloud9</td>\n",
       "      <td>447,242.63</td>\n",
       "    </tr>\n",
       "    <tr>\n",
       "      <th>701</th>\n",
       "      <td>Heroes of the Storm</td>\n",
       "      <td>Nordavind</td>\n",
       "      <td>483,601.94</td>\n",
       "    </tr>\n",
       "    <tr>\n",
       "      <th>700</th>\n",
       "      <td>Heroes of the Storm</td>\n",
       "      <td>G2 Esports</td>\n",
       "      <td>575,312.54</td>\n",
       "    </tr>\n",
       "    <tr>\n",
       "      <th>802</th>\n",
       "      <td>Hearthstone</td>\n",
       "      <td>Fnatic</td>\n",
       "      <td>931,148.76</td>\n",
       "    </tr>\n",
       "    <tr>\n",
       "      <th>801</th>\n",
       "      <td>Hearthstone</td>\n",
       "      <td>Team Dignitas</td>\n",
       "      <td>1,178,555.54</td>\n",
       "    </tr>\n",
       "    <tr>\n",
       "      <th>800</th>\n",
       "      <td>Hearthstone</td>\n",
       "      <td>MVP</td>\n",
       "      <td>1,656,839.93</td>\n",
       "    </tr>\n",
       "    <tr>\n",
       "      <th>302</th>\n",
       "      <td>Fortnite</td>\n",
       "      <td>Sentinels</td>\n",
       "      <td>3,166,116.68</td>\n",
       "    </tr>\n",
       "    <tr>\n",
       "      <th>301</th>\n",
       "      <td>Fortnite</td>\n",
       "      <td>Cooler Esport</td>\n",
       "      <td>3,299,864.26</td>\n",
       "    </tr>\n",
       "    <tr>\n",
       "      <th>300</th>\n",
       "      <td>Fortnite</td>\n",
       "      <td>Lazarus</td>\n",
       "      <td>3,708,150.00</td>\n",
       "    </tr>\n",
       "    <tr>\n",
       "      <th>502</th>\n",
       "      <td>Dota 2</td>\n",
       "      <td>Evil Geniuses</td>\n",
       "      <td>19,988,670.62</td>\n",
       "    </tr>\n",
       "    <tr>\n",
       "      <th>501</th>\n",
       "      <td>Dota 2</td>\n",
       "      <td>Team Liquid</td>\n",
       "      <td>22,967,431.10</td>\n",
       "    </tr>\n",
       "    <tr>\n",
       "      <th>500</th>\n",
       "      <td>Dota 2</td>\n",
       "      <td>OG</td>\n",
       "      <td>33,810,636.13</td>\n",
       "    </tr>\n",
       "    <tr>\n",
       "      <th>402</th>\n",
       "      <td>Counter-Strike: Global Offensive</td>\n",
       "      <td>Fnatic</td>\n",
       "      <td>4,653,396.20</td>\n",
       "    </tr>\n",
       "    <tr>\n",
       "      <th>401</th>\n",
       "      <td>Counter-Strike: Global Offensive</td>\n",
       "      <td>Team Liquid</td>\n",
       "      <td>4,675,925.35</td>\n",
       "    </tr>\n",
       "    <tr>\n",
       "      <th>400</th>\n",
       "      <td>Counter-Strike: Global Offensive</td>\n",
       "      <td>Astralis</td>\n",
       "      <td>8,503,918.81</td>\n",
       "    </tr>\n",
       "    <tr>\n",
       "      <th>882</th>\n",
       "      <td>Arena of Valor</td>\n",
       "      <td>Qiao Gu Reapers</td>\n",
       "      <td>951,865.26</td>\n",
       "    </tr>\n",
       "    <tr>\n",
       "      <th>881</th>\n",
       "      <td>Arena of Valor</td>\n",
       "      <td>Hero JiuJ</td>\n",
       "      <td>1,104,361.96</td>\n",
       "    </tr>\n",
       "    <tr>\n",
       "      <th>880</th>\n",
       "      <td>Arena of Valor</td>\n",
       "      <td>eStar Gaming</td>\n",
       "      <td>2,613,323.67</td>\n",
       "    </tr>\n",
       "  </tbody>\n",
       "</table>\n",
       "</div>"
      ],
      "text/plain": [
       "                                 Game             TeamName  TotalUSDPrize\n",
       "102                      Starcraft II        SK Telecom T1   1,143,991.90\n",
       "101                      Starcraft II          Team Liquid   1,498,925.04\n",
       "100                      Starcraft II  Jin Air Green Wings   2,546,572.70\n",
       "602                              PUBG          Team Liquid     934,382.58\n",
       "601                              PUBG            FaZe Clan   1,349,801.00\n",
       "600                              PUBG                Gen.G   2,805,813.88\n",
       "2                           Overwatch   New York Excelsior   1,572,618.50\n",
       "1                           Overwatch      London Spitfire   1,591,136.50\n",
       "0                           Overwatch  San Francisco Shock   3,105,000.00\n",
       "202                 League of Legends      Invictus Gaming   4,176,617.93\n",
       "201                 League of Legends              Samsung   4,252,048.74\n",
       "200                 League of Legends        SK Telecom T1   7,139,771.24\n",
       "702               Heroes of the Storm               Cloud9     447,242.63\n",
       "701               Heroes of the Storm            Nordavind     483,601.94\n",
       "700               Heroes of the Storm           G2 Esports     575,312.54\n",
       "802                       Hearthstone               Fnatic     931,148.76\n",
       "801                       Hearthstone        Team Dignitas   1,178,555.54\n",
       "800                       Hearthstone                  MVP   1,656,839.93\n",
       "302                          Fortnite            Sentinels   3,166,116.68\n",
       "301                          Fortnite        Cooler Esport   3,299,864.26\n",
       "300                          Fortnite              Lazarus   3,708,150.00\n",
       "502                            Dota 2        Evil Geniuses  19,988,670.62\n",
       "501                            Dota 2          Team Liquid  22,967,431.10\n",
       "500                            Dota 2                   OG  33,810,636.13\n",
       "402  Counter-Strike: Global Offensive               Fnatic   4,653,396.20\n",
       "401  Counter-Strike: Global Offensive          Team Liquid   4,675,925.35\n",
       "400  Counter-Strike: Global Offensive             Astralis   8,503,918.81\n",
       "882                    Arena of Valor      Qiao Gu Reapers     951,865.26\n",
       "881                    Arena of Valor            Hero JiuJ   1,104,361.96\n",
       "880                    Arena of Valor         eStar Gaming   2,613,323.67"
      ]
     },
     "execution_count": 73,
     "metadata": {},
     "output_type": "execute_result"
    }
   ],
   "source": [
    "bestTeamsByGame"
   ]
  },
  {
   "cell_type": "code",
   "execution_count": 74,
   "id": "8468cbee-4b54-483f-81ff-c73912d5f345",
   "metadata": {},
   "outputs": [
    {
     "data": {
      "image/png": "[encoded data removed]",
      "text/plain": [
       "<Figure size 1000x700 with 1 Axes>"
      ]
     },
     "metadata": {},
     "output_type": "display_data"
    }
   ],
   "source": [
    "fig, ax = plt.subplots(figsize=(10,7), dpi=100)\n",
    "\n",
    "plt.barh(bestTeamsByGame['TeamName'] + ' [' + bestTeamsByGame['Game'] + ']', bestTeamsByGame['TotalUSDPrize'])\n",
    "\n",
    "for idx, val in enumerate(bestTeamsByGame['TotalUSDPrize']):\n",
    "    str_value = str(round(val / 1000 ** 2, 2)) + 'M'\n",
    "    ax.text(val + 2 * 10**5, idx, str_value, va='center', color='#36518B', fontweight='bold')\n",
    "        \n",
    "\n",
    "plt.title('Best 3 Teams Earnings by Game', color='#843030', fontsize=14, fontweight='bold')\n",
    "x = 10 ** 7    # 10,000,000\n",
    "plt.xticks([0, 0.5*x, 1*x, 1.5*x, 2*x, 2.5*x, 3*x, 3.5*x, 4*x])\n",
    "\n",
    "\n",
    "plt.show()"
   ]
  },
  {
   "cell_type": "markdown",
   "id": "9e7c609d-d092-4a12-b964-486a68cb5a44",
   "metadata": {
    "tags": []
   },
   "source": [
    "# "
   ]
  },
  {
   "cell_type": "markdown",
   "id": "d1eb2608-02b4-4e01-9af7-a15721492a4a",
   "metadata": {},
   "source": [
    "### ⭒ Top 5 Players Earnings by Continents"
   ]
  },
  {
   "cell_type": "code",
   "execution_count": 75,
   "id": "03936f64-4286-4403-bba6-d597403a11a4",
   "metadata": {},
   "outputs": [
    {
     "data": {
      "text/html": [
       "<div>\n",
       "<style scoped>\n",
       "    .dataframe tbody tr th:only-of-type {\n",
       "        vertical-align: middle;\n",
       "    }\n",
       "\n",
       "    .dataframe tbody tr th {\n",
       "        vertical-align: top;\n",
       "    }\n",
       "\n",
       "    .dataframe thead th {\n",
       "        text-align: right;\n",
       "    }\n",
       "</style>\n",
       "<table border=\"1\" class=\"dataframe\">\n",
       "  <thead>\n",
       "    <tr style=\"text-align: right;\">\n",
       "      <th></th>\n",
       "      <th>PlayerId</th>\n",
       "      <th>NameFirst</th>\n",
       "      <th>NameLast</th>\n",
       "      <th>CurrentHandle</th>\n",
       "      <th>TotalUSDPrize</th>\n",
       "      <th>Game</th>\n",
       "      <th>Genre</th>\n",
       "      <th>Continent_Name</th>\n",
       "      <th>Country_Name</th>\n",
       "      <th>Country_Number</th>\n",
       "    </tr>\n",
       "  </thead>\n",
       "  <tbody>\n",
       "    <tr>\n",
       "      <th>0</th>\n",
       "      <td>61896</td>\n",
       "      <td>Thiago</td>\n",
       "      <td>Lapp</td>\n",
       "      <td>kinG</td>\n",
       "      <td>1,021,000.00</td>\n",
       "      <td>Fortnite</td>\n",
       "      <td>Battle Royale</td>\n",
       "      <td>South America</td>\n",
       "      <td>Argentina, Argentine Republic</td>\n",
       "      <td>32.00</td>\n",
       "    </tr>\n",
       "    <tr>\n",
       "      <th>1</th>\n",
       "      <td>30167</td>\n",
       "      <td>Francisco</td>\n",
       "      <td>Leimontas</td>\n",
       "      <td>PNC</td>\n",
       "      <td>82,409.24</td>\n",
       "      <td>Hearthstone</td>\n",
       "      <td>Collectible Card Game</td>\n",
       "      <td>South America</td>\n",
       "      <td>Argentina, Argentine Republic</td>\n",
       "      <td>32.00</td>\n",
       "    </tr>\n",
       "    <tr>\n",
       "      <th>2</th>\n",
       "      <td>15703</td>\n",
       "      <td>Facu</td>\n",
       "      <td>Pruzzo</td>\n",
       "      <td>Nalguidan</td>\n",
       "      <td>70,750.00</td>\n",
       "      <td>Hearthstone</td>\n",
       "      <td>Collectible Card Game</td>\n",
       "      <td>South America</td>\n",
       "      <td>Argentina, Argentine Republic</td>\n",
       "      <td>32.00</td>\n",
       "    </tr>\n",
       "    <tr>\n",
       "      <th>3</th>\n",
       "      <td>30451</td>\n",
       "      <td>Anathan</td>\n",
       "      <td>Pham</td>\n",
       "      <td>ana</td>\n",
       "      <td>6,000,411.96</td>\n",
       "      <td>Dota 2</td>\n",
       "      <td>Multiplayer Online Battle Arena</td>\n",
       "      <td>Oceania</td>\n",
       "      <td>Australia, Commonwealth of</td>\n",
       "      <td>36.00</td>\n",
       "    </tr>\n",
       "    <tr>\n",
       "      <th>4</th>\n",
       "      <td>15530</td>\n",
       "      <td>Damien</td>\n",
       "      <td>Chok</td>\n",
       "      <td>kpii</td>\n",
       "      <td>1,809,225.30</td>\n",
       "      <td>Dota 2</td>\n",
       "      <td>Multiplayer Online Battle Arena</td>\n",
       "      <td>Oceania</td>\n",
       "      <td>Australia, Commonwealth of</td>\n",
       "      <td>36.00</td>\n",
       "    </tr>\n",
       "    <tr>\n",
       "      <th>...</th>\n",
       "      <td>...</td>\n",
       "      <td>...</td>\n",
       "      <td>...</td>\n",
       "      <td>...</td>\n",
       "      <td>...</td>\n",
       "      <td>...</td>\n",
       "      <td>...</td>\n",
       "      <td>...</td>\n",
       "      <td>...</td>\n",
       "      <td>...</td>\n",
       "    </tr>\n",
       "    <tr>\n",
       "      <th>1027</th>\n",
       "      <td>12793</td>\n",
       "      <td>Jeffrey</td>\n",
       "      <td>Liu</td>\n",
       "      <td>Tarei</td>\n",
       "      <td>62,454.40</td>\n",
       "      <td>Hearthstone</td>\n",
       "      <td>Collectible Card Game</td>\n",
       "      <td>North America</td>\n",
       "      <td>United States of America</td>\n",
       "      <td>840.00</td>\n",
       "    </tr>\n",
       "    <tr>\n",
       "      <th>1028</th>\n",
       "      <td>29438</td>\n",
       "      <td>Anthony</td>\n",
       "      <td>Trevino</td>\n",
       "      <td>Ant</td>\n",
       "      <td>52,375.00</td>\n",
       "      <td>Hearthstone</td>\n",
       "      <td>Collectible Card Game</td>\n",
       "      <td>North America</td>\n",
       "      <td>United States of America</td>\n",
       "      <td>840.00</td>\n",
       "    </tr>\n",
       "    <tr>\n",
       "      <th>1029</th>\n",
       "      <td>3255</td>\n",
       "      <td>Drew</td>\n",
       "      <td>Biessener</td>\n",
       "      <td>Tidesoftime</td>\n",
       "      <td>50,449.60</td>\n",
       "      <td>Hearthstone</td>\n",
       "      <td>Collectible Card Game</td>\n",
       "      <td>North America</td>\n",
       "      <td>United States of America</td>\n",
       "      <td>840.00</td>\n",
       "    </tr>\n",
       "    <tr>\n",
       "      <th>1030</th>\n",
       "      <td>43043</td>\n",
       "      <td>Mike</td>\n",
       "      <td>Eichner</td>\n",
       "      <td>Ike</td>\n",
       "      <td>48,550.00</td>\n",
       "      <td>Hearthstone</td>\n",
       "      <td>Collectible Card Game</td>\n",
       "      <td>North America</td>\n",
       "      <td>United States of America</td>\n",
       "      <td>840.00</td>\n",
       "    </tr>\n",
       "    <tr>\n",
       "      <th>1031</th>\n",
       "      <td>49029</td>\n",
       "      <td>Sanjar</td>\n",
       "      <td>Kuliev</td>\n",
       "      <td>SANJI</td>\n",
       "      <td>232,167.42</td>\n",
       "      <td>Counter-Strike: Global Offensive</td>\n",
       "      <td>First-Person Shooter</td>\n",
       "      <td>Asia</td>\n",
       "      <td>Uzbekistan, Republic of</td>\n",
       "      <td>860.00</td>\n",
       "    </tr>\n",
       "  </tbody>\n",
       "</table>\n",
       "<p>1032 rows × 10 columns</p>\n",
       "</div>"
      ],
      "text/plain": [
       "      PlayerId  NameFirst   NameLast CurrentHandle  TotalUSDPrize  \\\n",
       "0        61896     Thiago       Lapp          kinG   1,021,000.00   \n",
       "1        30167  Francisco  Leimontas           PNC      82,409.24   \n",
       "2        15703       Facu     Pruzzo     Nalguidan      70,750.00   \n",
       "3        30451    Anathan       Pham           ana   6,000,411.96   \n",
       "4        15530     Damien       Chok          kpii   1,809,225.30   \n",
       "...        ...        ...        ...           ...            ...   \n",
       "1027     12793    Jeffrey        Liu         Tarei      62,454.40   \n",
       "1028     29438    Anthony    Trevino           Ant      52,375.00   \n",
       "1029      3255       Drew  Biessener   Tidesoftime      50,449.60   \n",
       "1030     43043       Mike    Eichner           Ike      48,550.00   \n",
       "1031     49029     Sanjar     Kuliev         SANJI     232,167.42   \n",
       "\n",
       "                                  Game                            Genre  \\\n",
       "0                             Fortnite                    Battle Royale   \n",
       "1                          Hearthstone            Collectible Card Game   \n",
       "2                          Hearthstone            Collectible Card Game   \n",
       "3                               Dota 2  Multiplayer Online Battle Arena   \n",
       "4                               Dota 2  Multiplayer Online Battle Arena   \n",
       "...                                ...                              ...   \n",
       "1027                       Hearthstone            Collectible Card Game   \n",
       "1028                       Hearthstone            Collectible Card Game   \n",
       "1029                       Hearthstone            Collectible Card Game   \n",
       "1030                       Hearthstone            Collectible Card Game   \n",
       "1031  Counter-Strike: Global Offensive             First-Person Shooter   \n",
       "\n",
       "     Continent_Name                   Country_Name  Country_Number  \n",
       "0     South America  Argentina, Argentine Republic           32.00  \n",
       "1     South America  Argentina, Argentine Republic           32.00  \n",
       "2     South America  Argentina, Argentine Republic           32.00  \n",
       "3           Oceania     Australia, Commonwealth of           36.00  \n",
       "4           Oceania     Australia, Commonwealth of           36.00  \n",
       "...             ...                            ...             ...  \n",
       "1027  North America       United States of America          840.00  \n",
       "1028  North America       United States of America          840.00  \n",
       "1029  North America       United States of America          840.00  \n",
       "1030  North America       United States of America          840.00  \n",
       "1031           Asia        Uzbekistan, Republic of          860.00  \n",
       "\n",
       "[1032 rows x 10 columns]"
      ]
     },
     "execution_count": 75,
     "metadata": {},
     "output_type": "execute_result"
    }
   ],
   "source": [
    "players_location"
   ]
  },
  {
   "cell_type": "code",
   "execution_count": 76,
   "id": "5c03ac27-3356-4c81-bd7f-ab2f053e0d6d",
   "metadata": {},
   "outputs": [],
   "source": [
    "filtered = players_location.loc[:, ['CurrentHandle', 'Continent_Name','TotalUSDPrize']]\n",
    "hightest_player_by_continent = filtered.sort_values(['Continent_Name', 'TotalUSDPrize'], ascending=[True, False]).groupby('Continent_Name').head(5)"
   ]
  },
  {
   "cell_type": "code",
   "execution_count": 77,
   "id": "489fe1e0-ca21-4f74-b050-a16362837e70",
   "metadata": {},
   "outputs": [],
   "source": [
    "hightest_player_by_continent = hightest_player_by_continent.sort_values(['Continent_Name', 'TotalUSDPrize'], ascending=[False, True]).set_index('Continent_Name')"
   ]
  },
  {
   "cell_type": "code",
   "execution_count": 78,
   "id": "00162f55-f61b-422a-a50f-a2a33a5485cc",
   "metadata": {},
   "outputs": [
    {
     "data": {
      "text/html": [
       "<div>\n",
       "<style scoped>\n",
       "    .dataframe tbody tr th:only-of-type {\n",
       "        vertical-align: middle;\n",
       "    }\n",
       "\n",
       "    .dataframe tbody tr th {\n",
       "        vertical-align: top;\n",
       "    }\n",
       "\n",
       "    .dataframe thead th {\n",
       "        text-align: right;\n",
       "    }\n",
       "</style>\n",
       "<table border=\"1\" class=\"dataframe\">\n",
       "  <thead>\n",
       "    <tr style=\"text-align: right;\">\n",
       "      <th></th>\n",
       "      <th>CurrentHandle</th>\n",
       "      <th>TotalUSDPrize</th>\n",
       "    </tr>\n",
       "    <tr>\n",
       "      <th>Continent_Name</th>\n",
       "      <th></th>\n",
       "      <th></th>\n",
       "    </tr>\n",
       "  </thead>\n",
       "  <tbody>\n",
       "    <tr>\n",
       "      <th>South America</th>\n",
       "      <td>kinG</td>\n",
       "      <td>1,021,000.00</td>\n",
       "    </tr>\n",
       "    <tr>\n",
       "      <th>South America</th>\n",
       "      <td>coldzera</td>\n",
       "      <td>1,021,901.46</td>\n",
       "    </tr>\n",
       "    <tr>\n",
       "      <th>South America</th>\n",
       "      <td>FalleN</td>\n",
       "      <td>1,059,938.92</td>\n",
       "    </tr>\n",
       "    <tr>\n",
       "      <th>South America</th>\n",
       "      <td>fer</td>\n",
       "      <td>1,063,038.92</td>\n",
       "    </tr>\n",
       "    <tr>\n",
       "      <th>South America</th>\n",
       "      <td>TACO</td>\n",
       "      <td>1,063,858.27</td>\n",
       "    </tr>\n",
       "    <tr>\n",
       "      <th>Oceania</th>\n",
       "      <td>Custa</td>\n",
       "      <td>53,759.68</td>\n",
       "    </tr>\n",
       "    <tr>\n",
       "      <th>Oceania</th>\n",
       "      <td>Arcaner</td>\n",
       "      <td>57,228.00</td>\n",
       "    </tr>\n",
       "    <tr>\n",
       "      <th>Oceania</th>\n",
       "      <td>Luke12</td>\n",
       "      <td>79,049.82</td>\n",
       "    </tr>\n",
       "    <tr>\n",
       "      <th>Oceania</th>\n",
       "      <td>kpii</td>\n",
       "      <td>1,809,225.30</td>\n",
       "    </tr>\n",
       "    <tr>\n",
       "      <th>Oceania</th>\n",
       "      <td>ana</td>\n",
       "      <td>6,000,411.96</td>\n",
       "    </tr>\n",
       "    <tr>\n",
       "      <th>North America</th>\n",
       "      <td>Arteezy</td>\n",
       "      <td>2,257,053.21</td>\n",
       "    </tr>\n",
       "    <tr>\n",
       "      <th>North America</th>\n",
       "      <td>Fear</td>\n",
       "      <td>2,551,657.34</td>\n",
       "    </tr>\n",
       "    <tr>\n",
       "      <th>North America</th>\n",
       "      <td>ppd</td>\n",
       "      <td>2,995,619.62</td>\n",
       "    </tr>\n",
       "    <tr>\n",
       "      <th>North America</th>\n",
       "      <td>UNiVeRsE</td>\n",
       "      <td>3,057,237.67</td>\n",
       "    </tr>\n",
       "    <tr>\n",
       "      <th>North America</th>\n",
       "      <td>Bugha</td>\n",
       "      <td>3,141,395.05</td>\n",
       "    </tr>\n",
       "    <tr>\n",
       "      <th>Europe</th>\n",
       "      <td>KuroKy</td>\n",
       "      <td>5,193,382.81</td>\n",
       "    </tr>\n",
       "    <tr>\n",
       "      <th>Europe</th>\n",
       "      <td>Topson</td>\n",
       "      <td>5,470,902.57</td>\n",
       "    </tr>\n",
       "    <tr>\n",
       "      <th>Europe</th>\n",
       "      <td>Ceb</td>\n",
       "      <td>5,554,297.41</td>\n",
       "    </tr>\n",
       "    <tr>\n",
       "      <th>Europe</th>\n",
       "      <td>JerAx</td>\n",
       "      <td>6,470,000.02</td>\n",
       "    </tr>\n",
       "    <tr>\n",
       "      <th>Europe</th>\n",
       "      <td>N0tail</td>\n",
       "      <td>6,952,596.58</td>\n",
       "    </tr>\n",
       "    <tr>\n",
       "      <th>Asia</th>\n",
       "      <td>fy</td>\n",
       "      <td>2,894,690.34</td>\n",
       "    </tr>\n",
       "    <tr>\n",
       "      <th>Asia</th>\n",
       "      <td>Somnus丶M</td>\n",
       "      <td>2,984,982.14</td>\n",
       "    </tr>\n",
       "    <tr>\n",
       "      <th>Asia</th>\n",
       "      <td>SumaiL</td>\n",
       "      <td>3,608,317.34</td>\n",
       "    </tr>\n",
       "    <tr>\n",
       "      <th>Asia</th>\n",
       "      <td>GH</td>\n",
       "      <td>4,193,412.69</td>\n",
       "    </tr>\n",
       "    <tr>\n",
       "      <th>Asia</th>\n",
       "      <td>Miracle-</td>\n",
       "      <td>4,798,043.68</td>\n",
       "    </tr>\n",
       "  </tbody>\n",
       "</table>\n",
       "</div>"
      ],
      "text/plain": [
       "               CurrentHandle  TotalUSDPrize\n",
       "Continent_Name                             \n",
       "South America           kinG   1,021,000.00\n",
       "South America       coldzera   1,021,901.46\n",
       "South America         FalleN   1,059,938.92\n",
       "South America            fer   1,063,038.92\n",
       "South America           TACO   1,063,858.27\n",
       "Oceania                Custa      53,759.68\n",
       "Oceania              Arcaner      57,228.00\n",
       "Oceania               Luke12      79,049.82\n",
       "Oceania                 kpii   1,809,225.30\n",
       "Oceania                  ana   6,000,411.96\n",
       "North America        Arteezy   2,257,053.21\n",
       "North America           Fear   2,551,657.34\n",
       "North America            ppd   2,995,619.62\n",
       "North America       UNiVeRsE   3,057,237.67\n",
       "North America          Bugha   3,141,395.05\n",
       "Europe                KuroKy   5,193,382.81\n",
       "Europe                Topson   5,470,902.57\n",
       "Europe                   Ceb   5,554,297.41\n",
       "Europe                 JerAx   6,470,000.02\n",
       "Europe                N0tail   6,952,596.58\n",
       "Asia                      fy   2,894,690.34\n",
       "Asia                Somnus丶M   2,984,982.14\n",
       "Asia                  SumaiL   3,608,317.34\n",
       "Asia                      GH   4,193,412.69\n",
       "Asia                Miracle-   4,798,043.68"
      ]
     },
     "execution_count": 78,
     "metadata": {},
     "output_type": "execute_result"
    }
   ],
   "source": [
    "hightest_player_by_continent"
   ]
  },
  {
   "cell_type": "code",
   "execution_count": 79,
   "id": "5f2bf754-bc5d-4990-b86e-861227067aa5",
   "metadata": {},
   "outputs": [],
   "source": [
    "asia = hightest_player_by_continent[hightest_player_by_continent.index == 'Asia']\n",
    "europe = hightest_player_by_continent[hightest_player_by_continent.index == 'Europe']\n",
    "north_america = hightest_player_by_continent[hightest_player_by_continent.index == 'North America']\n",
    "oceania = hightest_player_by_continent[hightest_player_by_continent.index == 'Oceania']\n",
    "south_america = hightest_player_by_continent[hightest_player_by_continent.index == 'South America']"
   ]
  },
  {
   "cell_type": "code",
   "execution_count": 81,
   "id": "bf686f8e-20fb-4eec-802b-b37f3b3bb516",
   "metadata": {},
   "outputs": [
    {
     "data": {
      "image/png": "[encoded data removed]",
      "text/plain": [
       "<Figure size 600x800 with 5 Axes>"
      ]
     },
     "metadata": {},
     "output_type": "display_data"
    }
   ],
   "source": [
    "fig, axs = plt.subplots(nrows=5, ncols=1, figsize=(6,8), dpi=100, sharex=True)\n",
    "\n",
    "\n",
    "axs[0].barh(asia['CurrentHandle'], asia['TotalUSDPrize'])\n",
    "axs[1].barh(europe['CurrentHandle'], europe['TotalUSDPrize'])\n",
    "axs[2].barh(north_america['CurrentHandle'], north_america['TotalUSDPrize'])\n",
    "axs[3].barh(oceania['CurrentHandle'], oceania['TotalUSDPrize'])\n",
    "axs[4].barh(south_america['CurrentHandle'], south_america['TotalUSDPrize'])\n",
    "\n",
    "\n",
    "axs[0].set_title('Top 5 Players Earnings by Continents',  color='#832828', fontsize=14, fontweight='bold')\n",
    "axs[0].set_ylabel('Asia', color='#832828', fontsize=12, fontweight='bold')\n",
    "axs[1].set_ylabel('Europe', color='#832828', fontsize=12, fontweight='bold')\n",
    "axs[2].set_ylabel('North America', color='#832828', fontsize=12, fontweight='bold')\n",
    "axs[3].set_ylabel('Oceania', color='#832828', fontsize=12, fontweight='bold')\n",
    "axs[4].set_ylabel('South America', color='#832828', fontsize=12, fontweight='bold')\n",
    "\n",
    "\n",
    "def show_text(name_continent, idx_axes):\n",
    "    for idx, val in enumerate(name_continent['TotalUSDPrize']):\n",
    "        axs[idx_axes].text(val * 1.005, idx - 0.25, str(round(val / 10 ** 6, 2)) + 'M', fontweight='bold', color='#171A5C')\n",
    "\n",
    "for index, name in enumerate([asia, europe, north_america, oceania, south_america]):\n",
    "    show_text(name, index)\n",
    "\n",
    "\n",
    "\n",
    "\n",
    "plt.tight_layout()\n",
    "plt.show()"
   ]
  }
 ],
 "metadata": {
  "kernelspec": {
   "display_name": "Python 3 (ipykernel)",
   "language": "python",
   "name": "python3"
  },
  "language_info": {
   "codemirror_mode": {
    "name": "ipython",
    "version": 3
   },
   "file_extension": ".py",
   "mimetype": "text/x-python",
   "name": "python",
   "nbconvert_exporter": "python",
   "pygments_lexer": "ipython3",
   "version": "3.9.7"
  }
 },
 "nbformat": 4,
 "nbformat_minor": 5
}
