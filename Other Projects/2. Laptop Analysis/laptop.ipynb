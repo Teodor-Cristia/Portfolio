{
 "cells": [
  {
   "cell_type": "markdown",
   "id": "e82af838-e463-4c5e-95ef-d2c0df5f90f8",
   "metadata": {},
   "source": [
    "#  💻 Laptops - Analysis"
   ]
  },
  {
   "cell_type": "markdown",
   "id": "ea260dd8-2539-4710-89ac-17629826a8cc",
   "metadata": {
    "tags": []
   },
   "source": [
    "## Library"
   ]
  },
  {
   "cell_type": "code",
   "execution_count": 1,
   "id": "9ada9389-e1c9-4c4e-b0af-21e60ee55bce",
   "metadata": {},
   "outputs": [],
   "source": [
    "import numpy as np\n",
    "import pandas as pd\n",
    "import matplotlib.pyplot as plt\n",
    "import seaborn as sn\n",
    "import re\n",
    "\n",
    "%matplotlib inline"
   ]
  },
  {
   "cell_type": "markdown",
   "id": "56b08377-978d-4dfa-b5f6-2bf5e3d7d031",
   "metadata": {},
   "source": [
    "#### Format"
   ]
  },
  {
   "cell_type": "code",
   "execution_count": 2,
   "id": "18ab93e3-4c66-49a5-b44e-628bf9098f2e",
   "metadata": {},
   "outputs": [],
   "source": [
    "pd.options.display.float_format = '{:,.2f}'.format"
   ]
  },
  {
   "cell_type": "markdown",
   "id": "daf1ce4e-8dc0-440b-9cf9-7b96695baf83",
   "metadata": {
    "tags": []
   },
   "source": [
    "# "
   ]
  },
  {
   "cell_type": "markdown",
   "id": "3b662889-2152-4bcd-86e4-576a769b6dae",
   "metadata": {},
   "source": [
    "## Load the date"
   ]
  },
  {
   "cell_type": "code",
   "execution_count": 3,
   "id": "f8886eee-a4a8-4c3a-8ad7-dc9d9bdf4438",
   "metadata": {},
   "outputs": [],
   "source": [
    "# https://www.kaggle.com/muhammetvarl/laptop-price\n",
    "\n",
    "path = '../Datasets/Laptop Prices/laptops.csv'"
   ]
  },
  {
   "cell_type": "code",
   "execution_count": 4,
   "id": "3a8c0219-2b21-44aa-aca1-47d79a54b648",
   "metadata": {},
   "outputs": [],
   "source": [
    "df = pd.read_csv(path, encoding='latin-1')"
   ]
  },
  {
   "cell_type": "markdown",
   "id": "4d77c424-bd27-46a3-931b-2a510a64f0eb",
   "metadata": {},
   "source": [
    "# "
   ]
  },
  {
   "cell_type": "markdown",
   "id": "f8f53d9e-3dc5-4531-9025-0a0c0df33db3",
   "metadata": {},
   "source": [
    "## Let's take a look"
   ]
  },
  {
   "cell_type": "code",
   "execution_count": 5,
   "id": "9dec2746-276c-4dec-94d0-8f092e4bc197",
   "metadata": {},
   "outputs": [
    {
     "data": {
      "text/html": [
       "<div>\n",
       "<style scoped>\n",
       "    .dataframe tbody tr th:only-of-type {\n",
       "        vertical-align: middle;\n",
       "    }\n",
       "\n",
       "    .dataframe tbody tr th {\n",
       "        vertical-align: top;\n",
       "    }\n",
       "\n",
       "    .dataframe thead th {\n",
       "        text-align: right;\n",
       "    }\n",
       "</style>\n",
       "<table border=\"1\" class=\"dataframe\">\n",
       "  <thead>\n",
       "    <tr style=\"text-align: right;\">\n",
       "      <th></th>\n",
       "      <th>Unnamed: 0</th>\n",
       "      <th>Company</th>\n",
       "      <th>Product</th>\n",
       "      <th>TypeName</th>\n",
       "      <th>Inches</th>\n",
       "      <th>ScreenResolution</th>\n",
       "      <th>Cpu</th>\n",
       "      <th>Ram</th>\n",
       "      <th>Memory</th>\n",
       "      <th>Gpu</th>\n",
       "      <th>OpSys</th>\n",
       "      <th>Weight</th>\n",
       "      <th>Price_euros</th>\n",
       "    </tr>\n",
       "  </thead>\n",
       "  <tbody>\n",
       "    <tr>\n",
       "      <th>0</th>\n",
       "      <td>1</td>\n",
       "      <td>Apple</td>\n",
       "      <td>MacBook Pro</td>\n",
       "      <td>Ultrabook</td>\n",
       "      <td>13.30</td>\n",
       "      <td>IPS Panel Retina Display 2560x1600</td>\n",
       "      <td>Intel Core i5 2.3GHz</td>\n",
       "      <td>8GB</td>\n",
       "      <td>128GB SSD</td>\n",
       "      <td>Intel Iris Plus Graphics 640</td>\n",
       "      <td>macOS</td>\n",
       "      <td>1.37kg</td>\n",
       "      <td>1,339.69</td>\n",
       "    </tr>\n",
       "    <tr>\n",
       "      <th>1</th>\n",
       "      <td>2</td>\n",
       "      <td>Apple</td>\n",
       "      <td>Macbook Air</td>\n",
       "      <td>Ultrabook</td>\n",
       "      <td>13.30</td>\n",
       "      <td>1440x900</td>\n",
       "      <td>Intel Core i5 1.8GHz</td>\n",
       "      <td>8GB</td>\n",
       "      <td>128GB Flash Storage</td>\n",
       "      <td>Intel HD Graphics 6000</td>\n",
       "      <td>macOS</td>\n",
       "      <td>1.34kg</td>\n",
       "      <td>898.94</td>\n",
       "    </tr>\n",
       "    <tr>\n",
       "      <th>2</th>\n",
       "      <td>3</td>\n",
       "      <td>HP</td>\n",
       "      <td>250 G6</td>\n",
       "      <td>Notebook</td>\n",
       "      <td>15.60</td>\n",
       "      <td>Full HD 1920x1080</td>\n",
       "      <td>Intel Core i5 7200U 2.5GHz</td>\n",
       "      <td>8GB</td>\n",
       "      <td>256GB SSD</td>\n",
       "      <td>Intel HD Graphics 620</td>\n",
       "      <td>No OS</td>\n",
       "      <td>1.86kg</td>\n",
       "      <td>575.00</td>\n",
       "    </tr>\n",
       "    <tr>\n",
       "      <th>3</th>\n",
       "      <td>4</td>\n",
       "      <td>Apple</td>\n",
       "      <td>MacBook Pro</td>\n",
       "      <td>Ultrabook</td>\n",
       "      <td>15.40</td>\n",
       "      <td>IPS Panel Retina Display 2880x1800</td>\n",
       "      <td>Intel Core i7 2.7GHz</td>\n",
       "      <td>16GB</td>\n",
       "      <td>512GB SSD</td>\n",
       "      <td>AMD Radeon Pro 455</td>\n",
       "      <td>macOS</td>\n",
       "      <td>1.83kg</td>\n",
       "      <td>2,537.45</td>\n",
       "    </tr>\n",
       "    <tr>\n",
       "      <th>4</th>\n",
       "      <td>5</td>\n",
       "      <td>Apple</td>\n",
       "      <td>MacBook Pro</td>\n",
       "      <td>Ultrabook</td>\n",
       "      <td>13.30</td>\n",
       "      <td>IPS Panel Retina Display 2560x1600</td>\n",
       "      <td>Intel Core i5 3.1GHz</td>\n",
       "      <td>8GB</td>\n",
       "      <td>256GB SSD</td>\n",
       "      <td>Intel Iris Plus Graphics 650</td>\n",
       "      <td>macOS</td>\n",
       "      <td>1.37kg</td>\n",
       "      <td>1,803.60</td>\n",
       "    </tr>\n",
       "  </tbody>\n",
       "</table>\n",
       "</div>"
      ],
      "text/plain": [
       "   Unnamed: 0 Company      Product   TypeName  Inches  \\\n",
       "0           1   Apple  MacBook Pro  Ultrabook   13.30   \n",
       "1           2   Apple  Macbook Air  Ultrabook   13.30   \n",
       "2           3      HP       250 G6   Notebook   15.60   \n",
       "3           4   Apple  MacBook Pro  Ultrabook   15.40   \n",
       "4           5   Apple  MacBook Pro  Ultrabook   13.30   \n",
       "\n",
       "                     ScreenResolution                         Cpu   Ram  \\\n",
       "0  IPS Panel Retina Display 2560x1600        Intel Core i5 2.3GHz   8GB   \n",
       "1                            1440x900        Intel Core i5 1.8GHz   8GB   \n",
       "2                   Full HD 1920x1080  Intel Core i5 7200U 2.5GHz   8GB   \n",
       "3  IPS Panel Retina Display 2880x1800        Intel Core i7 2.7GHz  16GB   \n",
       "4  IPS Panel Retina Display 2560x1600        Intel Core i5 3.1GHz   8GB   \n",
       "\n",
       "                Memory                           Gpu  OpSys  Weight  \\\n",
       "0            128GB SSD  Intel Iris Plus Graphics 640  macOS  1.37kg   \n",
       "1  128GB Flash Storage        Intel HD Graphics 6000  macOS  1.34kg   \n",
       "2            256GB SSD         Intel HD Graphics 620  No OS  1.86kg   \n",
       "3            512GB SSD            AMD Radeon Pro 455  macOS  1.83kg   \n",
       "4            256GB SSD  Intel Iris Plus Graphics 650  macOS  1.37kg   \n",
       "\n",
       "   Price_euros  \n",
       "0     1,339.69  \n",
       "1       898.94  \n",
       "2       575.00  \n",
       "3     2,537.45  \n",
       "4     1,803.60  "
      ]
     },
     "execution_count": 5,
     "metadata": {},
     "output_type": "execute_result"
    }
   ],
   "source": [
    "df.head()"
   ]
  },
  {
   "cell_type": "code",
   "execution_count": 6,
   "id": "93b8f956-264a-4748-ba2d-6c2c71b2ea36",
   "metadata": {},
   "outputs": [
    {
     "name": "stdout",
     "output_type": "stream",
     "text": [
      "<class 'pandas.core.frame.DataFrame'>\n",
      "RangeIndex: 1303 entries, 0 to 1302\n",
      "Data columns (total 13 columns):\n",
      " #   Column            Non-Null Count  Dtype  \n",
      "---  ------            --------------  -----  \n",
      " 0   Unnamed: 0        1303 non-null   int64  \n",
      " 1   Company           1303 non-null   object \n",
      " 2   Product           1303 non-null   object \n",
      " 3   TypeName          1303 non-null   object \n",
      " 4   Inches            1303 non-null   float64\n",
      " 5   ScreenResolution  1303 non-null   object \n",
      " 6   Cpu               1303 non-null   object \n",
      " 7   Ram               1303 non-null   object \n",
      " 8   Memory            1303 non-null   object \n",
      " 9   Gpu               1303 non-null   object \n",
      " 10  OpSys             1303 non-null   object \n",
      " 11  Weight            1303 non-null   object \n",
      " 12  Price_euros       1303 non-null   float64\n",
      "dtypes: float64(2), int64(1), object(10)\n",
      "memory usage: 914.6 KB\n"
     ]
    }
   ],
   "source": [
    "df.info(memory_usage='deep')"
   ]
  },
  {
   "cell_type": "code",
   "execution_count": 7,
   "id": "ade54ec2-bc50-41cf-b4b4-27bbb7c27620",
   "metadata": {},
   "outputs": [
    {
     "data": {
      "text/html": [
       "<div>\n",
       "<style scoped>\n",
       "    .dataframe tbody tr th:only-of-type {\n",
       "        vertical-align: middle;\n",
       "    }\n",
       "\n",
       "    .dataframe tbody tr th {\n",
       "        vertical-align: top;\n",
       "    }\n",
       "\n",
       "    .dataframe thead th {\n",
       "        text-align: right;\n",
       "    }\n",
       "</style>\n",
       "<table border=\"1\" class=\"dataframe\">\n",
       "  <thead>\n",
       "    <tr style=\"text-align: right;\">\n",
       "      <th></th>\n",
       "      <th>Company</th>\n",
       "      <th>Product</th>\n",
       "      <th>TypeName</th>\n",
       "      <th>ScreenResolution</th>\n",
       "      <th>Cpu</th>\n",
       "      <th>Ram</th>\n",
       "      <th>Memory</th>\n",
       "      <th>Gpu</th>\n",
       "      <th>OpSys</th>\n",
       "      <th>Weight</th>\n",
       "    </tr>\n",
       "  </thead>\n",
       "  <tbody>\n",
       "    <tr>\n",
       "      <th>count</th>\n",
       "      <td>1303</td>\n",
       "      <td>1303</td>\n",
       "      <td>1303</td>\n",
       "      <td>1303</td>\n",
       "      <td>1303</td>\n",
       "      <td>1303</td>\n",
       "      <td>1303</td>\n",
       "      <td>1303</td>\n",
       "      <td>1303</td>\n",
       "      <td>1303</td>\n",
       "    </tr>\n",
       "    <tr>\n",
       "      <th>unique</th>\n",
       "      <td>19</td>\n",
       "      <td>618</td>\n",
       "      <td>6</td>\n",
       "      <td>40</td>\n",
       "      <td>118</td>\n",
       "      <td>9</td>\n",
       "      <td>39</td>\n",
       "      <td>110</td>\n",
       "      <td>9</td>\n",
       "      <td>179</td>\n",
       "    </tr>\n",
       "    <tr>\n",
       "      <th>top</th>\n",
       "      <td>Dell</td>\n",
       "      <td>XPS 13</td>\n",
       "      <td>Notebook</td>\n",
       "      <td>Full HD 1920x1080</td>\n",
       "      <td>Intel Core i5 7200U 2.5GHz</td>\n",
       "      <td>8GB</td>\n",
       "      <td>256GB SSD</td>\n",
       "      <td>Intel HD Graphics 620</td>\n",
       "      <td>Windows 10</td>\n",
       "      <td>2.2kg</td>\n",
       "    </tr>\n",
       "    <tr>\n",
       "      <th>freq</th>\n",
       "      <td>297</td>\n",
       "      <td>30</td>\n",
       "      <td>727</td>\n",
       "      <td>507</td>\n",
       "      <td>190</td>\n",
       "      <td>619</td>\n",
       "      <td>412</td>\n",
       "      <td>281</td>\n",
       "      <td>1072</td>\n",
       "      <td>121</td>\n",
       "    </tr>\n",
       "  </tbody>\n",
       "</table>\n",
       "</div>"
      ],
      "text/plain": [
       "       Company Product  TypeName   ScreenResolution  \\\n",
       "count     1303    1303      1303               1303   \n",
       "unique      19     618         6                 40   \n",
       "top       Dell  XPS 13  Notebook  Full HD 1920x1080   \n",
       "freq       297      30       727                507   \n",
       "\n",
       "                               Cpu   Ram     Memory                    Gpu  \\\n",
       "count                         1303  1303       1303                   1303   \n",
       "unique                         118     9         39                    110   \n",
       "top     Intel Core i5 7200U 2.5GHz   8GB  256GB SSD  Intel HD Graphics 620   \n",
       "freq                           190   619        412                    281   \n",
       "\n",
       "             OpSys Weight  \n",
       "count         1303   1303  \n",
       "unique           9    179  \n",
       "top     Windows 10  2.2kg  \n",
       "freq          1072    121  "
      ]
     },
     "execution_count": 7,
     "metadata": {},
     "output_type": "execute_result"
    }
   ],
   "source": [
    "df.select_dtypes(include=['object']).describe()"
   ]
  },
  {
   "cell_type": "code",
   "execution_count": 8,
   "id": "ce64447f-3094-4331-8c38-aadf5940006a",
   "metadata": {},
   "outputs": [
    {
     "data": {
      "text/html": [
       "<div>\n",
       "<style scoped>\n",
       "    .dataframe tbody tr th:only-of-type {\n",
       "        vertical-align: middle;\n",
       "    }\n",
       "\n",
       "    .dataframe tbody tr th {\n",
       "        vertical-align: top;\n",
       "    }\n",
       "\n",
       "    .dataframe thead th {\n",
       "        text-align: right;\n",
       "    }\n",
       "</style>\n",
       "<table border=\"1\" class=\"dataframe\">\n",
       "  <thead>\n",
       "    <tr style=\"text-align: right;\">\n",
       "      <th></th>\n",
       "      <th>Unnamed: 0</th>\n",
       "      <th>Inches</th>\n",
       "      <th>Price_euros</th>\n",
       "    </tr>\n",
       "  </thead>\n",
       "  <tbody>\n",
       "    <tr>\n",
       "      <th>count</th>\n",
       "      <td>1,303.00</td>\n",
       "      <td>1,303.00</td>\n",
       "      <td>1,303.00</td>\n",
       "    </tr>\n",
       "    <tr>\n",
       "      <th>mean</th>\n",
       "      <td>660.16</td>\n",
       "      <td>15.02</td>\n",
       "      <td>1,123.69</td>\n",
       "    </tr>\n",
       "    <tr>\n",
       "      <th>std</th>\n",
       "      <td>381.17</td>\n",
       "      <td>1.43</td>\n",
       "      <td>699.01</td>\n",
       "    </tr>\n",
       "    <tr>\n",
       "      <th>min</th>\n",
       "      <td>1.00</td>\n",
       "      <td>10.10</td>\n",
       "      <td>174.00</td>\n",
       "    </tr>\n",
       "    <tr>\n",
       "      <th>25%</th>\n",
       "      <td>331.50</td>\n",
       "      <td>14.00</td>\n",
       "      <td>599.00</td>\n",
       "    </tr>\n",
       "    <tr>\n",
       "      <th>50%</th>\n",
       "      <td>659.00</td>\n",
       "      <td>15.60</td>\n",
       "      <td>977.00</td>\n",
       "    </tr>\n",
       "    <tr>\n",
       "      <th>75%</th>\n",
       "      <td>990.50</td>\n",
       "      <td>15.60</td>\n",
       "      <td>1,487.88</td>\n",
       "    </tr>\n",
       "    <tr>\n",
       "      <th>max</th>\n",
       "      <td>1,320.00</td>\n",
       "      <td>18.40</td>\n",
       "      <td>6,099.00</td>\n",
       "    </tr>\n",
       "  </tbody>\n",
       "</table>\n",
       "</div>"
      ],
      "text/plain": [
       "       Unnamed: 0   Inches  Price_euros\n",
       "count    1,303.00 1,303.00     1,303.00\n",
       "mean       660.16    15.02     1,123.69\n",
       "std        381.17     1.43       699.01\n",
       "min          1.00    10.10       174.00\n",
       "25%        331.50    14.00       599.00\n",
       "50%        659.00    15.60       977.00\n",
       "75%        990.50    15.60     1,487.88\n",
       "max      1,320.00    18.40     6,099.00"
      ]
     },
     "execution_count": 8,
     "metadata": {},
     "output_type": "execute_result"
    }
   ],
   "source": [
    "df.select_dtypes(exclude=['object']).describe()"
   ]
  },
  {
   "cell_type": "markdown",
   "id": "e3d3942a-8e5f-4a6d-af97-6a0f3f0b021b",
   "metadata": {},
   "source": [
    "# "
   ]
  },
  {
   "cell_type": "markdown",
   "id": "c90d0e8f-76f8-4f30-b372-f98085cf701d",
   "metadata": {},
   "source": [
    "## Data Cleaning"
   ]
  },
  {
   "cell_type": "code",
   "execution_count": 9,
   "id": "793c1ec9-c8f0-4e13-af40-46b87d76fd86",
   "metadata": {},
   "outputs": [],
   "source": [
    "# removing the unnamed/index column\n",
    "\n",
    "df.drop(columns='Unnamed: 0', inplace=True)"
   ]
  },
  {
   "cell_type": "code",
   "execution_count": 10,
   "id": "9a12a306-f45f-45b1-b2fc-28134d714683",
   "metadata": {},
   "outputs": [
    {
     "data": {
      "text/html": [
       "<div>\n",
       "<style scoped>\n",
       "    .dataframe tbody tr th:only-of-type {\n",
       "        vertical-align: middle;\n",
       "    }\n",
       "\n",
       "    .dataframe tbody tr th {\n",
       "        vertical-align: top;\n",
       "    }\n",
       "\n",
       "    .dataframe thead th {\n",
       "        text-align: right;\n",
       "    }\n",
       "</style>\n",
       "<table border=\"1\" class=\"dataframe\">\n",
       "  <thead>\n",
       "    <tr style=\"text-align: right;\">\n",
       "      <th></th>\n",
       "      <th>Company</th>\n",
       "      <th>Product</th>\n",
       "      <th>TypeName</th>\n",
       "      <th>Inches</th>\n",
       "      <th>ScreenResolution</th>\n",
       "      <th>Cpu</th>\n",
       "      <th>Ram</th>\n",
       "      <th>Memory</th>\n",
       "      <th>Gpu</th>\n",
       "      <th>OpSys</th>\n",
       "      <th>Weight</th>\n",
       "      <th>Price_euros</th>\n",
       "    </tr>\n",
       "  </thead>\n",
       "  <tbody>\n",
       "    <tr>\n",
       "      <th>0</th>\n",
       "      <td>Apple</td>\n",
       "      <td>MacBook Pro</td>\n",
       "      <td>Ultrabook</td>\n",
       "      <td>13.30</td>\n",
       "      <td>IPS Panel Retina Display 2560x1600</td>\n",
       "      <td>Intel Core i5 2.3GHz</td>\n",
       "      <td>8GB</td>\n",
       "      <td>128GB SSD</td>\n",
       "      <td>Intel Iris Plus Graphics 640</td>\n",
       "      <td>macOS</td>\n",
       "      <td>1.37kg</td>\n",
       "      <td>1,339.69</td>\n",
       "    </tr>\n",
       "    <tr>\n",
       "      <th>1</th>\n",
       "      <td>Apple</td>\n",
       "      <td>Macbook Air</td>\n",
       "      <td>Ultrabook</td>\n",
       "      <td>13.30</td>\n",
       "      <td>1440x900</td>\n",
       "      <td>Intel Core i5 1.8GHz</td>\n",
       "      <td>8GB</td>\n",
       "      <td>128GB Flash Storage</td>\n",
       "      <td>Intel HD Graphics 6000</td>\n",
       "      <td>macOS</td>\n",
       "      <td>1.34kg</td>\n",
       "      <td>898.94</td>\n",
       "    </tr>\n",
       "    <tr>\n",
       "      <th>2</th>\n",
       "      <td>HP</td>\n",
       "      <td>250 G6</td>\n",
       "      <td>Notebook</td>\n",
       "      <td>15.60</td>\n",
       "      <td>Full HD 1920x1080</td>\n",
       "      <td>Intel Core i5 7200U 2.5GHz</td>\n",
       "      <td>8GB</td>\n",
       "      <td>256GB SSD</td>\n",
       "      <td>Intel HD Graphics 620</td>\n",
       "      <td>No OS</td>\n",
       "      <td>1.86kg</td>\n",
       "      <td>575.00</td>\n",
       "    </tr>\n",
       "    <tr>\n",
       "      <th>3</th>\n",
       "      <td>Apple</td>\n",
       "      <td>MacBook Pro</td>\n",
       "      <td>Ultrabook</td>\n",
       "      <td>15.40</td>\n",
       "      <td>IPS Panel Retina Display 2880x1800</td>\n",
       "      <td>Intel Core i7 2.7GHz</td>\n",
       "      <td>16GB</td>\n",
       "      <td>512GB SSD</td>\n",
       "      <td>AMD Radeon Pro 455</td>\n",
       "      <td>macOS</td>\n",
       "      <td>1.83kg</td>\n",
       "      <td>2,537.45</td>\n",
       "    </tr>\n",
       "    <tr>\n",
       "      <th>4</th>\n",
       "      <td>Apple</td>\n",
       "      <td>MacBook Pro</td>\n",
       "      <td>Ultrabook</td>\n",
       "      <td>13.30</td>\n",
       "      <td>IPS Panel Retina Display 2560x1600</td>\n",
       "      <td>Intel Core i5 3.1GHz</td>\n",
       "      <td>8GB</td>\n",
       "      <td>256GB SSD</td>\n",
       "      <td>Intel Iris Plus Graphics 650</td>\n",
       "      <td>macOS</td>\n",
       "      <td>1.37kg</td>\n",
       "      <td>1,803.60</td>\n",
       "    </tr>\n",
       "  </tbody>\n",
       "</table>\n",
       "</div>"
      ],
      "text/plain": [
       "  Company      Product   TypeName  Inches                    ScreenResolution  \\\n",
       "0   Apple  MacBook Pro  Ultrabook   13.30  IPS Panel Retina Display 2560x1600   \n",
       "1   Apple  Macbook Air  Ultrabook   13.30                            1440x900   \n",
       "2      HP       250 G6   Notebook   15.60                   Full HD 1920x1080   \n",
       "3   Apple  MacBook Pro  Ultrabook   15.40  IPS Panel Retina Display 2880x1800   \n",
       "4   Apple  MacBook Pro  Ultrabook   13.30  IPS Panel Retina Display 2560x1600   \n",
       "\n",
       "                          Cpu   Ram               Memory  \\\n",
       "0        Intel Core i5 2.3GHz   8GB            128GB SSD   \n",
       "1        Intel Core i5 1.8GHz   8GB  128GB Flash Storage   \n",
       "2  Intel Core i5 7200U 2.5GHz   8GB            256GB SSD   \n",
       "3        Intel Core i7 2.7GHz  16GB            512GB SSD   \n",
       "4        Intel Core i5 3.1GHz   8GB            256GB SSD   \n",
       "\n",
       "                            Gpu  OpSys  Weight  Price_euros  \n",
       "0  Intel Iris Plus Graphics 640  macOS  1.37kg     1,339.69  \n",
       "1        Intel HD Graphics 6000  macOS  1.34kg       898.94  \n",
       "2         Intel HD Graphics 620  No OS  1.86kg       575.00  \n",
       "3            AMD Radeon Pro 455  macOS  1.83kg     2,537.45  \n",
       "4  Intel Iris Plus Graphics 650  macOS  1.37kg     1,803.60  "
      ]
     },
     "execution_count": 10,
     "metadata": {},
     "output_type": "execute_result"
    }
   ],
   "source": [
    "df.head()"
   ]
  },
  {
   "cell_type": "code",
   "execution_count": 11,
   "id": "aecfdd54-e95f-42f5-afde-a3977d4ac372",
   "metadata": {},
   "outputs": [
    {
     "data": {
      "text/plain": [
       "Company             0\n",
       "Product             0\n",
       "TypeName            0\n",
       "Inches              0\n",
       "ScreenResolution    0\n",
       "Cpu                 0\n",
       "Ram                 0\n",
       "Memory              0\n",
       "Gpu                 0\n",
       "OpSys               0\n",
       "Weight              0\n",
       "Price_euros         0\n",
       "dtype: int64"
      ]
     },
     "execution_count": 11,
     "metadata": {},
     "output_type": "execute_result"
    }
   ],
   "source": [
    "# checking for missing values\n",
    "\n",
    "df.isna().sum()"
   ]
  },
  {
   "cell_type": "code",
   "execution_count": 12,
   "id": "341ac216-cb83-496d-8602-c3c748e5b2f0",
   "metadata": {},
   "outputs": [
    {
     "data": {
      "text/plain": [
       "28"
      ]
     },
     "execution_count": 12,
     "metadata": {},
     "output_type": "execute_result"
    }
   ],
   "source": [
    "# the number of duplicated rows\n",
    "\n",
    "df.duplicated().sum()"
   ]
  },
  {
   "cell_type": "code",
   "execution_count": 13,
   "id": "6891f633-8e4d-4f09-a021-b0742733447e",
   "metadata": {},
   "outputs": [
    {
     "data": {
      "text/html": [
       "<div>\n",
       "<style scoped>\n",
       "    .dataframe tbody tr th:only-of-type {\n",
       "        vertical-align: middle;\n",
       "    }\n",
       "\n",
       "    .dataframe tbody tr th {\n",
       "        vertical-align: top;\n",
       "    }\n",
       "\n",
       "    .dataframe thead th {\n",
       "        text-align: right;\n",
       "    }\n",
       "</style>\n",
       "<table border=\"1\" class=\"dataframe\">\n",
       "  <thead>\n",
       "    <tr style=\"text-align: right;\">\n",
       "      <th></th>\n",
       "      <th>Company</th>\n",
       "      <th>Product</th>\n",
       "      <th>TypeName</th>\n",
       "      <th>Inches</th>\n",
       "      <th>ScreenResolution</th>\n",
       "      <th>Cpu</th>\n",
       "      <th>Ram</th>\n",
       "      <th>Memory</th>\n",
       "      <th>Gpu</th>\n",
       "      <th>OpSys</th>\n",
       "      <th>Weight</th>\n",
       "      <th>Price_euros</th>\n",
       "    </tr>\n",
       "  </thead>\n",
       "  <tbody>\n",
       "    <tr>\n",
       "      <th>1263</th>\n",
       "      <td>Acer</td>\n",
       "      <td>Aspire ES1-531</td>\n",
       "      <td>Notebook</td>\n",
       "      <td>15.60</td>\n",
       "      <td>1366x768</td>\n",
       "      <td>Intel Celeron Dual Core N3060 1.6GHz</td>\n",
       "      <td>4GB</td>\n",
       "      <td>500GB HDD</td>\n",
       "      <td>Intel HD Graphics 400</td>\n",
       "      <td>Linux</td>\n",
       "      <td>2.4kg</td>\n",
       "      <td>289.00</td>\n",
       "    </tr>\n",
       "    <tr>\n",
       "      <th>1277</th>\n",
       "      <td>Acer</td>\n",
       "      <td>Aspire ES1-531</td>\n",
       "      <td>Notebook</td>\n",
       "      <td>15.60</td>\n",
       "      <td>1366x768</td>\n",
       "      <td>Intel Celeron Dual Core N3060 1.6GHz</td>\n",
       "      <td>4GB</td>\n",
       "      <td>500GB HDD</td>\n",
       "      <td>Intel HD Graphics 400</td>\n",
       "      <td>Linux</td>\n",
       "      <td>2.4kg</td>\n",
       "      <td>289.00</td>\n",
       "    </tr>\n",
       "    <tr>\n",
       "      <th>1291</th>\n",
       "      <td>Acer</td>\n",
       "      <td>Aspire ES1-531</td>\n",
       "      <td>Notebook</td>\n",
       "      <td>15.60</td>\n",
       "      <td>1366x768</td>\n",
       "      <td>Intel Celeron Dual Core N3060 1.6GHz</td>\n",
       "      <td>4GB</td>\n",
       "      <td>500GB HDD</td>\n",
       "      <td>Intel HD Graphics 400</td>\n",
       "      <td>Linux</td>\n",
       "      <td>2.4kg</td>\n",
       "      <td>289.00</td>\n",
       "    </tr>\n",
       "    <tr>\n",
       "      <th>1274</th>\n",
       "      <td>Asus</td>\n",
       "      <td>X553SA-XX031T (N3050/4GB/500GB/W10)</td>\n",
       "      <td>Notebook</td>\n",
       "      <td>15.60</td>\n",
       "      <td>1366x768</td>\n",
       "      <td>Intel Celeron Dual Core N3050 1.6GHz</td>\n",
       "      <td>4GB</td>\n",
       "      <td>500GB HDD</td>\n",
       "      <td>Intel HD Graphics</td>\n",
       "      <td>Windows 10</td>\n",
       "      <td>2.2kg</td>\n",
       "      <td>369.00</td>\n",
       "    </tr>\n",
       "    <tr>\n",
       "      <th>1288</th>\n",
       "      <td>Asus</td>\n",
       "      <td>X553SA-XX031T (N3050/4GB/500GB/W10)</td>\n",
       "      <td>Notebook</td>\n",
       "      <td>15.60</td>\n",
       "      <td>1366x768</td>\n",
       "      <td>Intel Celeron Dual Core N3050 1.6GHz</td>\n",
       "      <td>4GB</td>\n",
       "      <td>500GB HDD</td>\n",
       "      <td>Intel HD Graphics</td>\n",
       "      <td>Windows 10</td>\n",
       "      <td>2.2kg</td>\n",
       "      <td>369.00</td>\n",
       "    </tr>\n",
       "    <tr>\n",
       "      <th>1302</th>\n",
       "      <td>Asus</td>\n",
       "      <td>X553SA-XX031T (N3050/4GB/500GB/W10)</td>\n",
       "      <td>Notebook</td>\n",
       "      <td>15.60</td>\n",
       "      <td>1366x768</td>\n",
       "      <td>Intel Celeron Dual Core N3050 1.6GHz</td>\n",
       "      <td>4GB</td>\n",
       "      <td>500GB HDD</td>\n",
       "      <td>Intel HD Graphics</td>\n",
       "      <td>Windows 10</td>\n",
       "      <td>2.2kg</td>\n",
       "      <td>369.00</td>\n",
       "    </tr>\n",
       "    <tr>\n",
       "      <th>1269</th>\n",
       "      <td>Asus</td>\n",
       "      <td>X556UJ-XO044T (i7-6500U/4GB/500GB/GeForce</td>\n",
       "      <td>Notebook</td>\n",
       "      <td>15.60</td>\n",
       "      <td>1366x768</td>\n",
       "      <td>Intel Core i7 6500U 2.5GHz</td>\n",
       "      <td>4GB</td>\n",
       "      <td>500GB HDD</td>\n",
       "      <td>Nvidia GeForce 920M</td>\n",
       "      <td>Windows 10</td>\n",
       "      <td>2.2kg</td>\n",
       "      <td>720.32</td>\n",
       "    </tr>\n",
       "    <tr>\n",
       "      <th>1283</th>\n",
       "      <td>Asus</td>\n",
       "      <td>X556UJ-XO044T (i7-6500U/4GB/500GB/GeForce</td>\n",
       "      <td>Notebook</td>\n",
       "      <td>15.60</td>\n",
       "      <td>1366x768</td>\n",
       "      <td>Intel Core i7 6500U 2.5GHz</td>\n",
       "      <td>4GB</td>\n",
       "      <td>500GB HDD</td>\n",
       "      <td>Nvidia GeForce 920M</td>\n",
       "      <td>Windows 10</td>\n",
       "      <td>2.2kg</td>\n",
       "      <td>720.32</td>\n",
       "    </tr>\n",
       "    <tr>\n",
       "      <th>1297</th>\n",
       "      <td>Asus</td>\n",
       "      <td>X556UJ-XO044T (i7-6500U/4GB/500GB/GeForce</td>\n",
       "      <td>Notebook</td>\n",
       "      <td>15.60</td>\n",
       "      <td>1366x768</td>\n",
       "      <td>Intel Core i7 6500U 2.5GHz</td>\n",
       "      <td>4GB</td>\n",
       "      <td>500GB HDD</td>\n",
       "      <td>Nvidia GeForce 920M</td>\n",
       "      <td>Windows 10</td>\n",
       "      <td>2.2kg</td>\n",
       "      <td>720.32</td>\n",
       "    </tr>\n",
       "    <tr>\n",
       "      <th>1261</th>\n",
       "      <td>Asus</td>\n",
       "      <td>ZenBook UX305CA-UBM1</td>\n",
       "      <td>Ultrabook</td>\n",
       "      <td>13.30</td>\n",
       "      <td>IPS Panel Full HD 1920x1080</td>\n",
       "      <td>Intel Core M 6Y30 0.9GHz</td>\n",
       "      <td>8GB</td>\n",
       "      <td>512GB SSD</td>\n",
       "      <td>Intel HD Graphics 515</td>\n",
       "      <td>Windows 10</td>\n",
       "      <td>1.2kg</td>\n",
       "      <td>729.00</td>\n",
       "    </tr>\n",
       "  </tbody>\n",
       "</table>\n",
       "</div>"
      ],
      "text/plain": [
       "     Company                                    Product   TypeName  Inches  \\\n",
       "1263    Acer                             Aspire ES1-531   Notebook   15.60   \n",
       "1277    Acer                             Aspire ES1-531   Notebook   15.60   \n",
       "1291    Acer                             Aspire ES1-531   Notebook   15.60   \n",
       "1274    Asus        X553SA-XX031T (N3050/4GB/500GB/W10)   Notebook   15.60   \n",
       "1288    Asus        X553SA-XX031T (N3050/4GB/500GB/W10)   Notebook   15.60   \n",
       "1302    Asus        X553SA-XX031T (N3050/4GB/500GB/W10)   Notebook   15.60   \n",
       "1269    Asus  X556UJ-XO044T (i7-6500U/4GB/500GB/GeForce   Notebook   15.60   \n",
       "1283    Asus  X556UJ-XO044T (i7-6500U/4GB/500GB/GeForce   Notebook   15.60   \n",
       "1297    Asus  X556UJ-XO044T (i7-6500U/4GB/500GB/GeForce   Notebook   15.60   \n",
       "1261    Asus                       ZenBook UX305CA-UBM1  Ultrabook   13.30   \n",
       "\n",
       "                 ScreenResolution                                   Cpu  Ram  \\\n",
       "1263                     1366x768  Intel Celeron Dual Core N3060 1.6GHz  4GB   \n",
       "1277                     1366x768  Intel Celeron Dual Core N3060 1.6GHz  4GB   \n",
       "1291                     1366x768  Intel Celeron Dual Core N3060 1.6GHz  4GB   \n",
       "1274                     1366x768  Intel Celeron Dual Core N3050 1.6GHz  4GB   \n",
       "1288                     1366x768  Intel Celeron Dual Core N3050 1.6GHz  4GB   \n",
       "1302                     1366x768  Intel Celeron Dual Core N3050 1.6GHz  4GB   \n",
       "1269                     1366x768            Intel Core i7 6500U 2.5GHz  4GB   \n",
       "1283                     1366x768            Intel Core i7 6500U 2.5GHz  4GB   \n",
       "1297                     1366x768            Intel Core i7 6500U 2.5GHz  4GB   \n",
       "1261  IPS Panel Full HD 1920x1080              Intel Core M 6Y30 0.9GHz  8GB   \n",
       "\n",
       "         Memory                    Gpu       OpSys Weight  Price_euros  \n",
       "1263  500GB HDD  Intel HD Graphics 400       Linux  2.4kg       289.00  \n",
       "1277  500GB HDD  Intel HD Graphics 400       Linux  2.4kg       289.00  \n",
       "1291  500GB HDD  Intel HD Graphics 400       Linux  2.4kg       289.00  \n",
       "1274  500GB HDD      Intel HD Graphics  Windows 10  2.2kg       369.00  \n",
       "1288  500GB HDD      Intel HD Graphics  Windows 10  2.2kg       369.00  \n",
       "1302  500GB HDD      Intel HD Graphics  Windows 10  2.2kg       369.00  \n",
       "1269  500GB HDD    Nvidia GeForce 920M  Windows 10  2.2kg       720.32  \n",
       "1283  500GB HDD    Nvidia GeForce 920M  Windows 10  2.2kg       720.32  \n",
       "1297  500GB HDD    Nvidia GeForce 920M  Windows 10  2.2kg       720.32  \n",
       "1261  512GB SSD  Intel HD Graphics 515  Windows 10  1.2kg       729.00  "
      ]
     },
     "execution_count": 13,
     "metadata": {},
     "output_type": "execute_result"
    }
   ],
   "source": [
    "# the duplicated rows\n",
    "\n",
    "df[df.duplicated(keep=False)].sort_values(by=['Company','Product']).head(10)"
   ]
  },
  {
   "cell_type": "code",
   "execution_count": 14,
   "id": "9f9c898a-5b11-4830-8dbd-be5661ce9609",
   "metadata": {},
   "outputs": [],
   "source": [
    "# removing the duplicated rows\n",
    "\n",
    "df.drop_duplicates(inplace=True)"
   ]
  },
  {
   "cell_type": "markdown",
   "id": "e76df9f0-a928-472c-b8b4-aa447248d359",
   "metadata": {},
   "source": [
    "# "
   ]
  },
  {
   "cell_type": "markdown",
   "id": "5a7a5521-57c5-427a-a405-5b25da824e35",
   "metadata": {},
   "source": [
    "### What's next?:\n",
    "#### - cleaning the columns: Ram, Memory, Wieght.\n",
    "#### - changing the type of columns: Company, TypesName, OpsSys and maybe more."
   ]
  },
  {
   "cell_type": "markdown",
   "id": "27076799-eec8-426a-9a83-0f1df2839256",
   "metadata": {},
   "source": [
    "# "
   ]
  },
  {
   "cell_type": "markdown",
   "id": "8a16525b-7b9e-4985-a8c7-1ac7b0f83c53",
   "metadata": {},
   "source": [
    "#### ➥ cleaning the 'Ram' column"
   ]
  },
  {
   "cell_type": "code",
   "execution_count": 15,
   "id": "31b2a8e7-46d3-4b7a-918b-83e8d1b938f1",
   "metadata": {},
   "outputs": [
    {
     "data": {
      "text/plain": [
       "array(['8GB', '16GB', '4GB', '2GB', '12GB', '6GB', '32GB', '24GB', '64GB'],\n",
       "      dtype=object)"
      ]
     },
     "execution_count": 15,
     "metadata": {},
     "output_type": "execute_result"
    }
   ],
   "source": [
    "df['Ram'].unique()"
   ]
  },
  {
   "cell_type": "code",
   "execution_count": 16,
   "id": "54822ef5-2c50-4ee7-8412-2d386fbb319f",
   "metadata": {},
   "outputs": [
    {
     "data": {
      "text/plain": [
       "0        8\n",
       "1        8\n",
       "2        8\n",
       "3       16\n",
       "4        8\n",
       "        ..\n",
       "1270     4\n",
       "1271    16\n",
       "1272     2\n",
       "1273     6\n",
       "1274     4\n",
       "Name: Ram, Length: 1275, dtype: object"
      ]
     },
     "execution_count": 16,
     "metadata": {},
     "output_type": "execute_result"
    }
   ],
   "source": [
    "# I'm going to remove the two words 'GB' from each row and I have to rename the columns from Ram to something like Ram GB\n",
    "\n",
    "df['Ram'].str.replace('GB', '')"
   ]
  },
  {
   "cell_type": "code",
   "execution_count": 17,
   "id": "15f98e35-7422-4e3e-89c1-23589a8d800a",
   "metadata": {},
   "outputs": [],
   "source": [
    "df['Ram'] = df['Ram'].str.replace('GB', '').astype(int)"
   ]
  },
  {
   "cell_type": "markdown",
   "id": "f7087474-f5de-4afc-8ea5-d47782d88363",
   "metadata": {},
   "source": [
    "# "
   ]
  },
  {
   "cell_type": "markdown",
   "id": "6c6748a4-b650-45f8-968d-d7cf23b45915",
   "metadata": {
    "tags": []
   },
   "source": [
    "#### ➥ cleaning the 'Memory' column"
   ]
  },
  {
   "cell_type": "code",
   "execution_count": 18,
   "id": "1f29c804-089a-44e1-b8e7-9dcea99d0bed",
   "metadata": {},
   "outputs": [
    {
     "data": {
      "text/plain": [
       "array(['128GB SSD', '128GB Flash Storage', '256GB SSD', '512GB SSD',\n",
       "       '500GB HDD', '256GB Flash Storage', '1TB HDD',\n",
       "       '32GB Flash Storage', '128GB SSD +  1TB HDD',\n",
       "       '256GB SSD +  256GB SSD', '64GB Flash Storage',\n",
       "       '256GB SSD +  1TB HDD', '256GB SSD +  2TB HDD', '32GB SSD',\n",
       "       '2TB HDD', '64GB SSD', '1.0TB Hybrid', '512GB SSD +  1TB HDD',\n",
       "       '1TB SSD', '256GB SSD +  500GB HDD', '128GB SSD +  2TB HDD',\n",
       "       '512GB SSD +  512GB SSD', '16GB SSD', '16GB Flash Storage',\n",
       "       '512GB SSD +  256GB SSD', '512GB SSD +  2TB HDD',\n",
       "       '64GB Flash Storage +  1TB HDD', '180GB SSD', '1TB HDD +  1TB HDD',\n",
       "       '32GB HDD', '1TB SSD +  1TB HDD', '512GB Flash Storage',\n",
       "       '128GB HDD', '240GB SSD', '8GB SSD', '508GB Hybrid', '1.0TB HDD',\n",
       "       '512GB SSD +  1.0TB Hybrid', '256GB SSD +  1.0TB Hybrid'],\n",
       "      dtype=object)"
      ]
     },
     "execution_count": 18,
     "metadata": {},
     "output_type": "execute_result"
    }
   ],
   "source": [
    "df['Memory'].unique()"
   ]
  },
  {
   "cell_type": "code",
   "execution_count": 19,
   "id": "61bbca50-9811-4242-9add-8af917d573b5",
   "metadata": {},
   "outputs": [
    {
     "name": "stdout",
     "output_type": "stream",
     "text": [
      "128GB SSD +  1TB HDD\n",
      "256GB SSD +  256GB SSD\n",
      "256GB SSD +  1TB HDD\n",
      "256GB SSD +  2TB HDD\n",
      "512GB SSD +  1TB HDD\n",
      "256GB SSD +  500GB HDD\n",
      "128GB SSD +  2TB HDD\n",
      "512GB SSD +  512GB SSD\n",
      "512GB SSD +  256GB SSD\n",
      "512GB SSD +  2TB HDD\n",
      "64GB Flash Storage +  1TB HDD\n",
      "1TB HDD +  1TB HDD\n",
      "1TB SSD +  1TB HDD\n",
      "512GB SSD +  1.0TB Hybrid\n",
      "256GB SSD +  1.0TB Hybrid\n"
     ]
    }
   ],
   "source": [
    "for item in df['Memory'][df['Memory'].str.contains('\\+')].unique():\n",
    "    print(item)"
   ]
  },
  {
   "cell_type": "code",
   "execution_count": 20,
   "id": "33968295-2f8f-4ab9-8bac-4ccee97173c7",
   "metadata": {},
   "outputs": [
    {
     "data": {
      "text/plain": [
       "array([1, 2], dtype=int64)"
      ]
     },
     "execution_count": 20,
     "metadata": {},
     "output_type": "execute_result"
    }
   ],
   "source": [
    "df['Memory'].str.split('+').apply(lambda x: len(x)).unique()"
   ]
  },
  {
   "cell_type": "code",
   "execution_count": 21,
   "id": "6f3b5947-ed6c-4438-bf8c-4c8211301642",
   "metadata": {},
   "outputs": [
    {
     "name": "stdout",
     "output_type": "stream",
     "text": [
      "\n",
      " -> We have up to two types of storage.\n",
      "\n",
      " -> I'm going to create a new column to store the second storage.\n",
      "\n"
     ]
    }
   ],
   "source": [
    "print('\\n -> We have up to two types of storage.')\n",
    "print('\\n -> I\\'m going to create a new column to store the second storage.\\n')"
   ]
  },
  {
   "cell_type": "code",
   "execution_count": 22,
   "id": "bc0d5453-6375-4a66-9bc3-0f2dbc81a027",
   "metadata": {},
   "outputs": [
    {
     "data": {
      "text/plain": [
       "0                 [128GB SSD]\n",
       "1       [128GB Flash Storage]\n",
       "2                 [256GB SSD]\n",
       "3                 [512GB SSD]\n",
       "4                 [256GB SSD]\n",
       "                ...          \n",
       "1270              [128GB SSD]\n",
       "1271              [512GB SSD]\n",
       "1272     [64GB Flash Storage]\n",
       "1273                [1TB HDD]\n",
       "1274              [500GB HDD]\n",
       "Name: Memory, Length: 1275, dtype: object"
      ]
     },
     "execution_count": 22,
     "metadata": {},
     "output_type": "execute_result"
    }
   ],
   "source": [
    "# I split on '+' sign and then I applyed a strip() method to remove all the white spaces\n",
    "\n",
    "df['Memory'].str.split('+').apply(lambda row: [item.strip() for item in row])"
   ]
  },
  {
   "cell_type": "code",
   "execution_count": 23,
   "id": "21753ac4-b081-4f56-97e5-38c2020c7ecf",
   "metadata": {},
   "outputs": [],
   "source": [
    "first_storage = df['Memory'].str.split('+').apply(lambda row: [item.strip() for item in row]).str[0]\n",
    "second_storage = df['Memory'].str.split('+').apply(lambda row: [item.strip() for item in row]).str[1]"
   ]
  },
  {
   "cell_type": "code",
   "execution_count": 24,
   "id": "5b9717ee-5926-4172-a682-fce06d434bfc",
   "metadata": {},
   "outputs": [
    {
     "data": {
      "text/plain": [
       "0                 128GB SSD\n",
       "1       128GB Flash Storage\n",
       "2                 256GB SSD\n",
       "3                 512GB SSD\n",
       "4                 256GB SSD\n",
       "               ...         \n",
       "1270              128GB SSD\n",
       "1271              512GB SSD\n",
       "1272     64GB Flash Storage\n",
       "1273                1TB HDD\n",
       "1274              500GB HDD\n",
       "Name: Memory, Length: 1275, dtype: object"
      ]
     },
     "execution_count": 24,
     "metadata": {},
     "output_type": "execute_result"
    }
   ],
   "source": [
    "first_storage"
   ]
  },
  {
   "cell_type": "code",
   "execution_count": 25,
   "id": "5eb14288-9c92-4cfe-8613-83f800b8d258",
   "metadata": {},
   "outputs": [
    {
     "data": {
      "text/plain": [
       "21        1TB HDD\n",
       "28      256GB SSD\n",
       "37        1TB HDD\n",
       "41        1TB HDD\n",
       "47        1TB HDD\n",
       "          ...    \n",
       "1238      1TB HDD\n",
       "1245      1TB HDD\n",
       "1247      1TB HDD\n",
       "1256      1TB HDD\n",
       "1259      1TB HDD\n",
       "Name: Memory, Length: 208, dtype: object"
      ]
     },
     "execution_count": 25,
     "metadata": {},
     "output_type": "execute_result"
    }
   ],
   "source": [
    "second_storage[~second_storage.isna()]"
   ]
  },
  {
   "cell_type": "code",
   "execution_count": 26,
   "id": "4683a505-f0b9-45b6-a253-288e55f2d45f",
   "metadata": {},
   "outputs": [],
   "source": [
    "df['First Storage'] = first_storage\n",
    "df['Second Storage'] = second_storage"
   ]
  },
  {
   "cell_type": "code",
   "execution_count": 27,
   "id": "8f7a3a32-ed5d-44ad-a998-910a4aeb9862",
   "metadata": {},
   "outputs": [
    {
     "data": {
      "text/html": [
       "<div>\n",
       "<style scoped>\n",
       "    .dataframe tbody tr th:only-of-type {\n",
       "        vertical-align: middle;\n",
       "    }\n",
       "\n",
       "    .dataframe tbody tr th {\n",
       "        vertical-align: top;\n",
       "    }\n",
       "\n",
       "    .dataframe thead th {\n",
       "        text-align: right;\n",
       "    }\n",
       "</style>\n",
       "<table border=\"1\" class=\"dataframe\">\n",
       "  <thead>\n",
       "    <tr style=\"text-align: right;\">\n",
       "      <th></th>\n",
       "      <th>Company</th>\n",
       "      <th>Product</th>\n",
       "      <th>TypeName</th>\n",
       "      <th>Inches</th>\n",
       "      <th>ScreenResolution</th>\n",
       "      <th>Cpu</th>\n",
       "      <th>Ram</th>\n",
       "      <th>Memory</th>\n",
       "      <th>Gpu</th>\n",
       "      <th>OpSys</th>\n",
       "      <th>Weight</th>\n",
       "      <th>Price_euros</th>\n",
       "      <th>First Storage</th>\n",
       "      <th>Second Storage</th>\n",
       "    </tr>\n",
       "  </thead>\n",
       "  <tbody>\n",
       "    <tr>\n",
       "      <th>21</th>\n",
       "      <td>Lenovo</td>\n",
       "      <td>Legion Y520-15IKBN</td>\n",
       "      <td>Gaming</td>\n",
       "      <td>15.60</td>\n",
       "      <td>IPS Panel Full HD 1920x1080</td>\n",
       "      <td>Intel Core i5 7300HQ 2.5GHz</td>\n",
       "      <td>8</td>\n",
       "      <td>128GB SSD +  1TB HDD</td>\n",
       "      <td>Nvidia GeForce GTX 1050</td>\n",
       "      <td>Windows 10</td>\n",
       "      <td>2.5kg</td>\n",
       "      <td>999.00</td>\n",
       "      <td>128GB SSD</td>\n",
       "      <td>1TB HDD</td>\n",
       "    </tr>\n",
       "    <tr>\n",
       "      <th>28</th>\n",
       "      <td>Dell</td>\n",
       "      <td>Latitude 5590</td>\n",
       "      <td>Ultrabook</td>\n",
       "      <td>15.60</td>\n",
       "      <td>Full HD 1920x1080</td>\n",
       "      <td>Intel Core i7 8650U 1.9GHz</td>\n",
       "      <td>8</td>\n",
       "      <td>256GB SSD +  256GB SSD</td>\n",
       "      <td>Intel UHD Graphics 620</td>\n",
       "      <td>Windows 10</td>\n",
       "      <td>1.88kg</td>\n",
       "      <td>1,298.00</td>\n",
       "      <td>256GB SSD</td>\n",
       "      <td>256GB SSD</td>\n",
       "    </tr>\n",
       "    <tr>\n",
       "      <th>37</th>\n",
       "      <td>Dell</td>\n",
       "      <td>Inspiron 5770</td>\n",
       "      <td>Notebook</td>\n",
       "      <td>17.30</td>\n",
       "      <td>IPS Panel Full HD 1920x1080</td>\n",
       "      <td>Intel Core i5 8250U 1.6GHz</td>\n",
       "      <td>8</td>\n",
       "      <td>128GB SSD +  1TB HDD</td>\n",
       "      <td>AMD Radeon 530</td>\n",
       "      <td>Windows 10</td>\n",
       "      <td>2.8kg</td>\n",
       "      <td>979.00</td>\n",
       "      <td>128GB SSD</td>\n",
       "      <td>1TB HDD</td>\n",
       "    </tr>\n",
       "    <tr>\n",
       "      <th>41</th>\n",
       "      <td>Dell</td>\n",
       "      <td>Inspiron 7577</td>\n",
       "      <td>Gaming</td>\n",
       "      <td>15.60</td>\n",
       "      <td>IPS Panel Full HD 1920x1080</td>\n",
       "      <td>Intel Core i7 7700HQ 2.8GHz</td>\n",
       "      <td>16</td>\n",
       "      <td>256GB SSD +  1TB HDD</td>\n",
       "      <td>Nvidia GeForce GTX 1060</td>\n",
       "      <td>Windows 10</td>\n",
       "      <td>2.65kg</td>\n",
       "      <td>1,499.00</td>\n",
       "      <td>256GB SSD</td>\n",
       "      <td>1TB HDD</td>\n",
       "    </tr>\n",
       "    <tr>\n",
       "      <th>47</th>\n",
       "      <td>Asus</td>\n",
       "      <td>Rog Strix</td>\n",
       "      <td>Gaming</td>\n",
       "      <td>17.30</td>\n",
       "      <td>Full HD 1920x1080</td>\n",
       "      <td>AMD Ryzen 1700 3GHz</td>\n",
       "      <td>8</td>\n",
       "      <td>256GB SSD +  1TB HDD</td>\n",
       "      <td>AMD Radeon RX 580</td>\n",
       "      <td>Windows 10</td>\n",
       "      <td>3.2kg</td>\n",
       "      <td>1,299.00</td>\n",
       "      <td>256GB SSD</td>\n",
       "      <td>1TB HDD</td>\n",
       "    </tr>\n",
       "    <tr>\n",
       "      <th>58</th>\n",
       "      <td>MSI</td>\n",
       "      <td>GS73VR 7RG</td>\n",
       "      <td>Gaming</td>\n",
       "      <td>17.30</td>\n",
       "      <td>Full HD 1920x1080</td>\n",
       "      <td>Intel Core i7 7700HQ 2.8GHz</td>\n",
       "      <td>16</td>\n",
       "      <td>256GB SSD +  2TB HDD</td>\n",
       "      <td>Nvidia GeForce GTX 1070</td>\n",
       "      <td>Windows 10</td>\n",
       "      <td>2.43kg</td>\n",
       "      <td>2,449.00</td>\n",
       "      <td>256GB SSD</td>\n",
       "      <td>2TB HDD</td>\n",
       "    </tr>\n",
       "    <tr>\n",
       "      <th>60</th>\n",
       "      <td>Dell</td>\n",
       "      <td>Inspiron 5770</td>\n",
       "      <td>Notebook</td>\n",
       "      <td>17.30</td>\n",
       "      <td>Full HD 1920x1080</td>\n",
       "      <td>Intel Core i7 8550U 1.8GHz</td>\n",
       "      <td>16</td>\n",
       "      <td>256GB SSD +  2TB HDD</td>\n",
       "      <td>AMD Radeon 530</td>\n",
       "      <td>Windows 10</td>\n",
       "      <td>2.8kg</td>\n",
       "      <td>1,299.00</td>\n",
       "      <td>256GB SSD</td>\n",
       "      <td>2TB HDD</td>\n",
       "    </tr>\n",
       "    <tr>\n",
       "      <th>73</th>\n",
       "      <td>MSI</td>\n",
       "      <td>GL72M 7RDX</td>\n",
       "      <td>Gaming</td>\n",
       "      <td>17.30</td>\n",
       "      <td>Full HD 1920x1080</td>\n",
       "      <td>Intel Core i5 7300HQ 2.5GHz</td>\n",
       "      <td>8</td>\n",
       "      <td>128GB SSD +  1TB HDD</td>\n",
       "      <td>Nvidia GeForce GTX 1050</td>\n",
       "      <td>Windows 10</td>\n",
       "      <td>2.7kg</td>\n",
       "      <td>1,095.00</td>\n",
       "      <td>128GB SSD</td>\n",
       "      <td>1TB HDD</td>\n",
       "    </tr>\n",
       "    <tr>\n",
       "      <th>77</th>\n",
       "      <td>Dell</td>\n",
       "      <td>Inspiron 5570</td>\n",
       "      <td>Notebook</td>\n",
       "      <td>15.60</td>\n",
       "      <td>Full HD 1920x1080</td>\n",
       "      <td>Intel Core i7 8550U 1.8GHz</td>\n",
       "      <td>8</td>\n",
       "      <td>128GB SSD +  1TB HDD</td>\n",
       "      <td>Intel UHD Graphics 620</td>\n",
       "      <td>Windows 10</td>\n",
       "      <td>2.02kg</td>\n",
       "      <td>855.00</td>\n",
       "      <td>128GB SSD</td>\n",
       "      <td>1TB HDD</td>\n",
       "    </tr>\n",
       "    <tr>\n",
       "      <th>79</th>\n",
       "      <td>HP</td>\n",
       "      <td>ProBook 470</td>\n",
       "      <td>Notebook</td>\n",
       "      <td>17.30</td>\n",
       "      <td>Full HD 1920x1080</td>\n",
       "      <td>Intel Core i5 8250U 1.6GHz</td>\n",
       "      <td>8</td>\n",
       "      <td>128GB SSD +  1TB HDD</td>\n",
       "      <td>Nvidia GeForce 930MX</td>\n",
       "      <td>Windows 10</td>\n",
       "      <td>2.5kg</td>\n",
       "      <td>977.00</td>\n",
       "      <td>128GB SSD</td>\n",
       "      <td>1TB HDD</td>\n",
       "    </tr>\n",
       "  </tbody>\n",
       "</table>\n",
       "</div>"
      ],
      "text/plain": [
       "   Company             Product   TypeName  Inches  \\\n",
       "21  Lenovo  Legion Y520-15IKBN     Gaming   15.60   \n",
       "28    Dell       Latitude 5590  Ultrabook   15.60   \n",
       "37    Dell       Inspiron 5770   Notebook   17.30   \n",
       "41    Dell       Inspiron 7577     Gaming   15.60   \n",
       "47    Asus           Rog Strix     Gaming   17.30   \n",
       "58     MSI          GS73VR 7RG     Gaming   17.30   \n",
       "60    Dell       Inspiron 5770   Notebook   17.30   \n",
       "73     MSI          GL72M 7RDX     Gaming   17.30   \n",
       "77    Dell       Inspiron 5570   Notebook   15.60   \n",
       "79      HP         ProBook 470   Notebook   17.30   \n",
       "\n",
       "               ScreenResolution                          Cpu  Ram  \\\n",
       "21  IPS Panel Full HD 1920x1080  Intel Core i5 7300HQ 2.5GHz    8   \n",
       "28            Full HD 1920x1080   Intel Core i7 8650U 1.9GHz    8   \n",
       "37  IPS Panel Full HD 1920x1080   Intel Core i5 8250U 1.6GHz    8   \n",
       "41  IPS Panel Full HD 1920x1080  Intel Core i7 7700HQ 2.8GHz   16   \n",
       "47            Full HD 1920x1080          AMD Ryzen 1700 3GHz    8   \n",
       "58            Full HD 1920x1080  Intel Core i7 7700HQ 2.8GHz   16   \n",
       "60            Full HD 1920x1080   Intel Core i7 8550U 1.8GHz   16   \n",
       "73            Full HD 1920x1080  Intel Core i5 7300HQ 2.5GHz    8   \n",
       "77            Full HD 1920x1080   Intel Core i7 8550U 1.8GHz    8   \n",
       "79            Full HD 1920x1080   Intel Core i5 8250U 1.6GHz    8   \n",
       "\n",
       "                    Memory                      Gpu       OpSys  Weight  \\\n",
       "21    128GB SSD +  1TB HDD  Nvidia GeForce GTX 1050  Windows 10   2.5kg   \n",
       "28  256GB SSD +  256GB SSD   Intel UHD Graphics 620  Windows 10  1.88kg   \n",
       "37    128GB SSD +  1TB HDD           AMD Radeon 530  Windows 10   2.8kg   \n",
       "41    256GB SSD +  1TB HDD  Nvidia GeForce GTX 1060  Windows 10  2.65kg   \n",
       "47    256GB SSD +  1TB HDD        AMD Radeon RX 580  Windows 10   3.2kg   \n",
       "58    256GB SSD +  2TB HDD  Nvidia GeForce GTX 1070  Windows 10  2.43kg   \n",
       "60    256GB SSD +  2TB HDD           AMD Radeon 530  Windows 10   2.8kg   \n",
       "73    128GB SSD +  1TB HDD  Nvidia GeForce GTX 1050  Windows 10   2.7kg   \n",
       "77    128GB SSD +  1TB HDD   Intel UHD Graphics 620  Windows 10  2.02kg   \n",
       "79    128GB SSD +  1TB HDD     Nvidia GeForce 930MX  Windows 10   2.5kg   \n",
       "\n",
       "    Price_euros First Storage Second Storage  \n",
       "21       999.00     128GB SSD        1TB HDD  \n",
       "28     1,298.00     256GB SSD      256GB SSD  \n",
       "37       979.00     128GB SSD        1TB HDD  \n",
       "41     1,499.00     256GB SSD        1TB HDD  \n",
       "47     1,299.00     256GB SSD        1TB HDD  \n",
       "58     2,449.00     256GB SSD        2TB HDD  \n",
       "60     1,299.00     256GB SSD        2TB HDD  \n",
       "73     1,095.00     128GB SSD        1TB HDD  \n",
       "77       855.00     128GB SSD        1TB HDD  \n",
       "79       977.00     128GB SSD        1TB HDD  "
      ]
     },
     "execution_count": 27,
     "metadata": {},
     "output_type": "execute_result"
    }
   ],
   "source": [
    "# let's check some of the laptops with two storage\n",
    "\n",
    "index_laptops = list(df['Memory'][df['Memory'].str.contains('\\+')].head(10).index)\n",
    "index_laptops\n",
    "\n",
    "df.loc[index_laptops]"
   ]
  },
  {
   "cell_type": "code",
   "execution_count": 28,
   "id": "19678ddd-13a4-461e-84c5-3cb02a399454",
   "metadata": {},
   "outputs": [
    {
     "data": {
      "text/html": [
       "<div>\n",
       "<style scoped>\n",
       "    .dataframe tbody tr th:only-of-type {\n",
       "        vertical-align: middle;\n",
       "    }\n",
       "\n",
       "    .dataframe tbody tr th {\n",
       "        vertical-align: top;\n",
       "    }\n",
       "\n",
       "    .dataframe thead th {\n",
       "        text-align: right;\n",
       "    }\n",
       "</style>\n",
       "<table border=\"1\" class=\"dataframe\">\n",
       "  <thead>\n",
       "    <tr style=\"text-align: right;\">\n",
       "      <th></th>\n",
       "      <th>Company</th>\n",
       "      <th>Product</th>\n",
       "      <th>TypeName</th>\n",
       "      <th>Inches</th>\n",
       "      <th>ScreenResolution</th>\n",
       "      <th>Cpu</th>\n",
       "      <th>Ram</th>\n",
       "      <th>Memory</th>\n",
       "      <th>Gpu</th>\n",
       "      <th>OpSys</th>\n",
       "      <th>Weight</th>\n",
       "      <th>Price_euros</th>\n",
       "      <th>First Storage</th>\n",
       "      <th>Second Storage</th>\n",
       "    </tr>\n",
       "  </thead>\n",
       "  <tbody>\n",
       "    <tr>\n",
       "      <th>0</th>\n",
       "      <td>Apple</td>\n",
       "      <td>MacBook Pro</td>\n",
       "      <td>Ultrabook</td>\n",
       "      <td>13.30</td>\n",
       "      <td>IPS Panel Retina Display 2560x1600</td>\n",
       "      <td>Intel Core i5 2.3GHz</td>\n",
       "      <td>8</td>\n",
       "      <td>128GB SSD</td>\n",
       "      <td>Intel Iris Plus Graphics 640</td>\n",
       "      <td>macOS</td>\n",
       "      <td>1.37kg</td>\n",
       "      <td>1,339.69</td>\n",
       "      <td>128GB SSD</td>\n",
       "      <td>NaN</td>\n",
       "    </tr>\n",
       "    <tr>\n",
       "      <th>1</th>\n",
       "      <td>Apple</td>\n",
       "      <td>Macbook Air</td>\n",
       "      <td>Ultrabook</td>\n",
       "      <td>13.30</td>\n",
       "      <td>1440x900</td>\n",
       "      <td>Intel Core i5 1.8GHz</td>\n",
       "      <td>8</td>\n",
       "      <td>128GB Flash Storage</td>\n",
       "      <td>Intel HD Graphics 6000</td>\n",
       "      <td>macOS</td>\n",
       "      <td>1.34kg</td>\n",
       "      <td>898.94</td>\n",
       "      <td>128GB Flash Storage</td>\n",
       "      <td>NaN</td>\n",
       "    </tr>\n",
       "    <tr>\n",
       "      <th>2</th>\n",
       "      <td>HP</td>\n",
       "      <td>250 G6</td>\n",
       "      <td>Notebook</td>\n",
       "      <td>15.60</td>\n",
       "      <td>Full HD 1920x1080</td>\n",
       "      <td>Intel Core i5 7200U 2.5GHz</td>\n",
       "      <td>8</td>\n",
       "      <td>256GB SSD</td>\n",
       "      <td>Intel HD Graphics 620</td>\n",
       "      <td>No OS</td>\n",
       "      <td>1.86kg</td>\n",
       "      <td>575.00</td>\n",
       "      <td>256GB SSD</td>\n",
       "      <td>NaN</td>\n",
       "    </tr>\n",
       "    <tr>\n",
       "      <th>3</th>\n",
       "      <td>Apple</td>\n",
       "      <td>MacBook Pro</td>\n",
       "      <td>Ultrabook</td>\n",
       "      <td>15.40</td>\n",
       "      <td>IPS Panel Retina Display 2880x1800</td>\n",
       "      <td>Intel Core i7 2.7GHz</td>\n",
       "      <td>16</td>\n",
       "      <td>512GB SSD</td>\n",
       "      <td>AMD Radeon Pro 455</td>\n",
       "      <td>macOS</td>\n",
       "      <td>1.83kg</td>\n",
       "      <td>2,537.45</td>\n",
       "      <td>512GB SSD</td>\n",
       "      <td>NaN</td>\n",
       "    </tr>\n",
       "    <tr>\n",
       "      <th>4</th>\n",
       "      <td>Apple</td>\n",
       "      <td>MacBook Pro</td>\n",
       "      <td>Ultrabook</td>\n",
       "      <td>13.30</td>\n",
       "      <td>IPS Panel Retina Display 2560x1600</td>\n",
       "      <td>Intel Core i5 3.1GHz</td>\n",
       "      <td>8</td>\n",
       "      <td>256GB SSD</td>\n",
       "      <td>Intel Iris Plus Graphics 650</td>\n",
       "      <td>macOS</td>\n",
       "      <td>1.37kg</td>\n",
       "      <td>1,803.60</td>\n",
       "      <td>256GB SSD</td>\n",
       "      <td>NaN</td>\n",
       "    </tr>\n",
       "  </tbody>\n",
       "</table>\n",
       "</div>"
      ],
      "text/plain": [
       "  Company      Product   TypeName  Inches                    ScreenResolution  \\\n",
       "0   Apple  MacBook Pro  Ultrabook   13.30  IPS Panel Retina Display 2560x1600   \n",
       "1   Apple  Macbook Air  Ultrabook   13.30                            1440x900   \n",
       "2      HP       250 G6   Notebook   15.60                   Full HD 1920x1080   \n",
       "3   Apple  MacBook Pro  Ultrabook   15.40  IPS Panel Retina Display 2880x1800   \n",
       "4   Apple  MacBook Pro  Ultrabook   13.30  IPS Panel Retina Display 2560x1600   \n",
       "\n",
       "                          Cpu  Ram               Memory  \\\n",
       "0        Intel Core i5 2.3GHz    8            128GB SSD   \n",
       "1        Intel Core i5 1.8GHz    8  128GB Flash Storage   \n",
       "2  Intel Core i5 7200U 2.5GHz    8            256GB SSD   \n",
       "3        Intel Core i7 2.7GHz   16            512GB SSD   \n",
       "4        Intel Core i5 3.1GHz    8            256GB SSD   \n",
       "\n",
       "                            Gpu  OpSys  Weight  Price_euros  \\\n",
       "0  Intel Iris Plus Graphics 640  macOS  1.37kg     1,339.69   \n",
       "1        Intel HD Graphics 6000  macOS  1.34kg       898.94   \n",
       "2         Intel HD Graphics 620  No OS  1.86kg       575.00   \n",
       "3            AMD Radeon Pro 455  macOS  1.83kg     2,537.45   \n",
       "4  Intel Iris Plus Graphics 650  macOS  1.37kg     1,803.60   \n",
       "\n",
       "         First Storage Second Storage  \n",
       "0            128GB SSD            NaN  \n",
       "1  128GB Flash Storage            NaN  \n",
       "2            256GB SSD            NaN  \n",
       "3            512GB SSD            NaN  \n",
       "4            256GB SSD            NaN  "
      ]
     },
     "execution_count": 28,
     "metadata": {},
     "output_type": "execute_result"
    }
   ],
   "source": [
    "df.head()"
   ]
  },
  {
   "cell_type": "code",
   "execution_count": 29,
   "id": "f44ea11c-d0f8-4280-8fdf-0ec639c63d7d",
   "metadata": {},
   "outputs": [],
   "source": [
    "# reorder the columns and remove the Memory column\n",
    "\n",
    "reorder_columns = ['Company', 'Product', 'TypeName', 'Inches', 'ScreenResolution', 'Cpu', 'Ram', 'First Storage', 'Second Storage', 'Gpu', 'OpSys', 'Weight', 'Price_euros']\n",
    "\n",
    "df = df.loc[:, reorder_columns]"
   ]
  },
  {
   "cell_type": "code",
   "execution_count": 30,
   "id": "3515cee3-b67e-4d62-95ef-d9cb153f7dc0",
   "metadata": {},
   "outputs": [
    {
     "data": {
      "text/html": [
       "<div>\n",
       "<style scoped>\n",
       "    .dataframe tbody tr th:only-of-type {\n",
       "        vertical-align: middle;\n",
       "    }\n",
       "\n",
       "    .dataframe tbody tr th {\n",
       "        vertical-align: top;\n",
       "    }\n",
       "\n",
       "    .dataframe thead th {\n",
       "        text-align: right;\n",
       "    }\n",
       "</style>\n",
       "<table border=\"1\" class=\"dataframe\">\n",
       "  <thead>\n",
       "    <tr style=\"text-align: right;\">\n",
       "      <th></th>\n",
       "      <th>Company</th>\n",
       "      <th>Product</th>\n",
       "      <th>TypeName</th>\n",
       "      <th>Inches</th>\n",
       "      <th>ScreenResolution</th>\n",
       "      <th>Cpu</th>\n",
       "      <th>Ram</th>\n",
       "      <th>First Storage</th>\n",
       "      <th>Second Storage</th>\n",
       "      <th>Gpu</th>\n",
       "      <th>OpSys</th>\n",
       "      <th>Weight</th>\n",
       "      <th>Price_euros</th>\n",
       "    </tr>\n",
       "  </thead>\n",
       "  <tbody>\n",
       "    <tr>\n",
       "      <th>0</th>\n",
       "      <td>Apple</td>\n",
       "      <td>MacBook Pro</td>\n",
       "      <td>Ultrabook</td>\n",
       "      <td>13.30</td>\n",
       "      <td>IPS Panel Retina Display 2560x1600</td>\n",
       "      <td>Intel Core i5 2.3GHz</td>\n",
       "      <td>8</td>\n",
       "      <td>128GB SSD</td>\n",
       "      <td>NaN</td>\n",
       "      <td>Intel Iris Plus Graphics 640</td>\n",
       "      <td>macOS</td>\n",
       "      <td>1.37kg</td>\n",
       "      <td>1,339.69</td>\n",
       "    </tr>\n",
       "    <tr>\n",
       "      <th>1</th>\n",
       "      <td>Apple</td>\n",
       "      <td>Macbook Air</td>\n",
       "      <td>Ultrabook</td>\n",
       "      <td>13.30</td>\n",
       "      <td>1440x900</td>\n",
       "      <td>Intel Core i5 1.8GHz</td>\n",
       "      <td>8</td>\n",
       "      <td>128GB Flash Storage</td>\n",
       "      <td>NaN</td>\n",
       "      <td>Intel HD Graphics 6000</td>\n",
       "      <td>macOS</td>\n",
       "      <td>1.34kg</td>\n",
       "      <td>898.94</td>\n",
       "    </tr>\n",
       "    <tr>\n",
       "      <th>2</th>\n",
       "      <td>HP</td>\n",
       "      <td>250 G6</td>\n",
       "      <td>Notebook</td>\n",
       "      <td>15.60</td>\n",
       "      <td>Full HD 1920x1080</td>\n",
       "      <td>Intel Core i5 7200U 2.5GHz</td>\n",
       "      <td>8</td>\n",
       "      <td>256GB SSD</td>\n",
       "      <td>NaN</td>\n",
       "      <td>Intel HD Graphics 620</td>\n",
       "      <td>No OS</td>\n",
       "      <td>1.86kg</td>\n",
       "      <td>575.00</td>\n",
       "    </tr>\n",
       "    <tr>\n",
       "      <th>3</th>\n",
       "      <td>Apple</td>\n",
       "      <td>MacBook Pro</td>\n",
       "      <td>Ultrabook</td>\n",
       "      <td>15.40</td>\n",
       "      <td>IPS Panel Retina Display 2880x1800</td>\n",
       "      <td>Intel Core i7 2.7GHz</td>\n",
       "      <td>16</td>\n",
       "      <td>512GB SSD</td>\n",
       "      <td>NaN</td>\n",
       "      <td>AMD Radeon Pro 455</td>\n",
       "      <td>macOS</td>\n",
       "      <td>1.83kg</td>\n",
       "      <td>2,537.45</td>\n",
       "    </tr>\n",
       "    <tr>\n",
       "      <th>4</th>\n",
       "      <td>Apple</td>\n",
       "      <td>MacBook Pro</td>\n",
       "      <td>Ultrabook</td>\n",
       "      <td>13.30</td>\n",
       "      <td>IPS Panel Retina Display 2560x1600</td>\n",
       "      <td>Intel Core i5 3.1GHz</td>\n",
       "      <td>8</td>\n",
       "      <td>256GB SSD</td>\n",
       "      <td>NaN</td>\n",
       "      <td>Intel Iris Plus Graphics 650</td>\n",
       "      <td>macOS</td>\n",
       "      <td>1.37kg</td>\n",
       "      <td>1,803.60</td>\n",
       "    </tr>\n",
       "  </tbody>\n",
       "</table>\n",
       "</div>"
      ],
      "text/plain": [
       "  Company      Product   TypeName  Inches                    ScreenResolution  \\\n",
       "0   Apple  MacBook Pro  Ultrabook   13.30  IPS Panel Retina Display 2560x1600   \n",
       "1   Apple  Macbook Air  Ultrabook   13.30                            1440x900   \n",
       "2      HP       250 G6   Notebook   15.60                   Full HD 1920x1080   \n",
       "3   Apple  MacBook Pro  Ultrabook   15.40  IPS Panel Retina Display 2880x1800   \n",
       "4   Apple  MacBook Pro  Ultrabook   13.30  IPS Panel Retina Display 2560x1600   \n",
       "\n",
       "                          Cpu  Ram        First Storage Second Storage  \\\n",
       "0        Intel Core i5 2.3GHz    8            128GB SSD            NaN   \n",
       "1        Intel Core i5 1.8GHz    8  128GB Flash Storage            NaN   \n",
       "2  Intel Core i5 7200U 2.5GHz    8            256GB SSD            NaN   \n",
       "3        Intel Core i7 2.7GHz   16            512GB SSD            NaN   \n",
       "4        Intel Core i5 3.1GHz    8            256GB SSD            NaN   \n",
       "\n",
       "                            Gpu  OpSys  Weight  Price_euros  \n",
       "0  Intel Iris Plus Graphics 640  macOS  1.37kg     1,339.69  \n",
       "1        Intel HD Graphics 6000  macOS  1.34kg       898.94  \n",
       "2         Intel HD Graphics 620  No OS  1.86kg       575.00  \n",
       "3            AMD Radeon Pro 455  macOS  1.83kg     2,537.45  \n",
       "4  Intel Iris Plus Graphics 650  macOS  1.37kg     1,803.60  "
      ]
     },
     "execution_count": 30,
     "metadata": {},
     "output_type": "execute_result"
    }
   ],
   "source": [
    "df.head()"
   ]
  },
  {
   "cell_type": "markdown",
   "id": "a4627da5-d697-441d-b2bf-ea9c71801b78",
   "metadata": {},
   "source": [
    "# "
   ]
  },
  {
   "cell_type": "code",
   "execution_count": 31,
   "id": "bc447c45-d8e6-4a67-88c5-2603d1ee6105",
   "metadata": {},
   "outputs": [
    {
     "data": {
      "text/plain": [
       "array(['128', '256', '512', '500', '1', '32', '64', '2', '1.0', '16',\n",
       "       '180', '240', '8', '508'], dtype=object)"
      ]
     },
     "execution_count": 31,
     "metadata": {},
     "output_type": "execute_result"
    }
   ],
   "source": [
    "df['First Storage'].str.split('GB|TB').str[0].unique()"
   ]
  },
  {
   "cell_type": "code",
   "execution_count": 32,
   "id": "0e984659-437c-4c3e-a4a3-591130fbf716",
   "metadata": {},
   "outputs": [
    {
     "data": {
      "text/plain": [
       "151     1.0TB Hybrid\n",
       "1010    1.0TB Hybrid\n",
       "1075       1.0TB HDD\n",
       "1135    1.0TB Hybrid\n",
       "1158    1.0TB Hybrid\n",
       "1176    1.0TB Hybrid\n",
       "1258    1.0TB Hybrid\n",
       "1266    1.0TB Hybrid\n",
       "Name: First Storage, dtype: object"
      ]
     },
     "execution_count": 32,
     "metadata": {},
     "output_type": "execute_result"
    }
   ],
   "source": [
    "df['First Storage'][df['First Storage'].str.contains('.0', regex=False)]    # or we also could use: .str.contains('\\.0')"
   ]
  },
  {
   "cell_type": "code",
   "execution_count": 33,
   "id": "2b47584a-2135-43b3-9020-2473f4655b97",
   "metadata": {},
   "outputs": [],
   "source": [
    "df['First Storage'] = df['First Storage'].str.replace('.0', '', regex=False)"
   ]
  },
  {
   "cell_type": "code",
   "execution_count": 34,
   "id": "ccbd4acb-fa5c-4e8d-9d91-e9b5be7fbcac",
   "metadata": {},
   "outputs": [
    {
     "data": {
      "text/plain": [
       "1081    1.0TB Hybrid\n",
       "1116    1.0TB Hybrid\n",
       "Name: Second Storage, dtype: object"
      ]
     },
     "execution_count": 34,
     "metadata": {},
     "output_type": "execute_result"
    }
   ],
   "source": [
    "# to check this, we need first to get the rows without NaN values\n",
    "\n",
    "rows_without_nan = df['Second Storage'][df['Second Storage'].notna()]\n",
    "\n",
    "rows_without_nan[rows_without_nan.str.contains('.0', regex=False)]"
   ]
  },
  {
   "cell_type": "code",
   "execution_count": 35,
   "id": "6f1d8b3f-c54a-4537-b60e-a7cc996d7cbe",
   "metadata": {},
   "outputs": [],
   "source": [
    "df['Second Storage'] = df['Second Storage'].str.replace('.0', '', regex=False)"
   ]
  },
  {
   "cell_type": "code",
   "execution_count": 36,
   "id": "1d036ce9-3ffb-4a3c-b5a5-38195a2fcf02",
   "metadata": {},
   "outputs": [
    {
     "data": {
      "text/html": [
       "<div>\n",
       "<style scoped>\n",
       "    .dataframe tbody tr th:only-of-type {\n",
       "        vertical-align: middle;\n",
       "    }\n",
       "\n",
       "    .dataframe tbody tr th {\n",
       "        vertical-align: top;\n",
       "    }\n",
       "\n",
       "    .dataframe thead th {\n",
       "        text-align: right;\n",
       "    }\n",
       "</style>\n",
       "<table border=\"1\" class=\"dataframe\">\n",
       "  <thead>\n",
       "    <tr style=\"text-align: right;\">\n",
       "      <th></th>\n",
       "      <th>Company</th>\n",
       "      <th>Product</th>\n",
       "      <th>TypeName</th>\n",
       "      <th>Inches</th>\n",
       "      <th>ScreenResolution</th>\n",
       "      <th>Cpu</th>\n",
       "      <th>Ram</th>\n",
       "      <th>First Storage</th>\n",
       "      <th>Second Storage</th>\n",
       "      <th>Gpu</th>\n",
       "      <th>OpSys</th>\n",
       "      <th>Weight</th>\n",
       "      <th>Price_euros</th>\n",
       "    </tr>\n",
       "  </thead>\n",
       "  <tbody>\n",
       "    <tr>\n",
       "      <th>0</th>\n",
       "      <td>Apple</td>\n",
       "      <td>MacBook Pro</td>\n",
       "      <td>Ultrabook</td>\n",
       "      <td>13.30</td>\n",
       "      <td>IPS Panel Retina Display 2560x1600</td>\n",
       "      <td>Intel Core i5 2.3GHz</td>\n",
       "      <td>8</td>\n",
       "      <td>128GB SSD</td>\n",
       "      <td>NaN</td>\n",
       "      <td>Intel Iris Plus Graphics 640</td>\n",
       "      <td>macOS</td>\n",
       "      <td>1.37kg</td>\n",
       "      <td>1,339.69</td>\n",
       "    </tr>\n",
       "    <tr>\n",
       "      <th>1</th>\n",
       "      <td>Apple</td>\n",
       "      <td>Macbook Air</td>\n",
       "      <td>Ultrabook</td>\n",
       "      <td>13.30</td>\n",
       "      <td>1440x900</td>\n",
       "      <td>Intel Core i5 1.8GHz</td>\n",
       "      <td>8</td>\n",
       "      <td>128GB Flash Storage</td>\n",
       "      <td>NaN</td>\n",
       "      <td>Intel HD Graphics 6000</td>\n",
       "      <td>macOS</td>\n",
       "      <td>1.34kg</td>\n",
       "      <td>898.94</td>\n",
       "    </tr>\n",
       "    <tr>\n",
       "      <th>2</th>\n",
       "      <td>HP</td>\n",
       "      <td>250 G6</td>\n",
       "      <td>Notebook</td>\n",
       "      <td>15.60</td>\n",
       "      <td>Full HD 1920x1080</td>\n",
       "      <td>Intel Core i5 7200U 2.5GHz</td>\n",
       "      <td>8</td>\n",
       "      <td>256GB SSD</td>\n",
       "      <td>NaN</td>\n",
       "      <td>Intel HD Graphics 620</td>\n",
       "      <td>No OS</td>\n",
       "      <td>1.86kg</td>\n",
       "      <td>575.00</td>\n",
       "    </tr>\n",
       "    <tr>\n",
       "      <th>3</th>\n",
       "      <td>Apple</td>\n",
       "      <td>MacBook Pro</td>\n",
       "      <td>Ultrabook</td>\n",
       "      <td>15.40</td>\n",
       "      <td>IPS Panel Retina Display 2880x1800</td>\n",
       "      <td>Intel Core i7 2.7GHz</td>\n",
       "      <td>16</td>\n",
       "      <td>512GB SSD</td>\n",
       "      <td>NaN</td>\n",
       "      <td>AMD Radeon Pro 455</td>\n",
       "      <td>macOS</td>\n",
       "      <td>1.83kg</td>\n",
       "      <td>2,537.45</td>\n",
       "    </tr>\n",
       "    <tr>\n",
       "      <th>4</th>\n",
       "      <td>Apple</td>\n",
       "      <td>MacBook Pro</td>\n",
       "      <td>Ultrabook</td>\n",
       "      <td>13.30</td>\n",
       "      <td>IPS Panel Retina Display 2560x1600</td>\n",
       "      <td>Intel Core i5 3.1GHz</td>\n",
       "      <td>8</td>\n",
       "      <td>256GB SSD</td>\n",
       "      <td>NaN</td>\n",
       "      <td>Intel Iris Plus Graphics 650</td>\n",
       "      <td>macOS</td>\n",
       "      <td>1.37kg</td>\n",
       "      <td>1,803.60</td>\n",
       "    </tr>\n",
       "  </tbody>\n",
       "</table>\n",
       "</div>"
      ],
      "text/plain": [
       "  Company      Product   TypeName  Inches                    ScreenResolution  \\\n",
       "0   Apple  MacBook Pro  Ultrabook   13.30  IPS Panel Retina Display 2560x1600   \n",
       "1   Apple  Macbook Air  Ultrabook   13.30                            1440x900   \n",
       "2      HP       250 G6   Notebook   15.60                   Full HD 1920x1080   \n",
       "3   Apple  MacBook Pro  Ultrabook   15.40  IPS Panel Retina Display 2880x1800   \n",
       "4   Apple  MacBook Pro  Ultrabook   13.30  IPS Panel Retina Display 2560x1600   \n",
       "\n",
       "                          Cpu  Ram        First Storage Second Storage  \\\n",
       "0        Intel Core i5 2.3GHz    8            128GB SSD            NaN   \n",
       "1        Intel Core i5 1.8GHz    8  128GB Flash Storage            NaN   \n",
       "2  Intel Core i5 7200U 2.5GHz    8            256GB SSD            NaN   \n",
       "3        Intel Core i7 2.7GHz   16            512GB SSD            NaN   \n",
       "4        Intel Core i5 3.1GHz    8            256GB SSD            NaN   \n",
       "\n",
       "                            Gpu  OpSys  Weight  Price_euros  \n",
       "0  Intel Iris Plus Graphics 640  macOS  1.37kg     1,339.69  \n",
       "1        Intel HD Graphics 6000  macOS  1.34kg       898.94  \n",
       "2         Intel HD Graphics 620  No OS  1.86kg       575.00  \n",
       "3            AMD Radeon Pro 455  macOS  1.83kg     2,537.45  \n",
       "4  Intel Iris Plus Graphics 650  macOS  1.37kg     1,803.60  "
      ]
     },
     "execution_count": 36,
     "metadata": {},
     "output_type": "execute_result"
    }
   ],
   "source": [
    "df.head()"
   ]
  },
  {
   "cell_type": "markdown",
   "id": "2c100a14-0a38-4e64-9ddb-a7d908546c8a",
   "metadata": {},
   "source": [
    "# "
   ]
  },
  {
   "cell_type": "markdown",
   "id": "beb16f59-13c0-45a3-88b0-da958556df25",
   "metadata": {},
   "source": [
    "#### ➥ cleaning the 'Weight' column"
   ]
  },
  {
   "cell_type": "code",
   "execution_count": 37,
   "id": "d7100f3f-5084-48ad-ba4a-71abfe2ca78f",
   "metadata": {},
   "outputs": [
    {
     "data": {
      "text/plain": [
       "0       [1.37, kg, ]\n",
       "1       [1.34, kg, ]\n",
       "2       [1.86, kg, ]\n",
       "3       [1.83, kg, ]\n",
       "4       [1.37, kg, ]\n",
       "            ...     \n",
       "1270     [1.8, kg, ]\n",
       "1271     [1.3, kg, ]\n",
       "1272     [1.5, kg, ]\n",
       "1273    [2.19, kg, ]\n",
       "1274     [2.2, kg, ]\n",
       "Name: Weight, Length: 1275, dtype: object"
      ]
     },
     "execution_count": 37,
     "metadata": {},
     "output_type": "execute_result"
    }
   ],
   "source": [
    "df['Weight'].apply(lambda x: re.split('([a-zA-Z]+)', x))"
   ]
  },
  {
   "cell_type": "code",
   "execution_count": 38,
   "id": "7ca0fb47-e4eb-4374-a7a1-713292dba761",
   "metadata": {},
   "outputs": [
    {
     "data": {
      "text/plain": [
       "array(['kg'], dtype=object)"
      ]
     },
     "execution_count": 38,
     "metadata": {},
     "output_type": "execute_result"
    }
   ],
   "source": [
    "df['Weight'].apply(lambda x: re.split('([a-zA-Z]+)', x)).str[1].unique()"
   ]
  },
  {
   "cell_type": "code",
   "execution_count": 39,
   "id": "e1117813-7686-4bc5-a082-68ccc6391c07",
   "metadata": {},
   "outputs": [],
   "source": [
    "df['Weight'] = df['Weight'].apply(lambda x: re.split('([a-zA-Z]+)', x)).str[0].astype(float)"
   ]
  },
  {
   "cell_type": "code",
   "execution_count": 40,
   "id": "941fd825-fa2d-4734-80c0-239676a138d3",
   "metadata": {},
   "outputs": [],
   "source": [
    "rename_columns={\n",
    "    'Ram': 'Ram_GB',\n",
    "    'Weight': 'Weight_kg',\n",
    "}\n",
    "\n",
    "df.rename(columns=rename_columns, inplace=True)"
   ]
  },
  {
   "cell_type": "code",
   "execution_count": 41,
   "id": "c580cbe1-31fb-45d3-8de3-2b60cb63cbdf",
   "metadata": {},
   "outputs": [
    {
     "data": {
      "text/html": [
       "<div>\n",
       "<style scoped>\n",
       "    .dataframe tbody tr th:only-of-type {\n",
       "        vertical-align: middle;\n",
       "    }\n",
       "\n",
       "    .dataframe tbody tr th {\n",
       "        vertical-align: top;\n",
       "    }\n",
       "\n",
       "    .dataframe thead th {\n",
       "        text-align: right;\n",
       "    }\n",
       "</style>\n",
       "<table border=\"1\" class=\"dataframe\">\n",
       "  <thead>\n",
       "    <tr style=\"text-align: right;\">\n",
       "      <th></th>\n",
       "      <th>Company</th>\n",
       "      <th>Product</th>\n",
       "      <th>TypeName</th>\n",
       "      <th>Inches</th>\n",
       "      <th>ScreenResolution</th>\n",
       "      <th>Cpu</th>\n",
       "      <th>Ram_GB</th>\n",
       "      <th>First Storage</th>\n",
       "      <th>Second Storage</th>\n",
       "      <th>Gpu</th>\n",
       "      <th>OpSys</th>\n",
       "      <th>Weight_kg</th>\n",
       "      <th>Price_euros</th>\n",
       "    </tr>\n",
       "  </thead>\n",
       "  <tbody>\n",
       "    <tr>\n",
       "      <th>0</th>\n",
       "      <td>Apple</td>\n",
       "      <td>MacBook Pro</td>\n",
       "      <td>Ultrabook</td>\n",
       "      <td>13.30</td>\n",
       "      <td>IPS Panel Retina Display 2560x1600</td>\n",
       "      <td>Intel Core i5 2.3GHz</td>\n",
       "      <td>8</td>\n",
       "      <td>128GB SSD</td>\n",
       "      <td>NaN</td>\n",
       "      <td>Intel Iris Plus Graphics 640</td>\n",
       "      <td>macOS</td>\n",
       "      <td>1.37</td>\n",
       "      <td>1,339.69</td>\n",
       "    </tr>\n",
       "    <tr>\n",
       "      <th>1</th>\n",
       "      <td>Apple</td>\n",
       "      <td>Macbook Air</td>\n",
       "      <td>Ultrabook</td>\n",
       "      <td>13.30</td>\n",
       "      <td>1440x900</td>\n",
       "      <td>Intel Core i5 1.8GHz</td>\n",
       "      <td>8</td>\n",
       "      <td>128GB Flash Storage</td>\n",
       "      <td>NaN</td>\n",
       "      <td>Intel HD Graphics 6000</td>\n",
       "      <td>macOS</td>\n",
       "      <td>1.34</td>\n",
       "      <td>898.94</td>\n",
       "    </tr>\n",
       "    <tr>\n",
       "      <th>2</th>\n",
       "      <td>HP</td>\n",
       "      <td>250 G6</td>\n",
       "      <td>Notebook</td>\n",
       "      <td>15.60</td>\n",
       "      <td>Full HD 1920x1080</td>\n",
       "      <td>Intel Core i5 7200U 2.5GHz</td>\n",
       "      <td>8</td>\n",
       "      <td>256GB SSD</td>\n",
       "      <td>NaN</td>\n",
       "      <td>Intel HD Graphics 620</td>\n",
       "      <td>No OS</td>\n",
       "      <td>1.86</td>\n",
       "      <td>575.00</td>\n",
       "    </tr>\n",
       "    <tr>\n",
       "      <th>3</th>\n",
       "      <td>Apple</td>\n",
       "      <td>MacBook Pro</td>\n",
       "      <td>Ultrabook</td>\n",
       "      <td>15.40</td>\n",
       "      <td>IPS Panel Retina Display 2880x1800</td>\n",
       "      <td>Intel Core i7 2.7GHz</td>\n",
       "      <td>16</td>\n",
       "      <td>512GB SSD</td>\n",
       "      <td>NaN</td>\n",
       "      <td>AMD Radeon Pro 455</td>\n",
       "      <td>macOS</td>\n",
       "      <td>1.83</td>\n",
       "      <td>2,537.45</td>\n",
       "    </tr>\n",
       "    <tr>\n",
       "      <th>4</th>\n",
       "      <td>Apple</td>\n",
       "      <td>MacBook Pro</td>\n",
       "      <td>Ultrabook</td>\n",
       "      <td>13.30</td>\n",
       "      <td>IPS Panel Retina Display 2560x1600</td>\n",
       "      <td>Intel Core i5 3.1GHz</td>\n",
       "      <td>8</td>\n",
       "      <td>256GB SSD</td>\n",
       "      <td>NaN</td>\n",
       "      <td>Intel Iris Plus Graphics 650</td>\n",
       "      <td>macOS</td>\n",
       "      <td>1.37</td>\n",
       "      <td>1,803.60</td>\n",
       "    </tr>\n",
       "  </tbody>\n",
       "</table>\n",
       "</div>"
      ],
      "text/plain": [
       "  Company      Product   TypeName  Inches                    ScreenResolution  \\\n",
       "0   Apple  MacBook Pro  Ultrabook   13.30  IPS Panel Retina Display 2560x1600   \n",
       "1   Apple  Macbook Air  Ultrabook   13.30                            1440x900   \n",
       "2      HP       250 G6   Notebook   15.60                   Full HD 1920x1080   \n",
       "3   Apple  MacBook Pro  Ultrabook   15.40  IPS Panel Retina Display 2880x1800   \n",
       "4   Apple  MacBook Pro  Ultrabook   13.30  IPS Panel Retina Display 2560x1600   \n",
       "\n",
       "                          Cpu  Ram_GB        First Storage Second Storage  \\\n",
       "0        Intel Core i5 2.3GHz       8            128GB SSD            NaN   \n",
       "1        Intel Core i5 1.8GHz       8  128GB Flash Storage            NaN   \n",
       "2  Intel Core i5 7200U 2.5GHz       8            256GB SSD            NaN   \n",
       "3        Intel Core i7 2.7GHz      16            512GB SSD            NaN   \n",
       "4        Intel Core i5 3.1GHz       8            256GB SSD            NaN   \n",
       "\n",
       "                            Gpu  OpSys  Weight_kg  Price_euros  \n",
       "0  Intel Iris Plus Graphics 640  macOS       1.37     1,339.69  \n",
       "1        Intel HD Graphics 6000  macOS       1.34       898.94  \n",
       "2         Intel HD Graphics 620  No OS       1.86       575.00  \n",
       "3            AMD Radeon Pro 455  macOS       1.83     2,537.45  \n",
       "4  Intel Iris Plus Graphics 650  macOS       1.37     1,803.60  "
      ]
     },
     "execution_count": 41,
     "metadata": {},
     "output_type": "execute_result"
    }
   ],
   "source": [
    "df.head()"
   ]
  },
  {
   "cell_type": "code",
   "execution_count": 42,
   "id": "9f22e447-ac55-436a-9d22-56b4c0131210",
   "metadata": {},
   "outputs": [
    {
     "data": {
      "text/plain": [
       "(1275, 13)"
      ]
     },
     "execution_count": 42,
     "metadata": {},
     "output_type": "execute_result"
    }
   ],
   "source": [
    "df.shape"
   ]
  },
  {
   "cell_type": "code",
   "execution_count": 43,
   "id": "68fb32d0-e2c7-4dee-93e3-9e1e1e76f0bf",
   "metadata": {},
   "outputs": [
    {
     "data": {
      "text/plain": [
       "Company              object\n",
       "Product              object\n",
       "TypeName             object\n",
       "Inches              float64\n",
       "ScreenResolution     object\n",
       "Cpu                  object\n",
       "Ram_GB                int32\n",
       "First Storage        object\n",
       "Second Storage       object\n",
       "Gpu                  object\n",
       "OpSys                object\n",
       "Weight_kg           float64\n",
       "Price_euros         float64\n",
       "dtype: object"
      ]
     },
     "execution_count": 43,
     "metadata": {},
     "output_type": "execute_result"
    }
   ],
   "source": [
    "df.dtypes"
   ]
  },
  {
   "cell_type": "code",
   "execution_count": 44,
   "id": "bb867f4e-43c4-44a9-8d4b-458049e2d83f",
   "metadata": {},
   "outputs": [
    {
     "data": {
      "text/html": [
       "<div>\n",
       "<style scoped>\n",
       "    .dataframe tbody tr th:only-of-type {\n",
       "        vertical-align: middle;\n",
       "    }\n",
       "\n",
       "    .dataframe tbody tr th {\n",
       "        vertical-align: top;\n",
       "    }\n",
       "\n",
       "    .dataframe thead th {\n",
       "        text-align: right;\n",
       "    }\n",
       "</style>\n",
       "<table border=\"1\" class=\"dataframe\">\n",
       "  <thead>\n",
       "    <tr style=\"text-align: right;\">\n",
       "      <th></th>\n",
       "      <th>Company</th>\n",
       "      <th>Product</th>\n",
       "      <th>TypeName</th>\n",
       "      <th>ScreenResolution</th>\n",
       "      <th>Cpu</th>\n",
       "      <th>First Storage</th>\n",
       "      <th>Second Storage</th>\n",
       "      <th>Gpu</th>\n",
       "      <th>OpSys</th>\n",
       "    </tr>\n",
       "  </thead>\n",
       "  <tbody>\n",
       "    <tr>\n",
       "      <th>count</th>\n",
       "      <td>1275</td>\n",
       "      <td>1275</td>\n",
       "      <td>1275</td>\n",
       "      <td>1275</td>\n",
       "      <td>1275</td>\n",
       "      <td>1275</td>\n",
       "      <td>208</td>\n",
       "      <td>1275</td>\n",
       "      <td>1275</td>\n",
       "    </tr>\n",
       "    <tr>\n",
       "      <th>unique</th>\n",
       "      <td>19</td>\n",
       "      <td>618</td>\n",
       "      <td>6</td>\n",
       "      <td>40</td>\n",
       "      <td>118</td>\n",
       "      <td>23</td>\n",
       "      <td>6</td>\n",
       "      <td>110</td>\n",
       "      <td>9</td>\n",
       "    </tr>\n",
       "    <tr>\n",
       "      <th>top</th>\n",
       "      <td>Dell</td>\n",
       "      <td>XPS 13</td>\n",
       "      <td>Notebook</td>\n",
       "      <td>Full HD 1920x1080</td>\n",
       "      <td>Intel Core i5 7200U 2.5GHz</td>\n",
       "      <td>256GB SSD</td>\n",
       "      <td>1TB HDD</td>\n",
       "      <td>Intel HD Graphics 620</td>\n",
       "      <td>Windows 10</td>\n",
       "    </tr>\n",
       "    <tr>\n",
       "      <th>freq</th>\n",
       "      <td>291</td>\n",
       "      <td>30</td>\n",
       "      <td>707</td>\n",
       "      <td>505</td>\n",
       "      <td>190</td>\n",
       "      <td>500</td>\n",
       "      <td>185</td>\n",
       "      <td>279</td>\n",
       "      <td>1048</td>\n",
       "    </tr>\n",
       "  </tbody>\n",
       "</table>\n",
       "</div>"
      ],
      "text/plain": [
       "       Company Product  TypeName   ScreenResolution  \\\n",
       "count     1275    1275      1275               1275   \n",
       "unique      19     618         6                 40   \n",
       "top       Dell  XPS 13  Notebook  Full HD 1920x1080   \n",
       "freq       291      30       707                505   \n",
       "\n",
       "                               Cpu First Storage Second Storage  \\\n",
       "count                         1275          1275            208   \n",
       "unique                         118            23              6   \n",
       "top     Intel Core i5 7200U 2.5GHz     256GB SSD        1TB HDD   \n",
       "freq                           190           500            185   \n",
       "\n",
       "                          Gpu       OpSys  \n",
       "count                    1275        1275  \n",
       "unique                    110           9  \n",
       "top     Intel HD Graphics 620  Windows 10  \n",
       "freq                      279        1048  "
      ]
     },
     "execution_count": 44,
     "metadata": {},
     "output_type": "execute_result"
    }
   ],
   "source": [
    "df.select_dtypes(include='object').describe()"
   ]
  },
  {
   "cell_type": "markdown",
   "id": "26ac7fb9-e854-4660-9a49-eedddfbb5ccf",
   "metadata": {},
   "source": [
    "# "
   ]
  },
  {
   "cell_type": "markdown",
   "id": "6caf80b0-107d-448d-84e8-888cc7b0a046",
   "metadata": {},
   "source": [
    "#### ➥ changing the type of columns"
   ]
  },
  {
   "cell_type": "code",
   "execution_count": 45,
   "id": "964506e3-acd8-4266-9a60-3a9d22ec61eb",
   "metadata": {},
   "outputs": [
    {
     "data": {
      "text/html": [
       "<div>\n",
       "<style scoped>\n",
       "    .dataframe tbody tr th:only-of-type {\n",
       "        vertical-align: middle;\n",
       "    }\n",
       "\n",
       "    .dataframe tbody tr th {\n",
       "        vertical-align: top;\n",
       "    }\n",
       "\n",
       "    .dataframe thead th {\n",
       "        text-align: right;\n",
       "    }\n",
       "</style>\n",
       "<table border=\"1\" class=\"dataframe\">\n",
       "  <thead>\n",
       "    <tr style=\"text-align: right;\">\n",
       "      <th></th>\n",
       "      <th>Company</th>\n",
       "      <th>Product</th>\n",
       "      <th>TypeName</th>\n",
       "      <th>Inches</th>\n",
       "      <th>ScreenResolution</th>\n",
       "      <th>Cpu</th>\n",
       "      <th>Ram_GB</th>\n",
       "      <th>First Storage</th>\n",
       "      <th>Second Storage</th>\n",
       "      <th>Gpu</th>\n",
       "      <th>OpSys</th>\n",
       "      <th>Weight_kg</th>\n",
       "      <th>Price_euros</th>\n",
       "    </tr>\n",
       "  </thead>\n",
       "  <tbody>\n",
       "    <tr>\n",
       "      <th>0</th>\n",
       "      <td>Apple</td>\n",
       "      <td>MacBook Pro</td>\n",
       "      <td>Ultrabook</td>\n",
       "      <td>13.30</td>\n",
       "      <td>IPS Panel Retina Display 2560x1600</td>\n",
       "      <td>Intel Core i5 2.3GHz</td>\n",
       "      <td>8</td>\n",
       "      <td>128GB SSD</td>\n",
       "      <td>NaN</td>\n",
       "      <td>Intel Iris Plus Graphics 640</td>\n",
       "      <td>macOS</td>\n",
       "      <td>1.37</td>\n",
       "      <td>1,339.69</td>\n",
       "    </tr>\n",
       "    <tr>\n",
       "      <th>1</th>\n",
       "      <td>Apple</td>\n",
       "      <td>Macbook Air</td>\n",
       "      <td>Ultrabook</td>\n",
       "      <td>13.30</td>\n",
       "      <td>1440x900</td>\n",
       "      <td>Intel Core i5 1.8GHz</td>\n",
       "      <td>8</td>\n",
       "      <td>128GB Flash Storage</td>\n",
       "      <td>NaN</td>\n",
       "      <td>Intel HD Graphics 6000</td>\n",
       "      <td>macOS</td>\n",
       "      <td>1.34</td>\n",
       "      <td>898.94</td>\n",
       "    </tr>\n",
       "    <tr>\n",
       "      <th>2</th>\n",
       "      <td>HP</td>\n",
       "      <td>250 G6</td>\n",
       "      <td>Notebook</td>\n",
       "      <td>15.60</td>\n",
       "      <td>Full HD 1920x1080</td>\n",
       "      <td>Intel Core i5 7200U 2.5GHz</td>\n",
       "      <td>8</td>\n",
       "      <td>256GB SSD</td>\n",
       "      <td>NaN</td>\n",
       "      <td>Intel HD Graphics 620</td>\n",
       "      <td>No OS</td>\n",
       "      <td>1.86</td>\n",
       "      <td>575.00</td>\n",
       "    </tr>\n",
       "    <tr>\n",
       "      <th>3</th>\n",
       "      <td>Apple</td>\n",
       "      <td>MacBook Pro</td>\n",
       "      <td>Ultrabook</td>\n",
       "      <td>15.40</td>\n",
       "      <td>IPS Panel Retina Display 2880x1800</td>\n",
       "      <td>Intel Core i7 2.7GHz</td>\n",
       "      <td>16</td>\n",
       "      <td>512GB SSD</td>\n",
       "      <td>NaN</td>\n",
       "      <td>AMD Radeon Pro 455</td>\n",
       "      <td>macOS</td>\n",
       "      <td>1.83</td>\n",
       "      <td>2,537.45</td>\n",
       "    </tr>\n",
       "    <tr>\n",
       "      <th>4</th>\n",
       "      <td>Apple</td>\n",
       "      <td>MacBook Pro</td>\n",
       "      <td>Ultrabook</td>\n",
       "      <td>13.30</td>\n",
       "      <td>IPS Panel Retina Display 2560x1600</td>\n",
       "      <td>Intel Core i5 3.1GHz</td>\n",
       "      <td>8</td>\n",
       "      <td>256GB SSD</td>\n",
       "      <td>NaN</td>\n",
       "      <td>Intel Iris Plus Graphics 650</td>\n",
       "      <td>macOS</td>\n",
       "      <td>1.37</td>\n",
       "      <td>1,803.60</td>\n",
       "    </tr>\n",
       "  </tbody>\n",
       "</table>\n",
       "</div>"
      ],
      "text/plain": [
       "  Company      Product   TypeName  Inches                    ScreenResolution  \\\n",
       "0   Apple  MacBook Pro  Ultrabook   13.30  IPS Panel Retina Display 2560x1600   \n",
       "1   Apple  Macbook Air  Ultrabook   13.30                            1440x900   \n",
       "2      HP       250 G6   Notebook   15.60                   Full HD 1920x1080   \n",
       "3   Apple  MacBook Pro  Ultrabook   15.40  IPS Panel Retina Display 2880x1800   \n",
       "4   Apple  MacBook Pro  Ultrabook   13.30  IPS Panel Retina Display 2560x1600   \n",
       "\n",
       "                          Cpu  Ram_GB        First Storage Second Storage  \\\n",
       "0        Intel Core i5 2.3GHz       8            128GB SSD            NaN   \n",
       "1        Intel Core i5 1.8GHz       8  128GB Flash Storage            NaN   \n",
       "2  Intel Core i5 7200U 2.5GHz       8            256GB SSD            NaN   \n",
       "3        Intel Core i7 2.7GHz      16            512GB SSD            NaN   \n",
       "4        Intel Core i5 3.1GHz       8            256GB SSD            NaN   \n",
       "\n",
       "                            Gpu  OpSys  Weight_kg  Price_euros  \n",
       "0  Intel Iris Plus Graphics 640  macOS       1.37     1,339.69  \n",
       "1        Intel HD Graphics 6000  macOS       1.34       898.94  \n",
       "2         Intel HD Graphics 620  No OS       1.86       575.00  \n",
       "3            AMD Radeon Pro 455  macOS       1.83     2,537.45  \n",
       "4  Intel Iris Plus Graphics 650  macOS       1.37     1,803.60  "
      ]
     },
     "execution_count": 45,
     "metadata": {},
     "output_type": "execute_result"
    }
   ],
   "source": [
    "df.head()"
   ]
  },
  {
   "cell_type": "code",
   "execution_count": 46,
   "id": "fc2404a3-dae3-4407-8e1a-c6841dd0f344",
   "metadata": {},
   "outputs": [
    {
     "name": "stdout",
     "output_type": "stream",
     "text": [
      "<class 'pandas.core.frame.DataFrame'>\n",
      "Int64Index: 1275 entries, 0 to 1274\n",
      "Data columns (total 13 columns):\n",
      " #   Column            Non-Null Count  Dtype  \n",
      "---  ------            --------------  -----  \n",
      " 0   Company           1275 non-null   object \n",
      " 1   Product           1275 non-null   object \n",
      " 2   TypeName          1275 non-null   object \n",
      " 3   Inches            1275 non-null   float64\n",
      " 4   ScreenResolution  1275 non-null   object \n",
      " 5   Cpu               1275 non-null   object \n",
      " 6   Ram_GB            1275 non-null   int32  \n",
      " 7   First Storage     1275 non-null   object \n",
      " 8   Second Storage    208 non-null    object \n",
      " 9   Gpu               1275 non-null   object \n",
      " 10  OpSys             1275 non-null   object \n",
      " 11  Weight_kg         1275 non-null   float64\n",
      " 12  Price_euros       1275 non-null   float64\n",
      "dtypes: float64(3), int32(1), object(9)\n",
      "memory usage: 833.4 KB\n"
     ]
    }
   ],
   "source": [
    "df.info(memory_usage='deep')"
   ]
  },
  {
   "cell_type": "code",
   "execution_count": 47,
   "id": "e0a5df49-480e-4d6f-92fe-9e277bef832a",
   "metadata": {},
   "outputs": [],
   "source": [
    "change_types = {\n",
    "    'Company':'category',\n",
    "    'TypeName':'category',\n",
    "    'ScreenResolution':'category',\n",
    "    'Cpu':'category',\n",
    "    'First Storage':'category',\n",
    "    'Second Storage':'category',\n",
    "    'Gpu':'category',\n",
    "    'OpSys':'category'\n",
    "}\n",
    "\n",
    "df = df.astype(change_types)"
   ]
  },
  {
   "cell_type": "code",
   "execution_count": 48,
   "id": "050f6001-b150-4cff-b083-f31c71ddf7ab",
   "metadata": {},
   "outputs": [
    {
     "data": {
      "text/plain": [
       "Company             category\n",
       "Product               object\n",
       "TypeName            category\n",
       "Inches               float64\n",
       "ScreenResolution    category\n",
       "Cpu                 category\n",
       "Ram_GB                 int32\n",
       "First Storage       category\n",
       "Second Storage      category\n",
       "Gpu                 category\n",
       "OpSys               category\n",
       "Weight_kg            float64\n",
       "Price_euros          float64\n",
       "dtype: object"
      ]
     },
     "execution_count": 48,
     "metadata": {},
     "output_type": "execute_result"
    }
   ],
   "source": [
    "df.dtypes"
   ]
  },
  {
   "cell_type": "code",
   "execution_count": 49,
   "id": "2ec55b45-9dbb-42d6-a85a-9a757969fdff",
   "metadata": {},
   "outputs": [
    {
     "name": "stdout",
     "output_type": "stream",
     "text": [
      "<class 'pandas.core.frame.DataFrame'>\n",
      "Int64Index: 1275 entries, 0 to 1274\n",
      "Data columns (total 13 columns):\n",
      " #   Column            Non-Null Count  Dtype   \n",
      "---  ------            --------------  -----   \n",
      " 0   Company           1275 non-null   category\n",
      " 1   Product           1275 non-null   object  \n",
      " 2   TypeName          1275 non-null   category\n",
      " 3   Inches            1275 non-null   float64 \n",
      " 4   ScreenResolution  1275 non-null   category\n",
      " 5   Cpu               1275 non-null   category\n",
      " 6   Ram_GB            1275 non-null   int32   \n",
      " 7   First Storage     1275 non-null   category\n",
      " 8   Second Storage    208 non-null    category\n",
      " 9   Gpu               1275 non-null   category\n",
      " 10  OpSys             1275 non-null   category\n",
      " 11  Weight_kg         1275 non-null   float64 \n",
      " 12  Price_euros       1275 non-null   float64 \n",
      "dtypes: category(8), float64(3), int32(1), object(1)\n",
      "memory usage: 213.5 KB\n"
     ]
    }
   ],
   "source": [
    "df.info(memory_usage='deep')"
   ]
  },
  {
   "cell_type": "markdown",
   "id": "77e4732d-44e9-438e-bd4d-285d82adaa4a",
   "metadata": {},
   "source": [
    "# "
   ]
  },
  {
   "cell_type": "markdown",
   "id": "fa25907f-0506-43fb-8f62-50cad678d2ab",
   "metadata": {},
   "source": [
    "# "
   ]
  },
  {
   "cell_type": "markdown",
   "id": "8f1d63f1-15ae-4085-85b0-61341f4b7d95",
   "metadata": {},
   "source": [
    "## Data Visualization"
   ]
  },
  {
   "cell_type": "markdown",
   "id": "564fcd3b-a654-40ad-a55e-ac4d9f00c535",
   "metadata": {},
   "source": [
    "#### - What company has the most variety of laptops?\n",
    "#### - What is the average price of a laptop by the company?\n",
    "#### - What is the price of the most expensive laptop of each company?\n",
    "#### - What are the best top 5 Laptops reported at price?"
   ]
  },
  {
   "cell_type": "markdown",
   "id": "133b1e43-8d6d-4dc1-bccf-f48da4bb9285",
   "metadata": {},
   "source": [
    "# "
   ]
  },
  {
   "cell_type": "markdown",
   "id": "0ad8e2a4-341b-470c-a425-23990ed3a913",
   "metadata": {},
   "source": [
    "### ➥ What company has the most variety of laptops?"
   ]
  },
  {
   "cell_type": "code",
   "execution_count": 50,
   "id": "c1e094be-bb69-480e-b08d-f570ccf9dc03",
   "metadata": {},
   "outputs": [],
   "source": [
    "count_laptops = df['Company'].value_counts(sort=True, ascending=True)"
   ]
  },
  {
   "cell_type": "code",
   "execution_count": 51,
   "id": "59b2627e-7da7-41e1-b182-e3b4dd0f8341",
   "metadata": {},
   "outputs": [
    {
     "data": {
      "image/png": "[encoded data removed]",
      "text/plain": [
       "<Figure size 990x550 with 1 Axes>"
      ]
     },
     "metadata": {
      "needs_background": "light"
     },
     "output_type": "display_data"
    }
   ],
   "source": [
    "fig, ax = plt.subplots(figsize=(9,5), dpi=110)\n",
    "\n",
    "plt.barh(count_laptops.index, count_laptops)\n",
    "\n",
    "plt.title('\\nNumber of Laptops by the Company\\n', color='#180C48', fontsize=12, fontweight='bold')\n",
    "plt.xticks(ticks= np.arange(0, 351, 50))\n",
    "\n",
    "for idx, val in enumerate(count_laptops):\n",
    "    ax.text(val+2, idx, str(val), va='center', fontsize=9)\n",
    "\n",
    "\n",
    "\n",
    "ax.set_axisbelow(True)\n",
    "ax.grid(color='#D1D1D1', linestyle='dotted')\n",
    "plt.show()\n"
   ]
  },
  {
   "cell_type": "code",
   "execution_count": 52,
   "id": "92c69a13-62e2-4892-b3de-bc9ab999d228",
   "metadata": {},
   "outputs": [],
   "source": [
    "num_laptops = count_laptops.sort_values(ascending=False)\n",
    "num_laptops = num_laptops.rename('Number of Laptops')"
   ]
  },
  {
   "cell_type": "code",
   "execution_count": 53,
   "id": "01da4d47-99db-49e9-9801-f325842b9d99",
   "metadata": {},
   "outputs": [],
   "source": [
    "percent_laptops = count_laptops.sort_values(ascending=False) / count_laptops.sum() * 100\n",
    "percent_laptops = percent_laptops.apply(lambda x: str(round(x, 2)) + '%')\n",
    "percent_laptops = percent_laptops.rename('Percentage of Laptops')"
   ]
  },
  {
   "cell_type": "code",
   "execution_count": 54,
   "id": "b228cf3c-675b-48ee-9681-bf9b7195819a",
   "metadata": {},
   "outputs": [],
   "source": [
    "df_num_laptops = pd.concat([num_laptops, percent_laptops], axis=1)"
   ]
  },
  {
   "cell_type": "code",
   "execution_count": 55,
   "id": "a42d4283-6d7d-459e-b4df-c58d4448f965",
   "metadata": {},
   "outputs": [
    {
     "name": "stdout",
     "output_type": "stream",
     "text": [
      "\n",
      " -> The best 5 companies with a lot of laptop variety are:\n",
      "\n"
     ]
    },
    {
     "data": {
      "text/html": [
       "<div>\n",
       "<style scoped>\n",
       "    .dataframe tbody tr th:only-of-type {\n",
       "        vertical-align: middle;\n",
       "    }\n",
       "\n",
       "    .dataframe tbody tr th {\n",
       "        vertical-align: top;\n",
       "    }\n",
       "\n",
       "    .dataframe thead th {\n",
       "        text-align: right;\n",
       "    }\n",
       "</style>\n",
       "<table border=\"1\" class=\"dataframe\">\n",
       "  <thead>\n",
       "    <tr style=\"text-align: right;\">\n",
       "      <th></th>\n",
       "      <th>Number of Laptops</th>\n",
       "      <th>Percentage of Laptops</th>\n",
       "    </tr>\n",
       "  </thead>\n",
       "  <tbody>\n",
       "    <tr>\n",
       "      <th>Dell</th>\n",
       "      <td>291</td>\n",
       "      <td>22.82%</td>\n",
       "    </tr>\n",
       "    <tr>\n",
       "      <th>Lenovo</th>\n",
       "      <td>289</td>\n",
       "      <td>22.67%</td>\n",
       "    </tr>\n",
       "    <tr>\n",
       "      <th>HP</th>\n",
       "      <td>268</td>\n",
       "      <td>21.02%</td>\n",
       "    </tr>\n",
       "    <tr>\n",
       "      <th>Asus</th>\n",
       "      <td>152</td>\n",
       "      <td>11.92%</td>\n",
       "    </tr>\n",
       "    <tr>\n",
       "      <th>Acer</th>\n",
       "      <td>101</td>\n",
       "      <td>7.92%</td>\n",
       "    </tr>\n",
       "  </tbody>\n",
       "</table>\n",
       "</div>"
      ],
      "text/plain": [
       "        Number of Laptops Percentage of Laptops\n",
       "Dell                  291                22.82%\n",
       "Lenovo                289                22.67%\n",
       "HP                    268                21.02%\n",
       "Asus                  152                11.92%\n",
       "Acer                  101                 7.92%"
      ]
     },
     "execution_count": 55,
     "metadata": {},
     "output_type": "execute_result"
    }
   ],
   "source": [
    "print('\\n -> The best 5 companies with a lot of laptop variety are:\\n')\n",
    "df_num_laptops[:5]"
   ]
  },
  {
   "cell_type": "markdown",
   "id": "a820fa32-f468-4cfd-bcdf-09ce4c837833",
   "metadata": {},
   "source": [
    "# "
   ]
  },
  {
   "cell_type": "markdown",
   "id": "a89edca9-4175-4a2b-8542-3639b91696d2",
   "metadata": {},
   "source": [
    "### ➥ What's the average price of a laptop by the company?"
   ]
  },
  {
   "cell_type": "code",
   "execution_count": 56,
   "id": "59eff0c3-44ab-4669-b4b8-32f592ebfe9c",
   "metadata": {},
   "outputs": [],
   "source": [
    "average_price = df.loc[:, ['Company','Price_euros']].groupby('Company').mean()"
   ]
  },
  {
   "cell_type": "code",
   "execution_count": 57,
   "id": "772cd8a4-f399-4463-b3fc-caa59f904832",
   "metadata": {},
   "outputs": [],
   "source": [
    "average_price = average_price.sort_values('Price_euros')"
   ]
  },
  {
   "cell_type": "code",
   "execution_count": 58,
   "id": "a244284e-4fc9-4167-a03c-ca9c570e559c",
   "metadata": {},
   "outputs": [
    {
     "data": {
      "text/html": [
       "<div>\n",
       "<style scoped>\n",
       "    .dataframe tbody tr th:only-of-type {\n",
       "        vertical-align: middle;\n",
       "    }\n",
       "\n",
       "    .dataframe tbody tr th {\n",
       "        vertical-align: top;\n",
       "    }\n",
       "\n",
       "    .dataframe thead th {\n",
       "        text-align: right;\n",
       "    }\n",
       "</style>\n",
       "<table border=\"1\" class=\"dataframe\">\n",
       "  <thead>\n",
       "    <tr style=\"text-align: right;\">\n",
       "      <th></th>\n",
       "      <th>Price_euros</th>\n",
       "    </tr>\n",
       "    <tr>\n",
       "      <th>Company</th>\n",
       "      <th></th>\n",
       "    </tr>\n",
       "  </thead>\n",
       "  <tbody>\n",
       "    <tr>\n",
       "      <th>Vero</th>\n",
       "      <td>217.43</td>\n",
       "    </tr>\n",
       "    <tr>\n",
       "      <th>Mediacom</th>\n",
       "      <td>295.00</td>\n",
       "    </tr>\n",
       "    <tr>\n",
       "      <th>Chuwi</th>\n",
       "      <td>314.30</td>\n",
       "    </tr>\n",
       "    <tr>\n",
       "      <th>Acer</th>\n",
       "      <td>633.46</td>\n",
       "    </tr>\n",
       "    <tr>\n",
       "      <th>Fujitsu</th>\n",
       "      <td>729.00</td>\n",
       "    </tr>\n",
       "    <tr>\n",
       "      <th>HP</th>\n",
       "      <td>1,080.31</td>\n",
       "    </tr>\n",
       "    <tr>\n",
       "      <th>Lenovo</th>\n",
       "      <td>1,093.86</td>\n",
       "    </tr>\n",
       "    <tr>\n",
       "      <th>Asus</th>\n",
       "      <td>1,123.83</td>\n",
       "    </tr>\n",
       "    <tr>\n",
       "      <th>Xiaomi</th>\n",
       "      <td>1,133.46</td>\n",
       "    </tr>\n",
       "    <tr>\n",
       "      <th>Dell</th>\n",
       "      <td>1,199.23</td>\n",
       "    </tr>\n",
       "    <tr>\n",
       "      <th>Toshiba</th>\n",
       "      <td>1,267.81</td>\n",
       "    </tr>\n",
       "    <tr>\n",
       "      <th>Samsung</th>\n",
       "      <td>1,413.44</td>\n",
       "    </tr>\n",
       "    <tr>\n",
       "      <th>Huawei</th>\n",
       "      <td>1,424.00</td>\n",
       "    </tr>\n",
       "    <tr>\n",
       "      <th>Apple</th>\n",
       "      <td>1,564.20</td>\n",
       "    </tr>\n",
       "    <tr>\n",
       "      <th>Microsoft</th>\n",
       "      <td>1,612.31</td>\n",
       "    </tr>\n",
       "    <tr>\n",
       "      <th>Google</th>\n",
       "      <td>1,677.67</td>\n",
       "    </tr>\n",
       "    <tr>\n",
       "      <th>MSI</th>\n",
       "      <td>1,728.91</td>\n",
       "    </tr>\n",
       "    <tr>\n",
       "      <th>LG</th>\n",
       "      <td>2,099.00</td>\n",
       "    </tr>\n",
       "    <tr>\n",
       "      <th>Razer</th>\n",
       "      <td>3,346.14</td>\n",
       "    </tr>\n",
       "  </tbody>\n",
       "</table>\n",
       "</div>"
      ],
      "text/plain": [
       "           Price_euros\n",
       "Company               \n",
       "Vero            217.43\n",
       "Mediacom        295.00\n",
       "Chuwi           314.30\n",
       "Acer            633.46\n",
       "Fujitsu         729.00\n",
       "HP            1,080.31\n",
       "Lenovo        1,093.86\n",
       "Asus          1,123.83\n",
       "Xiaomi        1,133.46\n",
       "Dell          1,199.23\n",
       "Toshiba       1,267.81\n",
       "Samsung       1,413.44\n",
       "Huawei        1,424.00\n",
       "Apple         1,564.20\n",
       "Microsoft     1,612.31\n",
       "Google        1,677.67\n",
       "MSI           1,728.91\n",
       "LG            2,099.00\n",
       "Razer         3,346.14"
      ]
     },
     "execution_count": 58,
     "metadata": {},
     "output_type": "execute_result"
    }
   ],
   "source": [
    "average_price"
   ]
  },
  {
   "cell_type": "code",
   "execution_count": 59,
   "id": "090b32a1-2901-4847-a931-fd00b7958b45",
   "metadata": {},
   "outputs": [],
   "source": [
    "average_price = average_price['Price_euros'].apply(lambda x: np.round(x, 2))"
   ]
  },
  {
   "cell_type": "code",
   "execution_count": 60,
   "id": "38bdfe4b-654d-4f8f-9561-9727dbedfc67",
   "metadata": {},
   "outputs": [
    {
     "data": {
      "text/plain": [
       "Company\n",
       "Vero          217.42\n",
       "Mediacom      295.00\n",
       "Chuwi         314.30\n",
       "Acer          633.46\n",
       "Fujitsu       729.00\n",
       "HP          1,080.31\n",
       "Lenovo      1,093.86\n",
       "Asus        1,123.83\n",
       "Xiaomi      1,133.46\n",
       "Dell        1,199.23\n",
       "Toshiba     1,267.81\n",
       "Samsung     1,413.44\n",
       "Huawei      1,424.00\n",
       "Apple       1,564.20\n",
       "Microsoft   1,612.31\n",
       "Google      1,677.67\n",
       "MSI         1,728.91\n",
       "LG          2,099.00\n",
       "Razer       3,346.14\n",
       "Name: Price_euros, dtype: float64"
      ]
     },
     "execution_count": 60,
     "metadata": {},
     "output_type": "execute_result"
    }
   ],
   "source": [
    "average_price"
   ]
  },
  {
   "cell_type": "code",
   "execution_count": 61,
   "id": "154df819-d037-4c27-b81c-c9274c7434b5",
   "metadata": {},
   "outputs": [],
   "source": [
    "average_price_text_format = average_price.apply(lambda x: '€' + str(x) if len(str(x).split('.')[-1]) == 2 else '€' + str(x) + '0') "
   ]
  },
  {
   "cell_type": "code",
   "execution_count": 62,
   "id": "db104771-19c2-400c-9d03-7f3b34825afd",
   "metadata": {},
   "outputs": [
    {
     "data": {
      "image/png": "[encoded data removed]",
      "text/plain": [
       "<Figure size 990x660 with 1 Axes>"
      ]
     },
     "metadata": {
      "needs_background": "light"
     },
     "output_type": "display_data"
    }
   ],
   "source": [
    "fig, ax = plt.subplots(figsize=(9,6), dpi=110)\n",
    "\n",
    "plt.barh(average_price.index, average_price)\n",
    "\n",
    "plt.title('\\nThe average Price of a Laptop by the Company\\n', color='#180C48', fontsize=12, fontweight='bold')\n",
    "plt.xticks(ticks=np.arange(0, 4001, 500))\n",
    "\n",
    "for (idx, val), price in zip(enumerate(average_price), average_price_text_format):\n",
    "    ax.text(val+20, idx, price, va='center', color='#5F1414', fontweight='light')\n",
    "\n",
    "\n",
    "ax.set_axisbelow(True)\n",
    "ax.grid(color='#D1D1D1', linestyle='dotted')\n",
    "plt.show()"
   ]
  },
  {
   "cell_type": "markdown",
   "id": "118d1da3-dcbf-49f4-a9b2-4b7d760fb9f3",
   "metadata": {},
   "source": [
    "# "
   ]
  },
  {
   "cell_type": "markdown",
   "id": "0db23854-baac-4ee4-9437-1bfabdd6a044",
   "metadata": {},
   "source": [
    "### ➥ What is the price of the most expensive laptop of each company?"
   ]
  },
  {
   "cell_type": "code",
   "execution_count": 63,
   "id": "73129908-89e2-4dd4-9ca2-420965327a42",
   "metadata": {},
   "outputs": [],
   "source": [
    "max_price = df.groupby('Company')['Price_euros'].max()\n",
    "max_price = max_price.rename('Max_price')"
   ]
  },
  {
   "cell_type": "code",
   "execution_count": 64,
   "id": "2fa75328-3380-49dc-b9df-8a41552f7496",
   "metadata": {},
   "outputs": [],
   "source": [
    "min_price = df.groupby('Company')['Price_euros'].min()\n",
    "min_price = min_price.rename('Min_price')"
   ]
  },
  {
   "cell_type": "code",
   "execution_count": 65,
   "id": "82f78137-aa12-4462-aba6-1bf09164e07a",
   "metadata": {},
   "outputs": [],
   "source": [
    "most_expensive_and_cheapest = pd.concat([ min_price, max_price], axis=1)"
   ]
  },
  {
   "cell_type": "code",
   "execution_count": 66,
   "id": "37f09f7b-5f59-4128-8de3-9de0cbc21d69",
   "metadata": {},
   "outputs": [],
   "source": [
    "most_expensive_and_cheapest.sort_values('Max_price', ascending=False, inplace=True)"
   ]
  },
  {
   "cell_type": "code",
   "execution_count": 67,
   "id": "56fa1890-485b-4642-90fc-106084d17194",
   "metadata": {},
   "outputs": [
    {
     "data": {
      "text/html": [
       "<div>\n",
       "<style scoped>\n",
       "    .dataframe tbody tr th:only-of-type {\n",
       "        vertical-align: middle;\n",
       "    }\n",
       "\n",
       "    .dataframe tbody tr th {\n",
       "        vertical-align: top;\n",
       "    }\n",
       "\n",
       "    .dataframe thead th {\n",
       "        text-align: right;\n",
       "    }\n",
       "</style>\n",
       "<table border=\"1\" class=\"dataframe\">\n",
       "  <thead>\n",
       "    <tr style=\"text-align: right;\">\n",
       "      <th></th>\n",
       "      <th>Min_price</th>\n",
       "      <th>Max_price</th>\n",
       "    </tr>\n",
       "    <tr>\n",
       "      <th>Company</th>\n",
       "      <th></th>\n",
       "      <th></th>\n",
       "    </tr>\n",
       "  </thead>\n",
       "  <tbody>\n",
       "    <tr>\n",
       "      <th>Razer</th>\n",
       "      <td>1,029.00</td>\n",
       "      <td>6,099.00</td>\n",
       "    </tr>\n",
       "    <tr>\n",
       "      <th>Lenovo</th>\n",
       "      <td>229.00</td>\n",
       "      <td>4,899.00</td>\n",
       "    </tr>\n",
       "    <tr>\n",
       "      <th>HP</th>\n",
       "      <td>209.00</td>\n",
       "      <td>4,389.00</td>\n",
       "    </tr>\n",
       "    <tr>\n",
       "      <th>Asus</th>\n",
       "      <td>191.90</td>\n",
       "      <td>3,975.00</td>\n",
       "    </tr>\n",
       "    <tr>\n",
       "      <th>Dell</th>\n",
       "      <td>274.90</td>\n",
       "      <td>3,659.40</td>\n",
       "    </tr>\n",
       "    <tr>\n",
       "      <th>Apple</th>\n",
       "      <td>898.94</td>\n",
       "      <td>2,858.00</td>\n",
       "    </tr>\n",
       "    <tr>\n",
       "      <th>Toshiba</th>\n",
       "      <td>447.00</td>\n",
       "      <td>2,799.00</td>\n",
       "    </tr>\n",
       "    <tr>\n",
       "      <th>MSI</th>\n",
       "      <td>839.00</td>\n",
       "      <td>2,799.00</td>\n",
       "    </tr>\n",
       "    <tr>\n",
       "      <th>Acer</th>\n",
       "      <td>174.00</td>\n",
       "      <td>2,599.00</td>\n",
       "    </tr>\n",
       "    <tr>\n",
       "      <th>Microsoft</th>\n",
       "      <td>989.00</td>\n",
       "      <td>2,589.00</td>\n",
       "    </tr>\n",
       "    <tr>\n",
       "      <th>LG</th>\n",
       "      <td>1,899.00</td>\n",
       "      <td>2,299.00</td>\n",
       "    </tr>\n",
       "    <tr>\n",
       "      <th>Google</th>\n",
       "      <td>1,275.00</td>\n",
       "      <td>2,199.00</td>\n",
       "    </tr>\n",
       "    <tr>\n",
       "      <th>Samsung</th>\n",
       "      <td>269.00</td>\n",
       "      <td>1,849.00</td>\n",
       "    </tr>\n",
       "    <tr>\n",
       "      <th>Huawei</th>\n",
       "      <td>1,349.00</td>\n",
       "      <td>1,499.00</td>\n",
       "    </tr>\n",
       "    <tr>\n",
       "      <th>Xiaomi</th>\n",
       "      <td>935.00</td>\n",
       "      <td>1,399.95</td>\n",
       "    </tr>\n",
       "    <tr>\n",
       "      <th>Fujitsu</th>\n",
       "      <td>649.00</td>\n",
       "      <td>799.00</td>\n",
       "    </tr>\n",
       "    <tr>\n",
       "      <th>Chuwi</th>\n",
       "      <td>244.99</td>\n",
       "      <td>449.00</td>\n",
       "    </tr>\n",
       "    <tr>\n",
       "      <th>Mediacom</th>\n",
       "      <td>239.00</td>\n",
       "      <td>389.00</td>\n",
       "    </tr>\n",
       "    <tr>\n",
       "      <th>Vero</th>\n",
       "      <td>196.00</td>\n",
       "      <td>260.00</td>\n",
       "    </tr>\n",
       "  </tbody>\n",
       "</table>\n",
       "</div>"
      ],
      "text/plain": [
       "           Min_price  Max_price\n",
       "Company                        \n",
       "Razer       1,029.00   6,099.00\n",
       "Lenovo        229.00   4,899.00\n",
       "HP            209.00   4,389.00\n",
       "Asus          191.90   3,975.00\n",
       "Dell          274.90   3,659.40\n",
       "Apple         898.94   2,858.00\n",
       "Toshiba       447.00   2,799.00\n",
       "MSI           839.00   2,799.00\n",
       "Acer          174.00   2,599.00\n",
       "Microsoft     989.00   2,589.00\n",
       "LG          1,899.00   2,299.00\n",
       "Google      1,275.00   2,199.00\n",
       "Samsung       269.00   1,849.00\n",
       "Huawei      1,349.00   1,499.00\n",
       "Xiaomi        935.00   1,399.95\n",
       "Fujitsu       649.00     799.00\n",
       "Chuwi         244.99     449.00\n",
       "Mediacom      239.00     389.00\n",
       "Vero          196.00     260.00"
      ]
     },
     "execution_count": 67,
     "metadata": {},
     "output_type": "execute_result"
    }
   ],
   "source": [
    "most_expensive_and_cheapest"
   ]
  },
  {
   "cell_type": "code",
   "execution_count": 68,
   "id": "5b193509-41ae-4aa7-b33a-44a52b3d2206",
   "metadata": {},
   "outputs": [
    {
     "data": {
      "text/plain": [
       "(19, 2)"
      ]
     },
     "execution_count": 68,
     "metadata": {},
     "output_type": "execute_result"
    }
   ],
   "source": [
    "most_expensive_and_cheapest.shape"
   ]
  },
  {
   "cell_type": "code",
   "execution_count": 69,
   "id": "bc84ff21-9fa0-412d-80fa-5db5d91b3b13",
   "metadata": {},
   "outputs": [
    {
     "data": {
      "image/png": "[encoded data removed]",
      "text/plain": [
       "<Figure size 1320x660 with 1 Axes>"
      ]
     },
     "metadata": {
      "needs_background": "light"
     },
     "output_type": "display_data"
    },
    {
     "name": "stdout",
     "output_type": "stream",
     "text": [
      "\n",
      " -> A quick note: The Prices from the graph are the maximum price of a laptop by the company!\n",
      "\n"
     ]
    }
   ],
   "source": [
    "fig, ax = plt.subplots(figsize=(12,6), dpi=110)\n",
    "\n",
    "plt.bar(most_expensive_and_cheapest.index, most_expensive_and_cheapest['Max_price'], label='The most expensive')\n",
    "plt.bar(most_expensive_and_cheapest.index, most_expensive_and_cheapest['Min_price'], label='The cheapest')\n",
    "\n",
    "\n",
    "plt.title('\\nThe price of the most expensive laptop of each company\\n', color='#180C48', fontsize=12, fontweight='bold')\n",
    "plt.xticks(rotation=45)\n",
    "plt.yticks(ticks=np.arange(0, 8001, 2000))\n",
    "\n",
    "\n",
    "for idx, val in enumerate(most_expensive_and_cheapest['Max_price']):\n",
    "    ax.text(idx, val+80, f'€{round(val):,}', ha='center', color='#5F1414', fontweight='light', fontsize=8)\n",
    "\n",
    "\n",
    "    \n",
    "plt.legend()\n",
    "ax.set_axisbelow(True)\n",
    "ax.grid(color='#D1D1D1', linestyle='dotted')\n",
    "plt.show()\n",
    "\n",
    "print('\\n -> A quick note: The Prices from the graph are the maximum price of a laptop by the company!\\n')"
   ]
  },
  {
   "cell_type": "markdown",
   "id": "b6b6efd2-6447-4070-ad85-86cfe2bb3f43",
   "metadata": {},
   "source": [
    "# "
   ]
  },
  {
   "cell_type": "markdown",
   "id": "8900a4b9-6c2b-43c9-a254-6ae2873dadb6",
   "metadata": {},
   "source": [
    "### ➥ What are the best top 5 Laptops reported at price?"
   ]
  },
  {
   "cell_type": "code",
   "execution_count": 70,
   "id": "6500c81d-55de-422a-8594-087c882e6a6d",
   "metadata": {},
   "outputs": [],
   "source": [
    "top5_laptops = df.sort_values('Price_euros', ascending=False).head(5)"
   ]
  },
  {
   "cell_type": "code",
   "execution_count": 71,
   "id": "bb163e26-fdb8-472d-901a-b963b001fa6a",
   "metadata": {},
   "outputs": [
    {
     "data": {
      "text/html": [
       "<div>\n",
       "<style scoped>\n",
       "    .dataframe tbody tr th:only-of-type {\n",
       "        vertical-align: middle;\n",
       "    }\n",
       "\n",
       "    .dataframe tbody tr th {\n",
       "        vertical-align: top;\n",
       "    }\n",
       "\n",
       "    .dataframe thead th {\n",
       "        text-align: right;\n",
       "    }\n",
       "</style>\n",
       "<table border=\"1\" class=\"dataframe\">\n",
       "  <thead>\n",
       "    <tr style=\"text-align: right;\">\n",
       "      <th></th>\n",
       "      <th>Company</th>\n",
       "      <th>Product</th>\n",
       "      <th>TypeName</th>\n",
       "      <th>Inches</th>\n",
       "      <th>ScreenResolution</th>\n",
       "      <th>Cpu</th>\n",
       "      <th>Ram_GB</th>\n",
       "      <th>First Storage</th>\n",
       "      <th>Second Storage</th>\n",
       "      <th>Gpu</th>\n",
       "      <th>OpSys</th>\n",
       "      <th>Weight_kg</th>\n",
       "      <th>Price_euros</th>\n",
       "    </tr>\n",
       "  </thead>\n",
       "  <tbody>\n",
       "    <tr>\n",
       "      <th>196</th>\n",
       "      <td>Razer</td>\n",
       "      <td>Blade Pro</td>\n",
       "      <td>Gaming</td>\n",
       "      <td>17.30</td>\n",
       "      <td>4K Ultra HD / Touchscreen 3840x2160</td>\n",
       "      <td>Intel Core i7 7820HK 2.9GHz</td>\n",
       "      <td>32</td>\n",
       "      <td>1TB SSD</td>\n",
       "      <td>NaN</td>\n",
       "      <td>Nvidia GeForce GTX 1080</td>\n",
       "      <td>Windows 10</td>\n",
       "      <td>3.49</td>\n",
       "      <td>6,099.00</td>\n",
       "    </tr>\n",
       "    <tr>\n",
       "      <th>830</th>\n",
       "      <td>Razer</td>\n",
       "      <td>Blade Pro</td>\n",
       "      <td>Gaming</td>\n",
       "      <td>17.30</td>\n",
       "      <td>4K Ultra HD / Touchscreen 3840x2160</td>\n",
       "      <td>Intel Core i7 7820HK 2.9GHz</td>\n",
       "      <td>32</td>\n",
       "      <td>512GB SSD</td>\n",
       "      <td>NaN</td>\n",
       "      <td>Nvidia GeForce GTX 1080</td>\n",
       "      <td>Windows 10</td>\n",
       "      <td>3.49</td>\n",
       "      <td>5,499.00</td>\n",
       "    </tr>\n",
       "    <tr>\n",
       "      <th>610</th>\n",
       "      <td>Lenovo</td>\n",
       "      <td>Thinkpad P51</td>\n",
       "      <td>Notebook</td>\n",
       "      <td>15.60</td>\n",
       "      <td>IPS Panel 4K Ultra HD 3840x2160</td>\n",
       "      <td>Intel Xeon E3-1535M v6 3.1GHz</td>\n",
       "      <td>32</td>\n",
       "      <td>1TB SSD</td>\n",
       "      <td>NaN</td>\n",
       "      <td>Nvidia Quadro M2200M</td>\n",
       "      <td>Windows 10</td>\n",
       "      <td>2.50</td>\n",
       "      <td>4,899.00</td>\n",
       "    </tr>\n",
       "    <tr>\n",
       "      <th>749</th>\n",
       "      <td>HP</td>\n",
       "      <td>Zbook 17</td>\n",
       "      <td>Workstation</td>\n",
       "      <td>17.30</td>\n",
       "      <td>IPS Panel Full HD 1920x1080</td>\n",
       "      <td>Intel Xeon E3-1535M v5 2.9GHz</td>\n",
       "      <td>16</td>\n",
       "      <td>256GB SSD</td>\n",
       "      <td>NaN</td>\n",
       "      <td>Nvidia Quadro M2000M</td>\n",
       "      <td>Windows 7</td>\n",
       "      <td>3.00</td>\n",
       "      <td>4,389.00</td>\n",
       "    </tr>\n",
       "    <tr>\n",
       "      <th>1066</th>\n",
       "      <td>Asus</td>\n",
       "      <td>ROG G701VO</td>\n",
       "      <td>Gaming</td>\n",
       "      <td>17.30</td>\n",
       "      <td>IPS Panel Full HD 1920x1080</td>\n",
       "      <td>Intel Core i7 6820HK 2.7GHz</td>\n",
       "      <td>64</td>\n",
       "      <td>1TB SSD</td>\n",
       "      <td>NaN</td>\n",
       "      <td>Nvidia GeForce GTX 980</td>\n",
       "      <td>Windows 10</td>\n",
       "      <td>3.58</td>\n",
       "      <td>3,975.00</td>\n",
       "    </tr>\n",
       "  </tbody>\n",
       "</table>\n",
       "</div>"
      ],
      "text/plain": [
       "     Company       Product     TypeName  Inches  \\\n",
       "196    Razer     Blade Pro       Gaming   17.30   \n",
       "830    Razer     Blade Pro       Gaming   17.30   \n",
       "610   Lenovo  Thinkpad P51     Notebook   15.60   \n",
       "749       HP      Zbook 17  Workstation   17.30   \n",
       "1066    Asus    ROG G701VO       Gaming   17.30   \n",
       "\n",
       "                         ScreenResolution                            Cpu  \\\n",
       "196   4K Ultra HD / Touchscreen 3840x2160    Intel Core i7 7820HK 2.9GHz   \n",
       "830   4K Ultra HD / Touchscreen 3840x2160    Intel Core i7 7820HK 2.9GHz   \n",
       "610       IPS Panel 4K Ultra HD 3840x2160  Intel Xeon E3-1535M v6 3.1GHz   \n",
       "749           IPS Panel Full HD 1920x1080  Intel Xeon E3-1535M v5 2.9GHz   \n",
       "1066          IPS Panel Full HD 1920x1080    Intel Core i7 6820HK 2.7GHz   \n",
       "\n",
       "      Ram_GB First Storage Second Storage                      Gpu  \\\n",
       "196       32       1TB SSD            NaN  Nvidia GeForce GTX 1080   \n",
       "830       32     512GB SSD            NaN  Nvidia GeForce GTX 1080   \n",
       "610       32       1TB SSD            NaN     Nvidia Quadro M2200M   \n",
       "749       16     256GB SSD            NaN     Nvidia Quadro M2000M   \n",
       "1066      64       1TB SSD            NaN  Nvidia GeForce GTX 980    \n",
       "\n",
       "           OpSys  Weight_kg  Price_euros  \n",
       "196   Windows 10       3.49     6,099.00  \n",
       "830   Windows 10       3.49     5,499.00  \n",
       "610   Windows 10       2.50     4,899.00  \n",
       "749    Windows 7       3.00     4,389.00  \n",
       "1066  Windows 10       3.58     3,975.00  "
      ]
     },
     "execution_count": 71,
     "metadata": {},
     "output_type": "execute_result"
    }
   ],
   "source": [
    "top5_laptops"
   ]
  },
  {
   "cell_type": "code",
   "execution_count": 72,
   "id": "f0d84f32-ab22-4f25-831e-64e9d1d8ce8b",
   "metadata": {},
   "outputs": [],
   "source": [
    "top5_laptops['Laptop'] = top5_laptops['Company'].astype('object') + ' ' + top5_laptops['Product'].astype('object')"
   ]
  },
  {
   "cell_type": "code",
   "execution_count": 73,
   "id": "044dd174-21e2-4fc2-bd18-830508369137",
   "metadata": {},
   "outputs": [],
   "source": [
    "top5_laptops = top5_laptops.loc[:, ['Laptop', 'Price_euros']]\n",
    "top5_laptops = top5_laptops.reset_index(drop=True)"
   ]
  },
  {
   "cell_type": "code",
   "execution_count": 74,
   "id": "2dde182a-411f-4606-9a65-f006d792eeea",
   "metadata": {},
   "outputs": [],
   "source": [
    "condition = top5_laptops['Price_euros'] == 6099.00\n",
    "\n",
    "top5_laptops.loc[condition, 'Laptop'] = 'Razer Blade Pro '"
   ]
  },
  {
   "cell_type": "code",
   "execution_count": 75,
   "id": "4ff4d540-9c84-4d0f-8858-1165f51e24a4",
   "metadata": {},
   "outputs": [
    {
     "data": {
      "text/html": [
       "<div>\n",
       "<style scoped>\n",
       "    .dataframe tbody tr th:only-of-type {\n",
       "        vertical-align: middle;\n",
       "    }\n",
       "\n",
       "    .dataframe tbody tr th {\n",
       "        vertical-align: top;\n",
       "    }\n",
       "\n",
       "    .dataframe thead th {\n",
       "        text-align: right;\n",
       "    }\n",
       "</style>\n",
       "<table border=\"1\" class=\"dataframe\">\n",
       "  <thead>\n",
       "    <tr style=\"text-align: right;\">\n",
       "      <th></th>\n",
       "      <th>Laptop</th>\n",
       "      <th>Price_euros</th>\n",
       "    </tr>\n",
       "  </thead>\n",
       "  <tbody>\n",
       "    <tr>\n",
       "      <th>0</th>\n",
       "      <td>Razer Blade Pro</td>\n",
       "      <td>6,099.00</td>\n",
       "    </tr>\n",
       "    <tr>\n",
       "      <th>1</th>\n",
       "      <td>Razer Blade Pro</td>\n",
       "      <td>5,499.00</td>\n",
       "    </tr>\n",
       "    <tr>\n",
       "      <th>2</th>\n",
       "      <td>Lenovo Thinkpad P51</td>\n",
       "      <td>4,899.00</td>\n",
       "    </tr>\n",
       "    <tr>\n",
       "      <th>3</th>\n",
       "      <td>HP Zbook 17</td>\n",
       "      <td>4,389.00</td>\n",
       "    </tr>\n",
       "    <tr>\n",
       "      <th>4</th>\n",
       "      <td>Asus ROG G701VO</td>\n",
       "      <td>3,975.00</td>\n",
       "    </tr>\n",
       "  </tbody>\n",
       "</table>\n",
       "</div>"
      ],
      "text/plain": [
       "                Laptop  Price_euros\n",
       "0     Razer Blade Pro      6,099.00\n",
       "1      Razer Blade Pro     5,499.00\n",
       "2  Lenovo Thinkpad P51     4,899.00\n",
       "3          HP Zbook 17     4,389.00\n",
       "4      Asus ROG G701VO     3,975.00"
      ]
     },
     "execution_count": 75,
     "metadata": {},
     "output_type": "execute_result"
    }
   ],
   "source": [
    "top5_laptops"
   ]
  },
  {
   "cell_type": "code",
   "execution_count": 76,
   "id": "c613a36b-0168-46bf-b723-08e692b715e1",
   "metadata": {},
   "outputs": [
    {
     "data": {
      "image/png": "[encoded data removed]",
      "text/plain": [
       "<Figure size 720x450 with 1 Axes>"
      ]
     },
     "metadata": {
      "needs_background": "light"
     },
     "output_type": "display_data"
    }
   ],
   "source": [
    "fig, ax = plt.subplots(figsize=(8,5), dpi=90)\n",
    "\n",
    "\n",
    "plt.bar(top5_laptops['Laptop'], top5_laptops['Price_euros'])\n",
    "\n",
    "\n",
    "plt.title('\\nTop 5 Best Laptops\\n', color='#180C48', fontsize=12, fontweight='bold')\n",
    "plt.xticks(rotation=25)\n",
    "plt.yticks(ticks=np.arange(0, 8001, 2000))\n",
    "\n",
    "for idx, val in enumerate(top5_laptops['Price_euros']):\n",
    "    ax.text(idx, val+80, f'€{round(val):,}', ha='center', color='#5F1414', fontweight='light', fontsize=11.8)\n",
    "\n",
    "\n",
    "ax.set_axisbelow(True)\n",
    "ax.grid(color='#D1D1D1', linestyle='dotted')\n",
    "plt.show()"
   ]
  },
  {
   "cell_type": "markdown",
   "id": "a20f42be-d9c4-4b06-9c5d-649116bf36dd",
   "metadata": {},
   "source": [
    "# "
   ]
  },
  {
   "cell_type": "markdown",
   "id": "cf8dda2c-f742-4fd1-9fba-9c2130ae1031",
   "metadata": {},
   "source": [
    "### ➥ Data Visualization Correlation"
   ]
  },
  {
   "cell_type": "code",
   "execution_count": 77,
   "id": "79dd8596-4f3c-45c9-9feb-9d3c0518ae60",
   "metadata": {},
   "outputs": [
    {
     "data": {
      "text/html": [
       "<div>\n",
       "<style scoped>\n",
       "    .dataframe tbody tr th:only-of-type {\n",
       "        vertical-align: middle;\n",
       "    }\n",
       "\n",
       "    .dataframe tbody tr th {\n",
       "        vertical-align: top;\n",
       "    }\n",
       "\n",
       "    .dataframe thead th {\n",
       "        text-align: right;\n",
       "    }\n",
       "</style>\n",
       "<table border=\"1\" class=\"dataframe\">\n",
       "  <thead>\n",
       "    <tr style=\"text-align: right;\">\n",
       "      <th></th>\n",
       "      <th>Inches</th>\n",
       "      <th>Ram_GB</th>\n",
       "      <th>Weight_kg</th>\n",
       "      <th>Price_euros</th>\n",
       "    </tr>\n",
       "  </thead>\n",
       "  <tbody>\n",
       "    <tr>\n",
       "      <th>Inches</th>\n",
       "      <td>1.00</td>\n",
       "      <td>0.24</td>\n",
       "      <td>0.83</td>\n",
       "      <td>0.07</td>\n",
       "    </tr>\n",
       "    <tr>\n",
       "      <th>Ram_GB</th>\n",
       "      <td>0.24</td>\n",
       "      <td>1.00</td>\n",
       "      <td>0.39</td>\n",
       "      <td>0.74</td>\n",
       "    </tr>\n",
       "    <tr>\n",
       "      <th>Weight_kg</th>\n",
       "      <td>0.83</td>\n",
       "      <td>0.39</td>\n",
       "      <td>1.00</td>\n",
       "      <td>0.21</td>\n",
       "    </tr>\n",
       "    <tr>\n",
       "      <th>Price_euros</th>\n",
       "      <td>0.07</td>\n",
       "      <td>0.74</td>\n",
       "      <td>0.21</td>\n",
       "      <td>1.00</td>\n",
       "    </tr>\n",
       "  </tbody>\n",
       "</table>\n",
       "</div>"
      ],
      "text/plain": [
       "             Inches  Ram_GB  Weight_kg  Price_euros\n",
       "Inches         1.00    0.24       0.83         0.07\n",
       "Ram_GB         0.24    1.00       0.39         0.74\n",
       "Weight_kg      0.83    0.39       1.00         0.21\n",
       "Price_euros    0.07    0.74       0.21         1.00"
      ]
     },
     "execution_count": 77,
     "metadata": {},
     "output_type": "execute_result"
    }
   ],
   "source": [
    "corrMatrix = df.corr()\n",
    "corrMatrix"
   ]
  },
  {
   "cell_type": "code",
   "execution_count": 78,
   "id": "b95cb3d2-8995-4858-8e55-a46008d69bce",
   "metadata": {},
   "outputs": [
    {
     "data": {
      "image/png": "[encoded data removed]",
      "text/plain": [
       "<Figure size 432x288 with 2 Axes>"
      ]
     },
     "metadata": {
      "needs_background": "light"
     },
     "output_type": "display_data"
    }
   ],
   "source": [
    "sn.heatmap(corrMatrix, annot=True)\n",
    "\n",
    "plt.show()"
   ]
  },
  {
   "cell_type": "code",
   "execution_count": 79,
   "id": "e88521ce-f07d-4fd6-86f6-8ad63f058425",
   "metadata": {},
   "outputs": [
    {
     "name": "stdout",
     "output_type": "stream",
     "text": [
      "\n",
      " -> We have a correlation between Ram and Price, which means they are positively correlated. More Ram on a Laptop is stronger related to a higher Price.\n",
      "\n",
      " -> Also there's a positive correlation between inches and weight. A higher display on a Laptop will result in a higher weight.\n",
      "\n"
     ]
    }
   ],
   "source": [
    "print('\\n -> We have a correlation between Ram and Price, which means they are positively correlated. More Ram on a Laptop is stronger related to a higher Price.')\n",
    "print('\\n -> Also there\\'s a positive correlation between inches and weight. A higher display on a Laptop will result in a higher weight.\\n')"
   ]
  }
 ],
 "metadata": {
  "kernelspec": {
   "display_name": "Python 3 (ipykernel)",
   "language": "python",
   "name": "python3"
  },
  "language_info": {
   "codemirror_mode": {
    "name": "ipython",
    "version": 3
   },
   "file_extension": ".py",
   "mimetype": "text/x-python",
   "name": "python",
   "nbconvert_exporter": "python",
   "pygments_lexer": "ipython3",
   "version": "3.9.7"
  }
 },
 "nbformat": 4,
 "nbformat_minor": 5
}
